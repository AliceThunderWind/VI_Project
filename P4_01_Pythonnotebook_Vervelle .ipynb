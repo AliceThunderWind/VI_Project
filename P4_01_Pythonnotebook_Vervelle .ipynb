{
 "cells": [
  {
   "cell_type": "markdown",
   "id": "3dd5a20f",
   "metadata": {},
   "source": [
    "## Task 2: Data discovery"
   ]
  },
  {
   "cell_type": "code",
   "execution_count": 1,
   "id": "8a89778b",
   "metadata": {},
   "outputs": [],
   "source": [
    "import pandas as pd  \n",
    "import matplotlib.pyplot as plt  \n",
    "import seaborn as sns  \n",
    "import numpy as np"
   ]
  },
  {
   "cell_type": "markdown",
   "id": "4e3f75fa",
   "metadata": {},
   "source": [
    "#### Creating a dataframe about each country's population :"
   ]
  },
  {
   "cell_type": "code",
   "execution_count": 2,
   "id": "b5d26963",
   "metadata": {},
   "outputs": [],
   "source": [
    "population = pd.read_csv('population_2014_2019.csv')  \n",
    "population_df = pd.DataFrame(population) \n",
    "population_df.columns = population_df.columns.str.strip().str.replace(' ', '_').str.lower()  \n",
    "population_df = population_df.rename(columns={'area':'country'})  \n",
    "population_df = population_df.drop(['element','item_code', 'element_code', 'year_code', 'flag','flag_description','area_code_(fao)','domain','domain_code','item'], axis=1)"
   ]
  },
  {
   "cell_type": "markdown",
   "id": "32d52b10",
   "metadata": {},
   "source": [
    "#### Calculating the total number of humans on the planet in 2014 and 2019 :"
   ]
  },
  {
   "cell_type": "code",
   "execution_count": 3,
   "id": "6393cff8",
   "metadata": {},
   "outputs": [
    {
     "data": {
      "text/plain": [
       "9118026110.0"
      ]
     },
     "execution_count": 3,
     "metadata": {},
     "output_type": "execute_result"
    }
   ],
   "source": [
    "population_df[(population_df.year==2014)].value.sum() * 1000\n",
    "population_df[(population_df.year==2019)].value.sum() * 1000"
   ]
  },
  {
   "cell_type": "markdown",
   "id": "a5e824fa",
   "metadata": {},
   "source": [
    "#### Identifying the redundancies among the 11 elements in the Food Balance Sheets : "
   ]
  },
  {
   "cell_type": "markdown",
   "id": "8f20dda3",
   "metadata": {},
   "source": [
    "Firstly, Domestic supply quantity is the sum of Production qty + Imports + Opening stock - Exports;\n",
    "\n",
    "Secondly, \"Food processing\" is booked for food that can't be consummed in its original form such as oats. When processed, the quantity is consequently added to food or feed and written off the food processing stock to avoid duplicates;\n",
    "\n",
    "As for the relation between all 11 elements : \n",
    "\n",
    "Domestic supply quantity = Production qty + Imports + Opening stock - Exports = Closing stock + Food + Feed + Seed + Losses + Processed + Others uses + Tourist consumption + Residuals\n",
    "\n",
    "Domestic supply quantity = Production qty + Imports + Opening stock - Exports = Production quantity + Imports - Exports - Stock variation = Food + Feed + Seed + Losses + Processed + Others uses + Tourist consumption + Residuals"
   ]
  },
  {
   "cell_type": "markdown",
   "id": "e62ac583",
   "metadata": {},
   "source": [
    "#### Checking this equation with the example of wheat in France :"
   ]
  },
  {
   "cell_type": "code",
   "execution_count": 4,
   "id": "3c1f8eec",
   "metadata": {},
   "outputs": [],
   "source": [
    "wheat_fr_2019 = pd.read_csv('wheat_france.csv')\n",
    "wheat_fr_2019_df = pd.DataFrame(wheat_fr_2019) \n",
    "wheat_fr_2019_df.columns = wheat_fr_2019_df.columns.str.strip().str.replace(' ', '_').str.lower()   \n",
    "wheat_fr_2019_df = wheat_fr_2019_df.drop(['item_code', 'element_code', 'year_code', 'flag','flag_description','area_code_(fao)','domain','domain_code'], axis=1).rename(columns={'area':'country'})"
   ]
  },
  {
   "cell_type": "code",
   "execution_count": 5,
   "id": "aedd721a",
   "metadata": {},
   "outputs": [],
   "source": [
    "x1 = wheat_fr_2019_df[(wheat_fr_2019_df.element==\"Production\")].value.sum()\n",
    "x2 = wheat_fr_2019_df[(wheat_fr_2019_df.element==\"Import Quantity\")].value.sum()\n",
    "x3 = wheat_fr_2019_df[(wheat_fr_2019_df.element==\"Export Quantity\")].value.sum()\n",
    "x4 = wheat_fr_2019_df[(wheat_fr_2019_df.element==\"Stock Variation\")].value.sum()"
   ]
  },
  {
   "cell_type": "code",
   "execution_count": 6,
   "id": "5cf30e72",
   "metadata": {},
   "outputs": [
    {
     "data": {
      "text/plain": [
       "20338"
      ]
     },
     "execution_count": 6,
     "metadata": {},
     "output_type": "execute_result"
    }
   ],
   "source": [
    "Domestic_supply_quantity = int(x1 + x2 - x3 - x4)\n",
    "Domestic_supply_quantity"
   ]
  },
  {
   "cell_type": "code",
   "execution_count": 7,
   "id": "955bfae5",
   "metadata": {},
   "outputs": [],
   "source": [
    "x5 = wheat_fr_2019_df[(wheat_fr_2019_df.element==\"Food\")].value.sum()\n",
    "x6 = wheat_fr_2019_df[(wheat_fr_2019_df.element==\"Feed\")].value.sum()\n",
    "x7 = wheat_fr_2019_df[(wheat_fr_2019_df.element==\"Seed\")].value.sum()\n",
    "x8 = wheat_fr_2019_df[(wheat_fr_2019_df.element==\"Losses\")].value.sum()\n",
    "x9 = wheat_fr_2019_df[(wheat_fr_2019_df.element==\"Processing\")].value.sum()\n",
    "x10 = wheat_fr_2019_df[(wheat_fr_2019_df.element==\"Other uses (non-food)\")].value.sum()\n",
    "x11 = wheat_fr_2019_df[(wheat_fr_2019_df.element==\"Residuals\")].value.sum()"
   ]
  },
  {
   "cell_type": "code",
   "execution_count": 8,
   "id": "2f643ac0",
   "metadata": {},
   "outputs": [
    {
     "data": {
      "text/plain": [
       "20338"
      ]
     },
     "execution_count": 8,
     "metadata": {},
     "output_type": "execute_result"
    }
   ],
   "source": [
    "Domestic_supply_quantity = int(x5 + x6 + x7 + x8 + x9 + x10 + x11)\n",
    "Domestic_supply_quantity"
   ]
  },
  {
   "cell_type": "markdown",
   "id": "06a86eb4",
   "metadata": {},
   "source": [
    "#### Conclusion :"
   ]
  },
  {
   "cell_type": "markdown",
   "id": "7b1de50b",
   "metadata": {},
   "source": [
    "All 3 terms have been verified."
   ]
  },
  {
   "cell_type": "markdown",
   "id": "c4b24b4f",
   "metadata": {},
   "source": [
    "## Task 3: Cleaning the data, starting by renaming our columns"
   ]
  },
  {
   "cell_type": "code",
   "execution_count": 9,
   "id": "6f030b0d",
   "metadata": {},
   "outputs": [
    {
     "data": {
      "text/html": [
       "<div>\n",
       "<style scoped>\n",
       "    .dataframe tbody tr th:only-of-type {\n",
       "        vertical-align: middle;\n",
       "    }\n",
       "\n",
       "    .dataframe tbody tr th {\n",
       "        vertical-align: top;\n",
       "    }\n",
       "\n",
       "    .dataframe thead th {\n",
       "        text-align: right;\n",
       "    }\n",
       "</style>\n",
       "<table border=\"1\" class=\"dataframe\">\n",
       "  <thead>\n",
       "    <tr style=\"text-align: right;\">\n",
       "      <th></th>\n",
       "      <th>country</th>\n",
       "      <th>year</th>\n",
       "      <th>unit</th>\n",
       "      <th>value</th>\n",
       "    </tr>\n",
       "  </thead>\n",
       "  <tbody>\n",
       "    <tr>\n",
       "      <th>0</th>\n",
       "      <td>Afghanistan</td>\n",
       "      <td>2014</td>\n",
       "      <td>1000 persons</td>\n",
       "      <td>33371.0</td>\n",
       "    </tr>\n",
       "    <tr>\n",
       "      <th>1</th>\n",
       "      <td>Afghanistan</td>\n",
       "      <td>2019</td>\n",
       "      <td>1000 persons</td>\n",
       "      <td>38042.0</td>\n",
       "    </tr>\n",
       "    <tr>\n",
       "      <th>2</th>\n",
       "      <td>Albania</td>\n",
       "      <td>2014</td>\n",
       "      <td>1000 persons</td>\n",
       "      <td>2896.0</td>\n",
       "    </tr>\n",
       "    <tr>\n",
       "      <th>3</th>\n",
       "      <td>Albania</td>\n",
       "      <td>2019</td>\n",
       "      <td>1000 persons</td>\n",
       "      <td>2881.0</td>\n",
       "    </tr>\n",
       "    <tr>\n",
       "      <th>4</th>\n",
       "      <td>Algeria</td>\n",
       "      <td>2014</td>\n",
       "      <td>1000 persons</td>\n",
       "      <td>38924.0</td>\n",
       "    </tr>\n",
       "    <tr>\n",
       "      <th>...</th>\n",
       "      <td>...</td>\n",
       "      <td>...</td>\n",
       "      <td>...</td>\n",
       "      <td>...</td>\n",
       "    </tr>\n",
       "    <tr>\n",
       "      <th>355</th>\n",
       "      <td>Yemen</td>\n",
       "      <td>2019</td>\n",
       "      <td>1000 persons</td>\n",
       "      <td>29162.0</td>\n",
       "    </tr>\n",
       "    <tr>\n",
       "      <th>356</th>\n",
       "      <td>Zambia</td>\n",
       "      <td>2014</td>\n",
       "      <td>1000 persons</td>\n",
       "      <td>15400.0</td>\n",
       "    </tr>\n",
       "    <tr>\n",
       "      <th>357</th>\n",
       "      <td>Zambia</td>\n",
       "      <td>2019</td>\n",
       "      <td>1000 persons</td>\n",
       "      <td>17861.0</td>\n",
       "    </tr>\n",
       "    <tr>\n",
       "      <th>358</th>\n",
       "      <td>Zimbabwe</td>\n",
       "      <td>2014</td>\n",
       "      <td>1000 persons</td>\n",
       "      <td>13587.0</td>\n",
       "    </tr>\n",
       "    <tr>\n",
       "      <th>359</th>\n",
       "      <td>Zimbabwe</td>\n",
       "      <td>2019</td>\n",
       "      <td>1000 persons</td>\n",
       "      <td>14645.0</td>\n",
       "    </tr>\n",
       "  </tbody>\n",
       "</table>\n",
       "<p>360 rows × 4 columns</p>\n",
       "</div>"
      ],
      "text/plain": [
       "         country  year          unit    value\n",
       "0    Afghanistan  2014  1000 persons  33371.0\n",
       "1    Afghanistan  2019  1000 persons  38042.0\n",
       "2        Albania  2014  1000 persons   2896.0\n",
       "3        Albania  2019  1000 persons   2881.0\n",
       "4        Algeria  2014  1000 persons  38924.0\n",
       "..           ...   ...           ...      ...\n",
       "355        Yemen  2019  1000 persons  29162.0\n",
       "356       Zambia  2014  1000 persons  15400.0\n",
       "357       Zambia  2019  1000 persons  17861.0\n",
       "358     Zimbabwe  2014  1000 persons  13587.0\n",
       "359     Zimbabwe  2019  1000 persons  14645.0\n",
       "\n",
       "[360 rows x 4 columns]"
      ]
     },
     "execution_count": 9,
     "metadata": {},
     "output_type": "execute_result"
    }
   ],
   "source": [
    "import pandas as pd  \n",
    "import matplotlib.pyplot as plt  \n",
    "import seaborn as sns  \n",
    "import numpy as np  \n",
    "\n",
    "population = pd.read_csv('population_2014_2019.csv')  \n",
    "population_df = pd.DataFrame(population) \n",
    "population_df.columns = population_df.columns.str.strip().str.replace(' ', '_').str.lower()  \n",
    "population_df = population_df.rename(columns={'area':'country'})  \n",
    "population_df = population_df.drop(['element','item_code', 'element_code', 'year_code', 'flag','flag_description','area_code_(fao)','domain','domain_code','item'], axis=1)\n",
    "population_df"
   ]
  },
  {
   "cell_type": "markdown",
   "id": "febaa904",
   "metadata": {},
   "source": [
    "#### Checking for duplicates, Nan and suspect data :"
   ]
  },
  {
   "cell_type": "code",
   "execution_count": 10,
   "id": "598abd11",
   "metadata": {},
   "outputs": [
    {
     "data": {
      "text/plain": [
       "country    0\n",
       "year       0\n",
       "unit       0\n",
       "value      0\n",
       "dtype: int64"
      ]
     },
     "execution_count": 10,
     "metadata": {},
     "output_type": "execute_result"
    }
   ],
   "source": [
    "population_df.describe()\n",
    "population_df[population_df.duplicated()==True].count()\n",
    "population_df[population_df.isna()==True].count()"
   ]
  },
  {
   "cell_type": "markdown",
   "id": "20c4b667",
   "metadata": {},
   "source": [
    "#### Conclusion :"
   ]
  },
  {
   "cell_type": "markdown",
   "id": "3a9f22c2",
   "metadata": {},
   "source": [
    "None found, though the number of countries doesn't seem right. After checking, it appears some items were duplicated under the form of aggregated / individualized data : China mainland, China Macao, China Taiwan and China Hong Kong are all elements adding up to China's total population; Either way, one needs to be removed to avoid double counting."
   ]
  },
  {
   "cell_type": "markdown",
   "id": "2d439d0a",
   "metadata": {},
   "source": [
    "Filtering \"China\" out of the set :"
   ]
  },
  {
   "cell_type": "code",
   "execution_count": 11,
   "id": "f229c203",
   "metadata": {},
   "outputs": [],
   "source": [
    "population_df = population_df[(population_df.country!=\"China\")]"
   ]
  },
  {
   "cell_type": "markdown",
   "id": "226b0dc2",
   "metadata": {},
   "source": [
    "#### Verifying the accuraciy of the total population of the data set with the official figure :"
   ]
  },
  {
   "cell_type": "code",
   "execution_count": 12,
   "id": "05dc6cd2",
   "metadata": {},
   "outputs": [],
   "source": [
    "population_pt = pd.pivot_table(population_df, values='value', index='country', columns=['year'], aggfunc = np.sum, margins=True)"
   ]
  },
  {
   "cell_type": "markdown",
   "id": "2b9c5ce9",
   "metadata": {},
   "source": [
    "#### Conclusion : "
   ]
  },
  {
   "cell_type": "markdown",
   "id": "f56bf74f",
   "metadata": {},
   "source": [
    "The data appears to be sufficiently accurate with an official total population for 2014 of 7.2 billion inhabitants;"
   ]
  },
  {
   "cell_type": "markdown",
   "id": "7db58337",
   "metadata": {},
   "source": [
    "## Task 4 : Computing new variables"
   ]
  },
  {
   "cell_type": "markdown",
   "id": "b9817f70",
   "metadata": {},
   "source": [
    "### New variable : food supply in kg"
   ]
  },
  {
   "cell_type": "code",
   "execution_count": 14,
   "id": "827b620e",
   "metadata": {},
   "outputs": [
    {
     "data": {
      "text/html": [
       "<div>\n",
       "<style scoped>\n",
       "    .dataframe tbody tr th:only-of-type {\n",
       "        vertical-align: middle;\n",
       "    }\n",
       "\n",
       "    .dataframe tbody tr th {\n",
       "        vertical-align: top;\n",
       "    }\n",
       "\n",
       "    .dataframe thead th {\n",
       "        text-align: right;\n",
       "    }\n",
       "</style>\n",
       "<table border=\"1\" class=\"dataframe\">\n",
       "  <thead>\n",
       "    <tr style=\"text-align: right;\">\n",
       "      <th></th>\n",
       "      <th>country</th>\n",
       "      <th>element</th>\n",
       "      <th>item</th>\n",
       "      <th>year</th>\n",
       "      <th>unit</th>\n",
       "      <th>value</th>\n",
       "    </tr>\n",
       "  </thead>\n",
       "  <tbody>\n",
       "    <tr>\n",
       "      <th>0</th>\n",
       "      <td>Afghanistan</td>\n",
       "      <td>Production</td>\n",
       "      <td>Wheat and products</td>\n",
       "      <td>2014</td>\n",
       "      <td>1000 tonnes</td>\n",
       "      <td>5370.00</td>\n",
       "    </tr>\n",
       "    <tr>\n",
       "      <th>1</th>\n",
       "      <td>Afghanistan</td>\n",
       "      <td>Import Quantity</td>\n",
       "      <td>Wheat and products</td>\n",
       "      <td>2014</td>\n",
       "      <td>1000 tonnes</td>\n",
       "      <td>1466.00</td>\n",
       "    </tr>\n",
       "    <tr>\n",
       "      <th>2</th>\n",
       "      <td>Afghanistan</td>\n",
       "      <td>Stock Variation</td>\n",
       "      <td>Wheat and products</td>\n",
       "      <td>2014</td>\n",
       "      <td>1000 tonnes</td>\n",
       "      <td>250.00</td>\n",
       "    </tr>\n",
       "    <tr>\n",
       "      <th>3</th>\n",
       "      <td>Afghanistan</td>\n",
       "      <td>Export Quantity</td>\n",
       "      <td>Wheat and products</td>\n",
       "      <td>2014</td>\n",
       "      <td>1000 tonnes</td>\n",
       "      <td>0.00</td>\n",
       "    </tr>\n",
       "    <tr>\n",
       "      <th>4</th>\n",
       "      <td>Afghanistan</td>\n",
       "      <td>Domestic supply quantity</td>\n",
       "      <td>Wheat and products</td>\n",
       "      <td>2014</td>\n",
       "      <td>1000 tonnes</td>\n",
       "      <td>6586.00</td>\n",
       "    </tr>\n",
       "    <tr>\n",
       "      <th>...</th>\n",
       "      <td>...</td>\n",
       "      <td>...</td>\n",
       "      <td>...</td>\n",
       "      <td>...</td>\n",
       "      <td>...</td>\n",
       "      <td>...</td>\n",
       "    </tr>\n",
       "    <tr>\n",
       "      <th>184781</th>\n",
       "      <td>Zimbabwe</td>\n",
       "      <td>Food</td>\n",
       "      <td>Miscellaneous</td>\n",
       "      <td>2019</td>\n",
       "      <td>1000 tonnes</td>\n",
       "      <td>31.00</td>\n",
       "    </tr>\n",
       "    <tr>\n",
       "      <th>184782</th>\n",
       "      <td>Zimbabwe</td>\n",
       "      <td>Food supply quantity (kg/capita/yr)</td>\n",
       "      <td>Miscellaneous</td>\n",
       "      <td>2019</td>\n",
       "      <td>kg</td>\n",
       "      <td>2.11</td>\n",
       "    </tr>\n",
       "    <tr>\n",
       "      <th>184783</th>\n",
       "      <td>Zimbabwe</td>\n",
       "      <td>Food supply (kcal/capita/day)</td>\n",
       "      <td>Miscellaneous</td>\n",
       "      <td>2019</td>\n",
       "      <td>kcal/capita/day</td>\n",
       "      <td>2.00</td>\n",
       "    </tr>\n",
       "    <tr>\n",
       "      <th>184784</th>\n",
       "      <td>Zimbabwe</td>\n",
       "      <td>Protein supply quantity (g/capita/day)</td>\n",
       "      <td>Miscellaneous</td>\n",
       "      <td>2019</td>\n",
       "      <td>g/capita/day</td>\n",
       "      <td>0.07</td>\n",
       "    </tr>\n",
       "    <tr>\n",
       "      <th>184785</th>\n",
       "      <td>Zimbabwe</td>\n",
       "      <td>Fat supply quantity (g/capita/day)</td>\n",
       "      <td>Miscellaneous</td>\n",
       "      <td>2019</td>\n",
       "      <td>g/capita/day</td>\n",
       "      <td>0.03</td>\n",
       "    </tr>\n",
       "  </tbody>\n",
       "</table>\n",
       "<p>368792 rows × 6 columns</p>\n",
       "</div>"
      ],
      "text/plain": [
       "            country                                 element  \\\n",
       "0       Afghanistan                              Production   \n",
       "1       Afghanistan                         Import Quantity   \n",
       "2       Afghanistan                         Stock Variation   \n",
       "3       Afghanistan                         Export Quantity   \n",
       "4       Afghanistan                Domestic supply quantity   \n",
       "...             ...                                     ...   \n",
       "184781     Zimbabwe                                    Food   \n",
       "184782     Zimbabwe     Food supply quantity (kg/capita/yr)   \n",
       "184783     Zimbabwe           Food supply (kcal/capita/day)   \n",
       "184784     Zimbabwe  Protein supply quantity (g/capita/day)   \n",
       "184785     Zimbabwe      Fat supply quantity (g/capita/day)   \n",
       "\n",
       "                      item  year             unit    value  \n",
       "0       Wheat and products  2014      1000 tonnes  5370.00  \n",
       "1       Wheat and products  2014      1000 tonnes  1466.00  \n",
       "2       Wheat and products  2014      1000 tonnes   250.00  \n",
       "3       Wheat and products  2014      1000 tonnes     0.00  \n",
       "4       Wheat and products  2014      1000 tonnes  6586.00  \n",
       "...                    ...   ...              ...      ...  \n",
       "184781       Miscellaneous  2019      1000 tonnes    31.00  \n",
       "184782       Miscellaneous  2019               kg     2.11  \n",
       "184783       Miscellaneous  2019  kcal/capita/day     2.00  \n",
       "184784       Miscellaneous  2019     g/capita/day     0.07  \n",
       "184785       Miscellaneous  2019     g/capita/day     0.03  \n",
       "\n",
       "[368792 rows x 6 columns]"
      ]
     },
     "execution_count": 14,
     "metadata": {},
     "output_type": "execute_result"
    }
   ],
   "source": [
    "food_supply_2014 = pd.read_csv('food_supply_2014.csv')  \n",
    "food_supply_2019 = pd.read_csv('food_supply_2019.csv')\n",
    "\n",
    "frame1 = (food_supply_2014, food_supply_2019)\n",
    "food_supply = pd.concat(frame1)\n",
    "\n",
    "food_supply_df = pd.DataFrame(food_supply) \n",
    "food_supply_df.columns = food_supply_df.columns.str.strip().str.replace(' ', '_').str.lower()   \n",
    "food_supply_df = food_supply_df.drop(['item_code', 'element_code', 'year_code', 'flag','flag_description','area_code_(fao)','domain','domain_code'], axis=1).rename(columns={'area':'country'})\n",
    "food_supply_df"
   ]
  },
  {
   "cell_type": "markdown",
   "id": "92d324e6",
   "metadata": {},
   "source": [
    "#### Checking for duplicates, Nan and suspect data :"
   ]
  },
  {
   "cell_type": "code",
   "execution_count": 15,
   "id": "f7f80d90",
   "metadata": {},
   "outputs": [
    {
     "data": {
      "text/plain": [
       "country    0\n",
       "element    0\n",
       "item       0\n",
       "year       0\n",
       "unit       0\n",
       "value      0\n",
       "dtype: int64"
      ]
     },
     "execution_count": 15,
     "metadata": {},
     "output_type": "execute_result"
    }
   ],
   "source": [
    "food_supply_df.describe()\n",
    "food_supply_df[food_supply_df.duplicated()==True].count()\n",
    "food_supply_df[food_supply_df.isna()==True].count()"
   ]
  },
  {
   "cell_type": "code",
   "execution_count": 18,
   "id": "cf415a57",
   "metadata": {},
   "outputs": [],
   "source": [
    "food_supply_kg_2014 = food_supply_df[(food_supply_df.element=='Food')&(food_supply_df.year==2014)].reset_index(drop=True)\n",
    "food_supply_kg_2014 = food_supply_kg_2014.drop(columns={'year'}).rename(columns={'value':'food_2014'}).groupby(['country', 'item']).sum().reset_index()\n",
    "\n",
    "food_supply_kg_2019 = food_supply_df[(food_supply_df.element=='Food')&(food_supply_df.year==2019)].reset_index(drop=True)\n",
    "food_supply_kg_2019 = food_supply_kg_2019.drop(columns={'year'}).rename(columns={'value':'food_2019'}).groupby(['country', 'item']).sum().reset_index()\n",
    "\n",
    "population_df_2014 = population_df[(population_df.year==2014)].filter(items=['country', 'value']).reset_index(drop=True)\n",
    "population_df_2014 = population_df_2014.rename(columns={'value':'population_2014'})\n",
    "\n",
    "population_df_2019 = population_df[(population_df.year==2019)].filter(items=['country', 'value']).reset_index(drop=True)\n",
    "population_df_2019 = population_df_2019.rename(columns={'value':'population_2019'})\n",
    "\n",
    "frame = (food_supply_kg_2014, food_supply_kg_2019)\n",
    "food_supply_con = pd.concat(frame)\n",
    "food_supply_con = food_supply_con.groupby(['country', 'item']).sum().reset_index()\n"
   ]
  },
  {
   "cell_type": "markdown",
   "id": "c10729b8",
   "metadata": {},
   "source": [
    "#### Variable food_supply_kg for year 2014 and 2019"
   ]
  },
  {
   "cell_type": "code",
   "execution_count": 19,
   "id": "bba5da17",
   "metadata": {},
   "outputs": [],
   "source": [
    "food_supply_con['food_supply_kg_2014'] = food_supply_con['food_2014'] * 1000000\n",
    "food_supply_con['food_supply_kg_2019'] = food_supply_con['food_2019'] * 1000000"
   ]
  },
  {
   "cell_type": "code",
   "execution_count": 20,
   "id": "616e1118",
   "metadata": {},
   "outputs": [
    {
     "data": {
      "text/html": [
       "<div>\n",
       "<style scoped>\n",
       "    .dataframe tbody tr th:only-of-type {\n",
       "        vertical-align: middle;\n",
       "    }\n",
       "\n",
       "    .dataframe tbody tr th {\n",
       "        vertical-align: top;\n",
       "    }\n",
       "\n",
       "    .dataframe thead th {\n",
       "        text-align: right;\n",
       "    }\n",
       "</style>\n",
       "<table border=\"1\" class=\"dataframe\">\n",
       "  <thead>\n",
       "    <tr style=\"text-align: right;\">\n",
       "      <th></th>\n",
       "      <th>country</th>\n",
       "      <th>item</th>\n",
       "      <th>food_2014</th>\n",
       "      <th>food_2019</th>\n",
       "      <th>food_supply_kg_2014</th>\n",
       "      <th>food_supply_kg_2019</th>\n",
       "    </tr>\n",
       "  </thead>\n",
       "  <tbody>\n",
       "    <tr>\n",
       "      <th>0</th>\n",
       "      <td>Afghanistan</td>\n",
       "      <td>Apples and products</td>\n",
       "      <td>114.0</td>\n",
       "      <td>166.0</td>\n",
       "      <td>114000000.0</td>\n",
       "      <td>166000000.0</td>\n",
       "    </tr>\n",
       "    <tr>\n",
       "      <th>1</th>\n",
       "      <td>Afghanistan</td>\n",
       "      <td>Bananas</td>\n",
       "      <td>64.0</td>\n",
       "      <td>118.0</td>\n",
       "      <td>64000000.0</td>\n",
       "      <td>118000000.0</td>\n",
       "    </tr>\n",
       "    <tr>\n",
       "      <th>2</th>\n",
       "      <td>Afghanistan</td>\n",
       "      <td>Barley and products</td>\n",
       "      <td>44.0</td>\n",
       "      <td>13.0</td>\n",
       "      <td>44000000.0</td>\n",
       "      <td>13000000.0</td>\n",
       "    </tr>\n",
       "    <tr>\n",
       "      <th>3</th>\n",
       "      <td>Afghanistan</td>\n",
       "      <td>Beans</td>\n",
       "      <td>0.0</td>\n",
       "      <td>0.0</td>\n",
       "      <td>0.0</td>\n",
       "      <td>0.0</td>\n",
       "    </tr>\n",
       "    <tr>\n",
       "      <th>4</th>\n",
       "      <td>Afghanistan</td>\n",
       "      <td>Beer</td>\n",
       "      <td>1.0</td>\n",
       "      <td>1.0</td>\n",
       "      <td>1000000.0</td>\n",
       "      <td>1000000.0</td>\n",
       "    </tr>\n",
       "    <tr>\n",
       "      <th>...</th>\n",
       "      <td>...</td>\n",
       "      <td>...</td>\n",
       "      <td>...</td>\n",
       "      <td>...</td>\n",
       "      <td>...</td>\n",
       "      <td>...</td>\n",
       "    </tr>\n",
       "    <tr>\n",
       "      <th>15536</th>\n",
       "      <td>Zimbabwe</td>\n",
       "      <td>Tea (including mate)</td>\n",
       "      <td>0.0</td>\n",
       "      <td>0.0</td>\n",
       "      <td>0.0</td>\n",
       "      <td>0.0</td>\n",
       "    </tr>\n",
       "    <tr>\n",
       "      <th>15537</th>\n",
       "      <td>Zimbabwe</td>\n",
       "      <td>Tomatoes and products</td>\n",
       "      <td>25.0</td>\n",
       "      <td>26.0</td>\n",
       "      <td>25000000.0</td>\n",
       "      <td>26000000.0</td>\n",
       "    </tr>\n",
       "    <tr>\n",
       "      <th>15538</th>\n",
       "      <td>Zimbabwe</td>\n",
       "      <td>Vegetables, other</td>\n",
       "      <td>188.0</td>\n",
       "      <td>189.0</td>\n",
       "      <td>188000000.0</td>\n",
       "      <td>189000000.0</td>\n",
       "    </tr>\n",
       "    <tr>\n",
       "      <th>15539</th>\n",
       "      <td>Zimbabwe</td>\n",
       "      <td>Wheat and products</td>\n",
       "      <td>397.0</td>\n",
       "      <td>370.0</td>\n",
       "      <td>397000000.0</td>\n",
       "      <td>370000000.0</td>\n",
       "    </tr>\n",
       "    <tr>\n",
       "      <th>15540</th>\n",
       "      <td>Zimbabwe</td>\n",
       "      <td>Wine</td>\n",
       "      <td>4.0</td>\n",
       "      <td>2.0</td>\n",
       "      <td>4000000.0</td>\n",
       "      <td>2000000.0</td>\n",
       "    </tr>\n",
       "  </tbody>\n",
       "</table>\n",
       "<p>15541 rows × 6 columns</p>\n",
       "</div>"
      ],
      "text/plain": [
       "           country                   item  food_2014  food_2019  \\\n",
       "0      Afghanistan    Apples and products      114.0      166.0   \n",
       "1      Afghanistan                Bananas       64.0      118.0   \n",
       "2      Afghanistan    Barley and products       44.0       13.0   \n",
       "3      Afghanistan                  Beans        0.0        0.0   \n",
       "4      Afghanistan                   Beer        1.0        1.0   \n",
       "...            ...                    ...        ...        ...   \n",
       "15536     Zimbabwe   Tea (including mate)        0.0        0.0   \n",
       "15537     Zimbabwe  Tomatoes and products       25.0       26.0   \n",
       "15538     Zimbabwe      Vegetables, other      188.0      189.0   \n",
       "15539     Zimbabwe     Wheat and products      397.0      370.0   \n",
       "15540     Zimbabwe                   Wine        4.0        2.0   \n",
       "\n",
       "       food_supply_kg_2014  food_supply_kg_2019  \n",
       "0              114000000.0          166000000.0  \n",
       "1               64000000.0          118000000.0  \n",
       "2               44000000.0           13000000.0  \n",
       "3                      0.0                  0.0  \n",
       "4                1000000.0            1000000.0  \n",
       "...                    ...                  ...  \n",
       "15536                  0.0                  0.0  \n",
       "15537           25000000.0           26000000.0  \n",
       "15538          188000000.0          189000000.0  \n",
       "15539          397000000.0          370000000.0  \n",
       "15540            4000000.0            2000000.0  \n",
       "\n",
       "[15541 rows x 6 columns]"
      ]
     },
     "execution_count": 20,
     "metadata": {},
     "output_type": "execute_result"
    }
   ],
   "source": [
    "food_supply_con"
   ]
  },
  {
   "cell_type": "markdown",
   "id": "1adf5477",
   "metadata": {},
   "source": [
    "### New variable : food_supply_kcal"
   ]
  },
  {
   "cell_type": "code",
   "execution_count": 21,
   "id": "64ec160e",
   "metadata": {},
   "outputs": [],
   "source": [
    "food_supply_kcal_capita_2014 = food_supply_df[(food_supply_df.element=='Food supply (kcal/capita/day)')&(food_supply_df.year==2014)].reset_index(drop=True)\n",
    "food_supply_kcal_capita_2014 = food_supply_kcal_capita_2014.drop(columns={'year'}).rename(columns={'value':'food_supply_kcal_capita_2014'}).groupby(['country', 'item']).sum().reset_index()\n",
    "\n",
    "food_supply_kcal_capita_2019 = food_supply_df[(food_supply_df.element=='Food supply (kcal/capita/day)')&(food_supply_df.year==2019)].reset_index(drop=True)\n",
    "food_supply_kcal_capita_2019 = food_supply_kcal_capita_2019.drop(columns={'year'}).rename(columns={'value':'food_supply_kcal_capita_2019'}).groupby(['country', 'item']).sum().reset_index()\n",
    "\n",
    "frame2 = (food_supply_kcal_capita_2014, food_supply_kcal_capita_2019)\n",
    "frame2_1 = (population_df_2014, population_df_2019)\n",
    "food_supply_con1 = pd.concat(frame2).groupby(['country', 'item']).sum().reset_index()\n",
    "food_supply_con2 = pd.concat(frame2_1).groupby(['country']).sum().reset_index()\n",
    "food_supply_m = food_supply_con2.merge(food_supply_con1, how='left', on=['country'])"
   ]
  },
  {
   "cell_type": "markdown",
   "id": "d33715e4",
   "metadata": {},
   "source": [
    "#### Variable food_supply_kcal for year 2014 and 2019"
   ]
  },
  {
   "cell_type": "code",
   "execution_count": 22,
   "id": "3ff73e2a",
   "metadata": {},
   "outputs": [],
   "source": [
    "food_supply_m['food_supply_kcal_2014'] = food_supply_m['food_supply_kcal_capita_2014'] * food_supply_m['population_2014'] * 1000 * 365\n",
    "food_supply_m['food_supply_kcal_2019'] = food_supply_m['food_supply_kcal_capita_2019'] * food_supply_m['population_2019'] * 1000 * 365"
   ]
  },
  {
   "cell_type": "code",
   "execution_count": 68,
   "id": "6c5341a3",
   "metadata": {},
   "outputs": [
    {
     "data": {
      "text/html": [
       "<div>\n",
       "<style scoped>\n",
       "    .dataframe tbody tr th:only-of-type {\n",
       "        vertical-align: middle;\n",
       "    }\n",
       "\n",
       "    .dataframe tbody tr th {\n",
       "        vertical-align: top;\n",
       "    }\n",
       "\n",
       "    .dataframe thead th {\n",
       "        text-align: right;\n",
       "    }\n",
       "</style>\n",
       "<table border=\"1\" class=\"dataframe\">\n",
       "  <thead>\n",
       "    <tr style=\"text-align: right;\">\n",
       "      <th></th>\n",
       "      <th>item</th>\n",
       "      <th>food_supply_kcal_2014</th>\n",
       "      <th>food_supply_kcal_2019</th>\n",
       "    </tr>\n",
       "  </thead>\n",
       "  <tbody>\n",
       "    <tr>\n",
       "      <th>0</th>\n",
       "      <td>Apples and products</td>\n",
       "      <td>6.090208e+10</td>\n",
       "      <td>8.331198e+10</td>\n",
       "    </tr>\n",
       "    <tr>\n",
       "      <th>1</th>\n",
       "      <td>Bananas</td>\n",
       "      <td>3.654124e+10</td>\n",
       "      <td>6.942665e+10</td>\n",
       "    </tr>\n",
       "    <tr>\n",
       "      <th>2</th>\n",
       "      <td>Barley and products</td>\n",
       "      <td>1.461650e+11</td>\n",
       "      <td>4.165599e+10</td>\n",
       "    </tr>\n",
       "    <tr>\n",
       "      <th>3</th>\n",
       "      <td>Beer</td>\n",
       "      <td>0.000000e+00</td>\n",
       "      <td>0.000000e+00</td>\n",
       "    </tr>\n",
       "    <tr>\n",
       "      <th>4</th>\n",
       "      <td>Beverages, Alcoholic</td>\n",
       "      <td>0.000000e+00</td>\n",
       "      <td>0.000000e+00</td>\n",
       "    </tr>\n",
       "    <tr>\n",
       "      <th>...</th>\n",
       "      <td>...</td>\n",
       "      <td>...</td>\n",
       "      <td>...</td>\n",
       "    </tr>\n",
       "    <tr>\n",
       "      <th>15335</th>\n",
       "      <td>Tea (including mate)</td>\n",
       "      <td>0.000000e+00</td>\n",
       "      <td>0.000000e+00</td>\n",
       "    </tr>\n",
       "    <tr>\n",
       "      <th>15336</th>\n",
       "      <td>Tomatoes and products</td>\n",
       "      <td>4.959255e+09</td>\n",
       "      <td>5.345425e+09</td>\n",
       "    </tr>\n",
       "    <tr>\n",
       "      <th>15337</th>\n",
       "      <td>Vegetables, other</td>\n",
       "      <td>4.959255e+10</td>\n",
       "      <td>4.810882e+10</td>\n",
       "    </tr>\n",
       "    <tr>\n",
       "      <th>15338</th>\n",
       "      <td>Wheat and products</td>\n",
       "      <td>1.190221e+12</td>\n",
       "      <td>1.111848e+12</td>\n",
       "    </tr>\n",
       "    <tr>\n",
       "      <th>15339</th>\n",
       "      <td>Wine</td>\n",
       "      <td>4.959255e+09</td>\n",
       "      <td>0.000000e+00</td>\n",
       "    </tr>\n",
       "  </tbody>\n",
       "</table>\n",
       "<p>15340 rows × 3 columns</p>\n",
       "</div>"
      ],
      "text/plain": [
       "                        item  food_supply_kcal_2014  food_supply_kcal_2019\n",
       "0        Apples and products           6.090208e+10           8.331198e+10\n",
       "1                    Bananas           3.654124e+10           6.942665e+10\n",
       "2        Barley and products           1.461650e+11           4.165599e+10\n",
       "3                       Beer           0.000000e+00           0.000000e+00\n",
       "4       Beverages, Alcoholic           0.000000e+00           0.000000e+00\n",
       "...                      ...                    ...                    ...\n",
       "15335   Tea (including mate)           0.000000e+00           0.000000e+00\n",
       "15336  Tomatoes and products           4.959255e+09           5.345425e+09\n",
       "15337      Vegetables, other           4.959255e+10           4.810882e+10\n",
       "15338     Wheat and products           1.190221e+12           1.111848e+12\n",
       "15339                   Wine           4.959255e+09           0.000000e+00\n",
       "\n",
       "[15340 rows x 3 columns]"
      ]
     },
     "execution_count": 68,
     "metadata": {},
     "output_type": "execute_result"
    }
   ],
   "source": [
    "food_supply_m.filter({'item','food_supply_kcal_2014', 'food_supply_kcal_2019'})"
   ]
  },
  {
   "cell_type": "markdown",
   "id": "bb366ce0",
   "metadata": {},
   "source": [
    "### New variable : food_supply_gprotein"
   ]
  },
  {
   "cell_type": "code",
   "execution_count": 69,
   "id": "4c544ee9",
   "metadata": {},
   "outputs": [],
   "source": [
    "food_supply_gprot_capita_2014 = food_supply_df[(food_supply_df.element=='Protein supply quantity (g/capita/day)')&(food_supply_df.year==2014)]\n",
    "food_supply_gprot_capita_2014 = food_supply_gprot_capita_2014.drop(columns={'year'}).rename(columns={'value':'food_supply_gprot_capita_2014'}).groupby(['country', 'item']).sum().reset_index()\n",
    "\n",
    "food_supply_gprot_capita_2019 = food_supply_df[(food_supply_df.element=='Protein supply quantity (g/capita/day)')&(food_supply_df.year==2019)]\n",
    "food_supply_gprot_capita_2019 = food_supply_gprot_capita_2019.drop(columns={'year'}).rename(columns={'value':'food_supply_gprot_capita_2019'}).groupby(['country', 'item']).sum().reset_index()\n",
    "\n",
    "frame3 = (food_supply_gprot_capita_2014, food_supply_gprot_capita_2019)\n",
    "frame3_1 = (population_df_2014, population_df_2019)\n",
    "food_supply_con3 = pd.concat(frame3).groupby(['country', 'item']).sum().reset_index()\n",
    "food_supply_con4 = pd.concat(frame3_1).groupby(['country']).sum().reset_index()\n",
    "food_supply_m2 = food_supply_con4.merge(food_supply_con3, how='left', on=['country'])"
   ]
  },
  {
   "cell_type": "markdown",
   "id": "4d935f74",
   "metadata": {},
   "source": [
    "#### Variable food_supply_gprot for year 2014 and 2019"
   ]
  },
  {
   "cell_type": "code",
   "execution_count": 70,
   "id": "b7c9b94f",
   "metadata": {},
   "outputs": [],
   "source": [
    "food_supply_m2['food_supply_gprot_2014'] = food_supply_m2['food_supply_gprot_capita_2014'] * food_supply_m2['population_2014'] * 1000 * 365\n",
    "food_supply_m2['food_supply_gprot_2019'] = food_supply_m2['food_supply_gprot_capita_2019'] * food_supply_m2['population_2019'] * 1000 * 365"
   ]
  },
  {
   "cell_type": "code",
   "execution_count": 71,
   "id": "802e637a",
   "metadata": {},
   "outputs": [
    {
     "data": {
      "text/html": [
       "<div>\n",
       "<style scoped>\n",
       "    .dataframe tbody tr th:only-of-type {\n",
       "        vertical-align: middle;\n",
       "    }\n",
       "\n",
       "    .dataframe tbody tr th {\n",
       "        vertical-align: top;\n",
       "    }\n",
       "\n",
       "    .dataframe thead th {\n",
       "        text-align: right;\n",
       "    }\n",
       "</style>\n",
       "<table border=\"1\" class=\"dataframe\">\n",
       "  <thead>\n",
       "    <tr style=\"text-align: right;\">\n",
       "      <th></th>\n",
       "      <th>food_supply_gprot_2014</th>\n",
       "      <th>item</th>\n",
       "      <th>food_supply_gprot_2019</th>\n",
       "    </tr>\n",
       "  </thead>\n",
       "  <tbody>\n",
       "    <tr>\n",
       "      <th>0</th>\n",
       "      <td>3.654124e+08</td>\n",
       "      <td>Apples and products</td>\n",
       "      <td>5.554132e+08</td>\n",
       "    </tr>\n",
       "    <tr>\n",
       "      <th>1</th>\n",
       "      <td>4.872166e+08</td>\n",
       "      <td>Bananas</td>\n",
       "      <td>8.331198e+08</td>\n",
       "    </tr>\n",
       "    <tr>\n",
       "      <th>2</th>\n",
       "      <td>4.384949e+09</td>\n",
       "      <td>Barley and products</td>\n",
       "      <td>1.249680e+09</td>\n",
       "    </tr>\n",
       "    <tr>\n",
       "      <th>3</th>\n",
       "      <td>0.000000e+00</td>\n",
       "      <td>Beer</td>\n",
       "      <td>0.000000e+00</td>\n",
       "    </tr>\n",
       "    <tr>\n",
       "      <th>4</th>\n",
       "      <td>0.000000e+00</td>\n",
       "      <td>Beverages, Alcoholic</td>\n",
       "      <td>0.000000e+00</td>\n",
       "    </tr>\n",
       "    <tr>\n",
       "      <th>...</th>\n",
       "      <td>...</td>\n",
       "      <td>...</td>\n",
       "      <td>...</td>\n",
       "    </tr>\n",
       "    <tr>\n",
       "      <th>15357</th>\n",
       "      <td>0.000000e+00</td>\n",
       "      <td>Tea (including mate)</td>\n",
       "      <td>0.000000e+00</td>\n",
       "    </tr>\n",
       "    <tr>\n",
       "      <th>15358</th>\n",
       "      <td>1.983702e+08</td>\n",
       "      <td>Tomatoes and products</td>\n",
       "      <td>2.138170e+08</td>\n",
       "    </tr>\n",
       "    <tr>\n",
       "      <th>15359</th>\n",
       "      <td>2.777183e+09</td>\n",
       "      <td>Vegetables, other</td>\n",
       "      <td>2.779621e+09</td>\n",
       "    </tr>\n",
       "    <tr>\n",
       "      <th>15360</th>\n",
       "      <td>3.392130e+10</td>\n",
       "      <td>Wheat and products</td>\n",
       "      <td>3.266055e+10</td>\n",
       "    </tr>\n",
       "    <tr>\n",
       "      <th>15361</th>\n",
       "      <td>0.000000e+00</td>\n",
       "      <td>Wine</td>\n",
       "      <td>0.000000e+00</td>\n",
       "    </tr>\n",
       "  </tbody>\n",
       "</table>\n",
       "<p>15362 rows × 3 columns</p>\n",
       "</div>"
      ],
      "text/plain": [
       "       food_supply_gprot_2014                   item  food_supply_gprot_2019\n",
       "0                3.654124e+08    Apples and products            5.554132e+08\n",
       "1                4.872166e+08                Bananas            8.331198e+08\n",
       "2                4.384949e+09    Barley and products            1.249680e+09\n",
       "3                0.000000e+00                   Beer            0.000000e+00\n",
       "4                0.000000e+00   Beverages, Alcoholic            0.000000e+00\n",
       "...                       ...                    ...                     ...\n",
       "15357            0.000000e+00   Tea (including mate)            0.000000e+00\n",
       "15358            1.983702e+08  Tomatoes and products            2.138170e+08\n",
       "15359            2.777183e+09      Vegetables, other            2.779621e+09\n",
       "15360            3.392130e+10     Wheat and products            3.266055e+10\n",
       "15361            0.000000e+00                   Wine            0.000000e+00\n",
       "\n",
       "[15362 rows x 3 columns]"
      ]
     },
     "execution_count": 71,
     "metadata": {},
     "output_type": "execute_result"
    }
   ],
   "source": [
    "food_supply_m2.filter({'item','food_supply_gprot_2014', 'food_supply_gprot_2019'})"
   ]
  },
  {
   "cell_type": "markdown",
   "id": "e75548d4",
   "metadata": {},
   "source": [
    "### New variable : ratio_kcal_kg"
   ]
  },
  {
   "cell_type": "code",
   "execution_count": 27,
   "id": "a7a46f90",
   "metadata": {},
   "outputs": [],
   "source": [
    "frame4 = (food_supply_con, food_supply_m)\n",
    "ratio_kcal_kg_conc4 = pd.concat(frame4).groupby(by=['country', 'item']).sum().reset_index()"
   ]
  },
  {
   "cell_type": "markdown",
   "id": "745bc1ef",
   "metadata": {},
   "source": [
    "#### Variable ratio kcal/kg for year 2014 and 2019"
   ]
  },
  {
   "cell_type": "code",
   "execution_count": 28,
   "id": "05138d89",
   "metadata": {},
   "outputs": [],
   "source": [
    "ratio_kcal_kg_conc4['ratio_kcal_kg_2014'] = (ratio_kcal_kg_conc4['food_supply_kcal_2014']) / ratio_kcal_kg_conc4['food_supply_kg_2014']\n",
    "ratio_kcal_kg_conc4['ratio_kcal_kg_2019'] = (ratio_kcal_kg_conc4['food_supply_kcal_2019']) / ratio_kcal_kg_conc4['food_supply_kg_2019']"
   ]
  },
  {
   "cell_type": "code",
   "execution_count": 74,
   "id": "f7d385d9",
   "metadata": {},
   "outputs": [
    {
     "data": {
      "text/html": [
       "<div>\n",
       "<style scoped>\n",
       "    .dataframe tbody tr th:only-of-type {\n",
       "        vertical-align: middle;\n",
       "    }\n",
       "\n",
       "    .dataframe tbody tr th {\n",
       "        vertical-align: top;\n",
       "    }\n",
       "\n",
       "    .dataframe thead th {\n",
       "        text-align: right;\n",
       "    }\n",
       "</style>\n",
       "<table border=\"1\" class=\"dataframe\">\n",
       "  <thead>\n",
       "    <tr style=\"text-align: right;\">\n",
       "      <th></th>\n",
       "      <th>ratio_kcal_kg_2014</th>\n",
       "      <th>item</th>\n",
       "      <th>ratio_kcal_kg_2019</th>\n",
       "    </tr>\n",
       "  </thead>\n",
       "  <tbody>\n",
       "    <tr>\n",
       "      <th>0</th>\n",
       "      <td>534.228728</td>\n",
       "      <td>Apples and products</td>\n",
       "      <td>501.879398</td>\n",
       "    </tr>\n",
       "    <tr>\n",
       "      <th>1</th>\n",
       "      <td>570.956953</td>\n",
       "      <td>Bananas</td>\n",
       "      <td>588.361441</td>\n",
       "    </tr>\n",
       "    <tr>\n",
       "      <th>2</th>\n",
       "      <td>3321.931364</td>\n",
       "      <td>Barley and products</td>\n",
       "      <td>3204.306923</td>\n",
       "    </tr>\n",
       "    <tr>\n",
       "      <th>3</th>\n",
       "      <td>NaN</td>\n",
       "      <td>Beans</td>\n",
       "      <td>NaN</td>\n",
       "    </tr>\n",
       "    <tr>\n",
       "      <th>4</th>\n",
       "      <td>0.000000</td>\n",
       "      <td>Beer</td>\n",
       "      <td>0.000000</td>\n",
       "    </tr>\n",
       "    <tr>\n",
       "      <th>...</th>\n",
       "      <td>...</td>\n",
       "      <td>...</td>\n",
       "      <td>...</td>\n",
       "    </tr>\n",
       "    <tr>\n",
       "      <th>15537</th>\n",
       "      <td>NaN</td>\n",
       "      <td>Tea (including mate)</td>\n",
       "      <td>NaN</td>\n",
       "    </tr>\n",
       "    <tr>\n",
       "      <th>15538</th>\n",
       "      <td>198.370200</td>\n",
       "      <td>Tomatoes and products</td>\n",
       "      <td>205.593269</td>\n",
       "    </tr>\n",
       "    <tr>\n",
       "      <th>15539</th>\n",
       "      <td>263.790160</td>\n",
       "      <td>Vegetables, other</td>\n",
       "      <td>254.544048</td>\n",
       "    </tr>\n",
       "    <tr>\n",
       "      <th>15540</th>\n",
       "      <td>2998.038287</td>\n",
       "      <td>Wheat and products</td>\n",
       "      <td>3004.995676</td>\n",
       "    </tr>\n",
       "    <tr>\n",
       "      <th>15541</th>\n",
       "      <td>1239.813750</td>\n",
       "      <td>Wine</td>\n",
       "      <td>0.000000</td>\n",
       "    </tr>\n",
       "  </tbody>\n",
       "</table>\n",
       "<p>15542 rows × 3 columns</p>\n",
       "</div>"
      ],
      "text/plain": [
       "       ratio_kcal_kg_2014                   item  ratio_kcal_kg_2019\n",
       "0              534.228728    Apples and products          501.879398\n",
       "1              570.956953                Bananas          588.361441\n",
       "2             3321.931364    Barley and products         3204.306923\n",
       "3                     NaN                  Beans                 NaN\n",
       "4                0.000000                   Beer            0.000000\n",
       "...                   ...                    ...                 ...\n",
       "15537                 NaN   Tea (including mate)                 NaN\n",
       "15538          198.370200  Tomatoes and products          205.593269\n",
       "15539          263.790160      Vegetables, other          254.544048\n",
       "15540         2998.038287     Wheat and products         3004.995676\n",
       "15541         1239.813750                   Wine            0.000000\n",
       "\n",
       "[15542 rows x 3 columns]"
      ]
     },
     "execution_count": 74,
     "metadata": {},
     "output_type": "execute_result"
    }
   ],
   "source": [
    "ratio_kcal_kg_conc4.filter({'item','ratio_kcal_kg_2014', 'ratio_kcal_kg_2019'})"
   ]
  },
  {
   "cell_type": "markdown",
   "id": "90122e85",
   "metadata": {},
   "source": [
    "Verifying the ratio kcal/kg for the item \"Apple\""
   ]
  },
  {
   "cell_type": "markdown",
   "id": "94b22a63",
   "metadata": {},
   "source": [
    "#### Conclusion :"
   ]
  },
  {
   "cell_type": "markdown",
   "id": "21416b4a",
   "metadata": {},
   "source": [
    "As expected, an apple contains 50 kcal for 100gr thus 500 kcal for 1kg which confirms the accuracy of the averaged ratio kcal/kg for each item."
   ]
  },
  {
   "cell_type": "markdown",
   "id": "ebb03d60",
   "metadata": {},
   "source": [
    "### New variable : ratio_gproteine_kg"
   ]
  },
  {
   "cell_type": "code",
   "execution_count": 31,
   "id": "8d790625",
   "metadata": {},
   "outputs": [],
   "source": [
    "frame6 = (food_supply_con, food_supply_m2)\n",
    "ratio_gprot_kg_conc6 = pd.concat(frame6).groupby(by=['country', 'item']).sum().reset_index()"
   ]
  },
  {
   "cell_type": "markdown",
   "id": "c3e0b554",
   "metadata": {},
   "source": [
    "#### Variable ratio gprotein/kg for year 2014 and 2019"
   ]
  },
  {
   "cell_type": "code",
   "execution_count": 32,
   "id": "056e10ec",
   "metadata": {},
   "outputs": [],
   "source": [
    "ratio_gprot_kg_conc6['ratio_gprot_kg_2014'] = (ratio_gprot_kg_conc6['food_supply_gprot_2014']) / ratio_gprot_kg_conc6['food_supply_kg_2014']\n",
    "ratio_gprot_kg_conc6['ratio_gprot_kg_2019'] = (ratio_gprot_kg_conc6['food_supply_gprot_2019']) / ratio_gprot_kg_conc6['food_supply_kg_2019']"
   ]
  },
  {
   "cell_type": "code",
   "execution_count": 75,
   "id": "a57953c0",
   "metadata": {},
   "outputs": [
    {
     "data": {
      "text/html": [
       "<div>\n",
       "<style scoped>\n",
       "    .dataframe tbody tr th:only-of-type {\n",
       "        vertical-align: middle;\n",
       "    }\n",
       "\n",
       "    .dataframe tbody tr th {\n",
       "        vertical-align: top;\n",
       "    }\n",
       "\n",
       "    .dataframe thead th {\n",
       "        text-align: right;\n",
       "    }\n",
       "</style>\n",
       "<table border=\"1\" class=\"dataframe\">\n",
       "  <thead>\n",
       "    <tr style=\"text-align: right;\">\n",
       "      <th></th>\n",
       "      <th>ratio_gprot_kg_2019</th>\n",
       "      <th>item</th>\n",
       "      <th>ratio_gprot_kg_2014</th>\n",
       "    </tr>\n",
       "  </thead>\n",
       "  <tbody>\n",
       "    <tr>\n",
       "      <th>0</th>\n",
       "      <td>3.345863</td>\n",
       "      <td>Apples and products</td>\n",
       "      <td>3.205372</td>\n",
       "    </tr>\n",
       "    <tr>\n",
       "      <th>1</th>\n",
       "      <td>7.060337</td>\n",
       "      <td>Bananas</td>\n",
       "      <td>7.612759</td>\n",
       "    </tr>\n",
       "    <tr>\n",
       "      <th>2</th>\n",
       "      <td>96.129208</td>\n",
       "      <td>Barley and products</td>\n",
       "      <td>99.657941</td>\n",
       "    </tr>\n",
       "    <tr>\n",
       "      <th>3</th>\n",
       "      <td>NaN</td>\n",
       "      <td>Beans</td>\n",
       "      <td>NaN</td>\n",
       "    </tr>\n",
       "    <tr>\n",
       "      <th>4</th>\n",
       "      <td>0.000000</td>\n",
       "      <td>Beer</td>\n",
       "      <td>0.000000</td>\n",
       "    </tr>\n",
       "    <tr>\n",
       "      <th>...</th>\n",
       "      <td>...</td>\n",
       "      <td>...</td>\n",
       "      <td>...</td>\n",
       "    </tr>\n",
       "    <tr>\n",
       "      <th>15537</th>\n",
       "      <td>NaN</td>\n",
       "      <td>Tea (including mate)</td>\n",
       "      <td>NaN</td>\n",
       "    </tr>\n",
       "    <tr>\n",
       "      <th>15538</th>\n",
       "      <td>8.223731</td>\n",
       "      <td>Tomatoes and products</td>\n",
       "      <td>7.934808</td>\n",
       "    </tr>\n",
       "    <tr>\n",
       "      <th>15539</th>\n",
       "      <td>14.706989</td>\n",
       "      <td>Vegetables, other</td>\n",
       "      <td>14.772249</td>\n",
       "    </tr>\n",
       "    <tr>\n",
       "      <th>15540</th>\n",
       "      <td>88.271748</td>\n",
       "      <td>Wheat and products</td>\n",
       "      <td>85.444091</td>\n",
       "    </tr>\n",
       "    <tr>\n",
       "      <th>15541</th>\n",
       "      <td>0.000000</td>\n",
       "      <td>Wine</td>\n",
       "      <td>0.000000</td>\n",
       "    </tr>\n",
       "  </tbody>\n",
       "</table>\n",
       "<p>15542 rows × 3 columns</p>\n",
       "</div>"
      ],
      "text/plain": [
       "       ratio_gprot_kg_2019                   item  ratio_gprot_kg_2014\n",
       "0                 3.345863    Apples and products             3.205372\n",
       "1                 7.060337                Bananas             7.612759\n",
       "2                96.129208    Barley and products            99.657941\n",
       "3                      NaN                  Beans                  NaN\n",
       "4                 0.000000                   Beer             0.000000\n",
       "...                    ...                    ...                  ...\n",
       "15537                  NaN   Tea (including mate)                  NaN\n",
       "15538             8.223731  Tomatoes and products             7.934808\n",
       "15539            14.706989      Vegetables, other            14.772249\n",
       "15540            88.271748     Wheat and products            85.444091\n",
       "15541             0.000000                   Wine             0.000000\n",
       "\n",
       "[15542 rows x 3 columns]"
      ]
     },
     "execution_count": 75,
     "metadata": {},
     "output_type": "execute_result"
    }
   ],
   "source": [
    "ratio_gprot_kg_conc6.filter({'item','ratio_gprot_kg_2014', 'ratio_gprot_kg_2019'})"
   ]
  },
  {
   "cell_type": "markdown",
   "id": "be434bab",
   "metadata": {},
   "source": [
    "#### Conclusion :"
   ]
  },
  {
   "cell_type": "markdown",
   "id": "0d7404f5",
   "metadata": {},
   "source": [
    "As expected, an apple contains 0.3g of protein for 100gr thus 3g for 1kg which confirms the accuracy of the averaged ratio gprot/kg."
   ]
  },
  {
   "cell_type": "markdown",
   "id": "352739a4",
   "metadata": {},
   "source": [
    "### New variable : dom_sup_kcal"
   ]
  },
  {
   "cell_type": "markdown",
   "id": "40de7529",
   "metadata": {},
   "source": [
    "#### Using the ratio kcal/kg to convert the domestic supply from kg to kcal"
   ]
  },
  {
   "cell_type": "code",
   "execution_count": 76,
   "id": "c43c4974",
   "metadata": {},
   "outputs": [],
   "source": [
    "dom_supply_2014 = food_supply_df[(food_supply_df.element=='Domestic supply quantity')&(food_supply_df.year==2014)]\n",
    "dom_supply_2014 = dom_supply_2014.rename(columns={'value':'dom_supply_2014'}).filter(items=['country', 'item', 'dom_supply_2014']).reset_index(drop=True)\n",
    "\n",
    "dom_supply_2019 = food_supply_df[(food_supply_df.element=='Domestic supply quantity')&(food_supply_df.year==2019)]\n",
    "dom_supply_2019 = dom_supply_2019.rename(columns={'value':'dom_supply_2019'}).filter(items=['country', 'item', 'dom_supply_2019']).reset_index(drop=True)\n",
    "\n",
    "\n",
    "frame7 = (dom_supply_2014, dom_supply_2019)\n",
    "domestic_supply = pd.concat(frame7).groupby(by=['country', 'item']).sum().reset_index()\n",
    "\n",
    "frame8 = (ratio_kcal_kg_conc4, domestic_supply)\n",
    "domestic_supply_kcal = pd.concat(frame8).groupby(by=['country', 'item']).sum().reset_index()"
   ]
  },
  {
   "cell_type": "markdown",
   "id": "712d592b",
   "metadata": {},
   "source": [
    "#### Variable dom_sup_kcal for year 2014 and 2019 with domestic supply in kg"
   ]
  },
  {
   "cell_type": "code",
   "execution_count": 77,
   "id": "686dc233",
   "metadata": {},
   "outputs": [],
   "source": [
    "domestic_supply_kcal['dom_sup_kcal_2014'] = domestic_supply_kcal['ratio_kcal_kg_2014'] * domestic_supply_kcal['dom_supply_2014'] * 1000000\n",
    "domestic_supply_kcal['dom_sup_kcal_2019'] = domestic_supply_kcal['ratio_kcal_kg_2019'] * domestic_supply_kcal['dom_supply_2019'] * 1000000"
   ]
  },
  {
   "cell_type": "code",
   "execution_count": 81,
   "id": "8fa227a0",
   "metadata": {},
   "outputs": [
    {
     "data": {
      "text/html": [
       "<div>\n",
       "<style scoped>\n",
       "    .dataframe tbody tr th:only-of-type {\n",
       "        vertical-align: middle;\n",
       "    }\n",
       "\n",
       "    .dataframe tbody tr th {\n",
       "        vertical-align: top;\n",
       "    }\n",
       "\n",
       "    .dataframe thead th {\n",
       "        text-align: right;\n",
       "    }\n",
       "</style>\n",
       "<table border=\"1\" class=\"dataframe\">\n",
       "  <thead>\n",
       "    <tr style=\"text-align: right;\">\n",
       "      <th></th>\n",
       "      <th>dom_sup_kcal_2019</th>\n",
       "      <th>item</th>\n",
       "      <th>dom_sup_kcal_2014</th>\n",
       "    </tr>\n",
       "  </thead>\n",
       "  <tbody>\n",
       "    <tr>\n",
       "      <th>0</th>\n",
       "      <td>0.000000e+00</td>\n",
       "      <td>Alcohol, Non-Food</td>\n",
       "      <td>0.000000e+00</td>\n",
       "    </tr>\n",
       "    <tr>\n",
       "      <th>1</th>\n",
       "      <td>9.636084e+10</td>\n",
       "      <td>Apples and products</td>\n",
       "      <td>6.517590e+10</td>\n",
       "    </tr>\n",
       "    <tr>\n",
       "      <th>2</th>\n",
       "      <td>6.942665e+10</td>\n",
       "      <td>Bananas</td>\n",
       "      <td>3.654124e+10</td>\n",
       "    </tr>\n",
       "    <tr>\n",
       "      <th>3</th>\n",
       "      <td>4.229685e+11</td>\n",
       "      <td>Barley and products</td>\n",
       "      <td>1.684219e+12</td>\n",
       "    </tr>\n",
       "    <tr>\n",
       "      <th>4</th>\n",
       "      <td>-0.000000e+00</td>\n",
       "      <td>Beans</td>\n",
       "      <td>-0.000000e+00</td>\n",
       "    </tr>\n",
       "    <tr>\n",
       "      <th>...</th>\n",
       "      <td>...</td>\n",
       "      <td>...</td>\n",
       "      <td>...</td>\n",
       "    </tr>\n",
       "    <tr>\n",
       "      <th>16926</th>\n",
       "      <td>-0.000000e+00</td>\n",
       "      <td>Tea (including mate)</td>\n",
       "      <td>-0.000000e+00</td>\n",
       "    </tr>\n",
       "    <tr>\n",
       "      <th>16927</th>\n",
       "      <td>5.756612e+09</td>\n",
       "      <td>Tomatoes and products</td>\n",
       "      <td>5.355995e+09</td>\n",
       "    </tr>\n",
       "    <tr>\n",
       "      <th>16928</th>\n",
       "      <td>5.269062e+10</td>\n",
       "      <td>Vegetables, other</td>\n",
       "      <td>5.407698e+10</td>\n",
       "    </tr>\n",
       "    <tr>\n",
       "      <th>16929</th>\n",
       "      <td>1.132883e+12</td>\n",
       "      <td>Wheat and products</td>\n",
       "      <td>1.202213e+12</td>\n",
       "    </tr>\n",
       "    <tr>\n",
       "      <th>16930</th>\n",
       "      <td>0.000000e+00</td>\n",
       "      <td>Wine</td>\n",
       "      <td>4.959255e+09</td>\n",
       "    </tr>\n",
       "  </tbody>\n",
       "</table>\n",
       "<p>16931 rows × 3 columns</p>\n",
       "</div>"
      ],
      "text/plain": [
       "       dom_sup_kcal_2019                   item  dom_sup_kcal_2014\n",
       "0           0.000000e+00      Alcohol, Non-Food       0.000000e+00\n",
       "1           9.636084e+10    Apples and products       6.517590e+10\n",
       "2           6.942665e+10                Bananas       3.654124e+10\n",
       "3           4.229685e+11    Barley and products       1.684219e+12\n",
       "4          -0.000000e+00                  Beans      -0.000000e+00\n",
       "...                  ...                    ...                ...\n",
       "16926      -0.000000e+00   Tea (including mate)      -0.000000e+00\n",
       "16927       5.756612e+09  Tomatoes and products       5.355995e+09\n",
       "16928       5.269062e+10      Vegetables, other       5.407698e+10\n",
       "16929       1.132883e+12     Wheat and products       1.202213e+12\n",
       "16930       0.000000e+00                   Wine       4.959255e+09\n",
       "\n",
       "[16931 rows x 3 columns]"
      ]
     },
     "execution_count": 81,
     "metadata": {},
     "output_type": "execute_result"
    }
   ],
   "source": [
    "domestic_supply_kcal.filter({'item','dom_sup_kcal_2014', 'dom_sup_kcal_2019'})"
   ]
  },
  {
   "cell_type": "markdown",
   "id": "4fa0c275",
   "metadata": {},
   "source": [
    "### New variable : dom_sup_kgprot"
   ]
  },
  {
   "cell_type": "markdown",
   "id": "5e8c5f9e",
   "metadata": {},
   "source": [
    "#### Using the ratio gprot/kg to convert the domestic supply from kg to kgprot"
   ]
  },
  {
   "cell_type": "code",
   "execution_count": 84,
   "id": "93a79298",
   "metadata": {},
   "outputs": [],
   "source": [
    "frame9 = (ratio_gprot_kg_conc6, domestic_supply)\n",
    "domestic_supply_gprot = pd.concat(frame9).groupby(by=['country', 'item']).sum().reset_index()"
   ]
  },
  {
   "cell_type": "code",
   "execution_count": 85,
   "id": "709016c2",
   "metadata": {},
   "outputs": [],
   "source": [
    "domestic_supply_gprot['dom_sup_kgprot_2014'] = domestic_supply_gprot['ratio_gprot_kg_2014'] * domestic_supply_gprot['dom_supply_2014'] * 1000\n",
    "domestic_supply_gprot['dom_sup_kgprot_2019'] = domestic_supply_gprot['ratio_gprot_kg_2019'] * domestic_supply_gprot['dom_supply_2019'] * 1000"
   ]
  },
  {
   "cell_type": "code",
   "execution_count": 88,
   "id": "6e2916bc",
   "metadata": {},
   "outputs": [
    {
     "data": {
      "text/html": [
       "<div>\n",
       "<style scoped>\n",
       "    .dataframe tbody tr th:only-of-type {\n",
       "        vertical-align: middle;\n",
       "    }\n",
       "\n",
       "    .dataframe tbody tr th {\n",
       "        vertical-align: top;\n",
       "    }\n",
       "\n",
       "    .dataframe thead th {\n",
       "        text-align: right;\n",
       "    }\n",
       "</style>\n",
       "<table border=\"1\" class=\"dataframe\">\n",
       "  <thead>\n",
       "    <tr style=\"text-align: right;\">\n",
       "      <th></th>\n",
       "      <th>dom_sup_kgprot_2019</th>\n",
       "      <th>item</th>\n",
       "      <th>dom_sup_kgprot_2014</th>\n",
       "    </tr>\n",
       "  </thead>\n",
       "  <tbody>\n",
       "    <tr>\n",
       "      <th>0</th>\n",
       "      <td>0.000000e+00</td>\n",
       "      <td>Alcohol, Non-Food</td>\n",
       "      <td>0.000000e+00</td>\n",
       "    </tr>\n",
       "    <tr>\n",
       "      <th>1</th>\n",
       "      <td>6.424056e+05</td>\n",
       "      <td>Apples and products</td>\n",
       "      <td>3.910554e+05</td>\n",
       "    </tr>\n",
       "    <tr>\n",
       "      <th>2</th>\n",
       "      <td>8.331198e+05</td>\n",
       "      <td>Bananas</td>\n",
       "      <td>4.872166e+05</td>\n",
       "    </tr>\n",
       "    <tr>\n",
       "      <th>3</th>\n",
       "      <td>1.268906e+07</td>\n",
       "      <td>Barley and products</td>\n",
       "      <td>5.052658e+07</td>\n",
       "    </tr>\n",
       "    <tr>\n",
       "      <th>4</th>\n",
       "      <td>-0.000000e+00</td>\n",
       "      <td>Beans</td>\n",
       "      <td>-0.000000e+00</td>\n",
       "    </tr>\n",
       "    <tr>\n",
       "      <th>...</th>\n",
       "      <td>...</td>\n",
       "      <td>...</td>\n",
       "      <td>...</td>\n",
       "    </tr>\n",
       "    <tr>\n",
       "      <th>16926</th>\n",
       "      <td>-0.000000e+00</td>\n",
       "      <td>Tea (including mate)</td>\n",
       "      <td>-0.000000e+00</td>\n",
       "    </tr>\n",
       "    <tr>\n",
       "      <th>16927</th>\n",
       "      <td>2.302645e+05</td>\n",
       "      <td>Tomatoes and products</td>\n",
       "      <td>2.142398e+05</td>\n",
       "    </tr>\n",
       "    <tr>\n",
       "      <th>16928</th>\n",
       "      <td>3.044347e+06</td>\n",
       "      <td>Vegetables, other</td>\n",
       "      <td>3.028311e+06</td>\n",
       "    </tr>\n",
       "    <tr>\n",
       "      <th>16929</th>\n",
       "      <td>3.327845e+07</td>\n",
       "      <td>Wheat and products</td>\n",
       "      <td>3.426308e+07</td>\n",
       "    </tr>\n",
       "    <tr>\n",
       "      <th>16930</th>\n",
       "      <td>0.000000e+00</td>\n",
       "      <td>Wine</td>\n",
       "      <td>0.000000e+00</td>\n",
       "    </tr>\n",
       "  </tbody>\n",
       "</table>\n",
       "<p>16931 rows × 3 columns</p>\n",
       "</div>"
      ],
      "text/plain": [
       "       dom_sup_kgprot_2019                   item  dom_sup_kgprot_2014\n",
       "0             0.000000e+00      Alcohol, Non-Food         0.000000e+00\n",
       "1             6.424056e+05    Apples and products         3.910554e+05\n",
       "2             8.331198e+05                Bananas         4.872166e+05\n",
       "3             1.268906e+07    Barley and products         5.052658e+07\n",
       "4            -0.000000e+00                  Beans        -0.000000e+00\n",
       "...                    ...                    ...                  ...\n",
       "16926        -0.000000e+00   Tea (including mate)        -0.000000e+00\n",
       "16927         2.302645e+05  Tomatoes and products         2.142398e+05\n",
       "16928         3.044347e+06      Vegetables, other         3.028311e+06\n",
       "16929         3.327845e+07     Wheat and products         3.426308e+07\n",
       "16930         0.000000e+00                   Wine         0.000000e+00\n",
       "\n",
       "[16931 rows x 3 columns]"
      ]
     },
     "execution_count": 88,
     "metadata": {},
     "output_type": "execute_result"
    }
   ],
   "source": [
    "domestic_supply_gprot.filter({'item', 'dom_sup_kgprot_2014', 'dom_sup_kgprot_2019'})"
   ]
  },
  {
   "cell_type": "markdown",
   "id": "e0535de2",
   "metadata": {},
   "source": [
    "### New variable : great_import_from_undern_countries"
   ]
  },
  {
   "cell_type": "markdown",
   "id": "fa453554",
   "metadata": {},
   "source": [
    "Countries with a malnourishment rate superior to 10% :"
   ]
  },
  {
   "cell_type": "code",
   "execution_count": 89,
   "id": "8098f865",
   "metadata": {},
   "outputs": [],
   "source": [
    "malnourishment_rate = pd.read_csv('malnourishment_rate.csv')  \n",
    "\n",
    "\n",
    "malnourishment_rate_df = pd.DataFrame(malnourishment_rate) \n",
    "malnourishment_rate_df.columns = malnourishment_rate_df.columns.str.strip().str.replace(' ', '_').str.lower()   \n",
    "malnourishment_rate_df = malnourishment_rate_df.drop(['item_code', 'note', 'element_code', 'year_code', 'flag','flag_description','area_code_(fao)','domain','domain_code'], axis=1).rename(columns={'area':'country'})"
   ]
  },
  {
   "cell_type": "code",
   "execution_count": 90,
   "id": "f94f6b44",
   "metadata": {},
   "outputs": [
    {
     "data": {
      "text/html": [
       "<div>\n",
       "<style scoped>\n",
       "    .dataframe tbody tr th:only-of-type {\n",
       "        vertical-align: middle;\n",
       "    }\n",
       "\n",
       "    .dataframe tbody tr th {\n",
       "        vertical-align: top;\n",
       "    }\n",
       "\n",
       "    .dataframe thead th {\n",
       "        text-align: right;\n",
       "    }\n",
       "</style>\n",
       "<table border=\"1\" class=\"dataframe\">\n",
       "  <thead>\n",
       "    <tr style=\"text-align: right;\">\n",
       "      <th></th>\n",
       "      <th>country</th>\n",
       "      <th>element</th>\n",
       "      <th>item</th>\n",
       "      <th>year</th>\n",
       "      <th>unit</th>\n",
       "      <th>value</th>\n",
       "    </tr>\n",
       "  </thead>\n",
       "  <tbody>\n",
       "    <tr>\n",
       "      <th>0</th>\n",
       "      <td>Somalia</td>\n",
       "      <td>Value</td>\n",
       "      <td>Prevalence of undernourishment (percent) (3-ye...</td>\n",
       "      <td>2013-2015</td>\n",
       "      <td>%</td>\n",
       "      <td>65.7</td>\n",
       "    </tr>\n",
       "    <tr>\n",
       "      <th>1</th>\n",
       "      <td>Somalia</td>\n",
       "      <td>Value</td>\n",
       "      <td>Prevalence of undernourishment (percent) (3-ye...</td>\n",
       "      <td>2018-2020</td>\n",
       "      <td>%</td>\n",
       "      <td>59.5</td>\n",
       "    </tr>\n",
       "    <tr>\n",
       "      <th>2</th>\n",
       "      <td>Central African Republic</td>\n",
       "      <td>Value</td>\n",
       "      <td>Prevalence of undernourishment (percent) (3-ye...</td>\n",
       "      <td>2013-2015</td>\n",
       "      <td>%</td>\n",
       "      <td>48.3</td>\n",
       "    </tr>\n",
       "    <tr>\n",
       "      <th>3</th>\n",
       "      <td>Central African Republic</td>\n",
       "      <td>Value</td>\n",
       "      <td>Prevalence of undernourishment (percent) (3-ye...</td>\n",
       "      <td>2018-2020</td>\n",
       "      <td>%</td>\n",
       "      <td>48.2</td>\n",
       "    </tr>\n",
       "    <tr>\n",
       "      <th>4</th>\n",
       "      <td>Haiti</td>\n",
       "      <td>Value</td>\n",
       "      <td>Prevalence of undernourishment (percent) (3-ye...</td>\n",
       "      <td>2018-2020</td>\n",
       "      <td>%</td>\n",
       "      <td>46.8</td>\n",
       "    </tr>\n",
       "    <tr>\n",
       "      <th>...</th>\n",
       "      <td>...</td>\n",
       "      <td>...</td>\n",
       "      <td>...</td>\n",
       "      <td>...</td>\n",
       "      <td>...</td>\n",
       "      <td>...</td>\n",
       "    </tr>\n",
       "    <tr>\n",
       "      <th>88</th>\n",
       "      <td>Mongolia</td>\n",
       "      <td>Value</td>\n",
       "      <td>Prevalence of undernourishment (percent) (3-ye...</td>\n",
       "      <td>2013-2015</td>\n",
       "      <td>%</td>\n",
       "      <td>11.5</td>\n",
       "    </tr>\n",
       "    <tr>\n",
       "      <th>89</th>\n",
       "      <td>Senegal</td>\n",
       "      <td>Value</td>\n",
       "      <td>Prevalence of undernourishment (percent) (3-ye...</td>\n",
       "      <td>2013-2015</td>\n",
       "      <td>%</td>\n",
       "      <td>11.2</td>\n",
       "    </tr>\n",
       "    <tr>\n",
       "      <th>90</th>\n",
       "      <td>Sudan</td>\n",
       "      <td>Value</td>\n",
       "      <td>Prevalence of undernourishment (percent) (3-ye...</td>\n",
       "      <td>2013-2015</td>\n",
       "      <td>%</td>\n",
       "      <td>11.0</td>\n",
       "    </tr>\n",
       "    <tr>\n",
       "      <th>91</th>\n",
       "      <td>El Salvador</td>\n",
       "      <td>Value</td>\n",
       "      <td>Prevalence of undernourishment (percent) (3-ye...</td>\n",
       "      <td>2013-2015</td>\n",
       "      <td>%</td>\n",
       "      <td>10.6</td>\n",
       "    </tr>\n",
       "    <tr>\n",
       "      <th>92</th>\n",
       "      <td>Mali</td>\n",
       "      <td>Value</td>\n",
       "      <td>Prevalence of undernourishment (percent) (3-ye...</td>\n",
       "      <td>2018-2020</td>\n",
       "      <td>%</td>\n",
       "      <td>10.4</td>\n",
       "    </tr>\n",
       "  </tbody>\n",
       "</table>\n",
       "<p>93 rows × 6 columns</p>\n",
       "</div>"
      ],
      "text/plain": [
       "                     country element  \\\n",
       "0                    Somalia   Value   \n",
       "1                    Somalia   Value   \n",
       "2   Central African Republic   Value   \n",
       "3   Central African Republic   Value   \n",
       "4                      Haiti   Value   \n",
       "..                       ...     ...   \n",
       "88                  Mongolia   Value   \n",
       "89                   Senegal   Value   \n",
       "90                     Sudan   Value   \n",
       "91               El Salvador   Value   \n",
       "92                      Mali   Value   \n",
       "\n",
       "                                                 item       year unit  value  \n",
       "0   Prevalence of undernourishment (percent) (3-ye...  2013-2015    %   65.7  \n",
       "1   Prevalence of undernourishment (percent) (3-ye...  2018-2020    %   59.5  \n",
       "2   Prevalence of undernourishment (percent) (3-ye...  2013-2015    %   48.3  \n",
       "3   Prevalence of undernourishment (percent) (3-ye...  2018-2020    %   48.2  \n",
       "4   Prevalence of undernourishment (percent) (3-ye...  2018-2020    %   46.8  \n",
       "..                                                ...        ...  ...    ...  \n",
       "88  Prevalence of undernourishment (percent) (3-ye...  2013-2015    %   11.5  \n",
       "89  Prevalence of undernourishment (percent) (3-ye...  2013-2015    %   11.2  \n",
       "90  Prevalence of undernourishment (percent) (3-ye...  2013-2015    %   11.0  \n",
       "91  Prevalence of undernourishment (percent) (3-ye...  2013-2015    %   10.6  \n",
       "92  Prevalence of undernourishment (percent) (3-ye...  2018-2020    %   10.4  \n",
       "\n",
       "[93 rows x 6 columns]"
      ]
     },
     "execution_count": 90,
     "metadata": {},
     "output_type": "execute_result"
    }
   ],
   "source": [
    "malnourishment_rate_df = malnourishment_rate_df.replace({'<':''}, regex=True)\n",
    "malnourishment_rate_df.value = pd.to_numeric(malnourishment_rate_df.value)\n",
    "malnourishment_rate_df[(malnourishment_rate_df.value>10.0)].sort_values(by='value', ascending=False).reset_index(drop=True)"
   ]
  },
  {
   "cell_type": "markdown",
   "id": "51dd4a07",
   "metadata": {},
   "source": [
    "Most exported items by these undernourished countries :"
   ]
  },
  {
   "cell_type": "code",
   "execution_count": 91,
   "id": "1f3aeedb",
   "metadata": {},
   "outputs": [
    {
     "data": {
      "text/html": [
       "<div>\n",
       "<style scoped>\n",
       "    .dataframe tbody tr th:only-of-type {\n",
       "        vertical-align: middle;\n",
       "    }\n",
       "\n",
       "    .dataframe tbody tr th {\n",
       "        vertical-align: top;\n",
       "    }\n",
       "\n",
       "    .dataframe thead th {\n",
       "        text-align: right;\n",
       "    }\n",
       "</style>\n",
       "<table border=\"1\" class=\"dataframe\">\n",
       "  <thead>\n",
       "    <tr style=\"text-align: right;\">\n",
       "      <th></th>\n",
       "      <th>item</th>\n",
       "      <th>value</th>\n",
       "    </tr>\n",
       "  </thead>\n",
       "  <tbody>\n",
       "    <tr>\n",
       "      <th>0</th>\n",
       "      <td>Rice and products</td>\n",
       "      <td>21754.00</td>\n",
       "    </tr>\n",
       "    <tr>\n",
       "      <th>1</th>\n",
       "      <td>Bananas</td>\n",
       "      <td>12976.00</td>\n",
       "    </tr>\n",
       "    <tr>\n",
       "      <th>2</th>\n",
       "      <td>Sugar (Raw Equivalent)</td>\n",
       "      <td>11948.00</td>\n",
       "    </tr>\n",
       "    <tr>\n",
       "      <th>3</th>\n",
       "      <td>Vegetables, other</td>\n",
       "      <td>3052.00</td>\n",
       "    </tr>\n",
       "    <tr>\n",
       "      <th>4</th>\n",
       "      <td>Pineapples and products</td>\n",
       "      <td>3013.00</td>\n",
       "    </tr>\n",
       "    <tr>\n",
       "      <th>5</th>\n",
       "      <td>Pelagic Fish</td>\n",
       "      <td>2594.22</td>\n",
       "    </tr>\n",
       "    <tr>\n",
       "      <th>6</th>\n",
       "      <td>Wheat and products</td>\n",
       "      <td>2572.00</td>\n",
       "    </tr>\n",
       "    <tr>\n",
       "      <th>7</th>\n",
       "      <td>Palm Oil</td>\n",
       "      <td>2241.00</td>\n",
       "    </tr>\n",
       "    <tr>\n",
       "      <th>8</th>\n",
       "      <td>Fruits, other</td>\n",
       "      <td>2003.00</td>\n",
       "    </tr>\n",
       "    <tr>\n",
       "      <th>9</th>\n",
       "      <td>Groundnuts</td>\n",
       "      <td>1954.00</td>\n",
       "    </tr>\n",
       "    <tr>\n",
       "      <th>10</th>\n",
       "      <td>Onions</td>\n",
       "      <td>1908.00</td>\n",
       "    </tr>\n",
       "    <tr>\n",
       "      <th>11</th>\n",
       "      <td>Coffee and products</td>\n",
       "      <td>1777.00</td>\n",
       "    </tr>\n",
       "    <tr>\n",
       "      <th>12</th>\n",
       "      <td>Sesame seed</td>\n",
       "      <td>1594.00</td>\n",
       "    </tr>\n",
       "    <tr>\n",
       "      <th>13</th>\n",
       "      <td>Maize and products</td>\n",
       "      <td>1576.00</td>\n",
       "    </tr>\n",
       "    <tr>\n",
       "      <th>14</th>\n",
       "      <td>Bovine Meat</td>\n",
       "      <td>1378.00</td>\n",
       "    </tr>\n",
       "    <tr>\n",
       "      <th>15</th>\n",
       "      <td>Crustaceans</td>\n",
       "      <td>1376.58</td>\n",
       "    </tr>\n",
       "    <tr>\n",
       "      <th>16</th>\n",
       "      <td>Potatoes and products</td>\n",
       "      <td>1376.00</td>\n",
       "    </tr>\n",
       "    <tr>\n",
       "      <th>17</th>\n",
       "      <td>Coconuts - Incl Copra</td>\n",
       "      <td>1314.00</td>\n",
       "    </tr>\n",
       "    <tr>\n",
       "      <th>18</th>\n",
       "      <td>Nuts and products</td>\n",
       "      <td>1153.00</td>\n",
       "    </tr>\n",
       "    <tr>\n",
       "      <th>19</th>\n",
       "      <td>Sweeteners, Other</td>\n",
       "      <td>1052.00</td>\n",
       "    </tr>\n",
       "    <tr>\n",
       "      <th>20</th>\n",
       "      <td>Alcohol, Non-Food</td>\n",
       "      <td>1049.00</td>\n",
       "    </tr>\n",
       "    <tr>\n",
       "      <th>21</th>\n",
       "      <td>Pulses, Other and products</td>\n",
       "      <td>986.00</td>\n",
       "    </tr>\n",
       "    <tr>\n",
       "      <th>22</th>\n",
       "      <td>Tea (including mate)</td>\n",
       "      <td>858.00</td>\n",
       "    </tr>\n",
       "    <tr>\n",
       "      <th>23</th>\n",
       "      <td>Oilcrops Oil, Other</td>\n",
       "      <td>844.00</td>\n",
       "    </tr>\n",
       "    <tr>\n",
       "      <th>24</th>\n",
       "      <td>Coconut Oil</td>\n",
       "      <td>823.00</td>\n",
       "    </tr>\n",
       "  </tbody>\n",
       "</table>\n",
       "</div>"
      ],
      "text/plain": [
       "                          item     value\n",
       "0            Rice and products  21754.00\n",
       "1                      Bananas  12976.00\n",
       "2       Sugar (Raw Equivalent)  11948.00\n",
       "3            Vegetables, other   3052.00\n",
       "4      Pineapples and products   3013.00\n",
       "5                 Pelagic Fish   2594.22\n",
       "6           Wheat and products   2572.00\n",
       "7                     Palm Oil   2241.00\n",
       "8                Fruits, other   2003.00\n",
       "9                   Groundnuts   1954.00\n",
       "10                      Onions   1908.00\n",
       "11         Coffee and products   1777.00\n",
       "12                 Sesame seed   1594.00\n",
       "13          Maize and products   1576.00\n",
       "14                 Bovine Meat   1378.00\n",
       "15                 Crustaceans   1376.58\n",
       "16       Potatoes and products   1376.00\n",
       "17       Coconuts - Incl Copra   1314.00\n",
       "18           Nuts and products   1153.00\n",
       "19           Sweeteners, Other   1052.00\n",
       "20           Alcohol, Non-Food   1049.00\n",
       "21  Pulses, Other and products    986.00\n",
       "22        Tea (including mate)    858.00\n",
       "23         Oilcrops Oil, Other    844.00\n",
       "24                 Coconut Oil    823.00"
      ]
     },
     "execution_count": 91,
     "metadata": {},
     "output_type": "execute_result"
    }
   ],
   "source": [
    "countries=['Somalia', 'Central African Republic', 'Haiti', 'Yemen',\n",
    "       'Madagascar', \"Democratic People's Republic of Korea\",\n",
    "       'Democratic Republic of the Congo', 'Liberia', 'Congo', 'Iraq',\n",
    "       'Rwanda', 'Chad', 'Mozambique', 'Botswana',\n",
    "       'Venezuela (Bolivarian Republic of)', 'Timor-Leste',\n",
    "       'Sierra Leone', 'Afghanistan', 'United Republic of Tanzania',\n",
    "       'Kenya', 'Papua New Guinea', 'Namibia', 'Lesotho', 'Togo',\n",
    "       'Nicaragua', 'Solomon Islands', \"Côte d'Ivoire\", 'Djibouti',\n",
    "       'Ethiopia', 'Guatemala', 'Angola', 'Malawi', 'Cabo Verde', 'Gabon',\n",
    "       'Bolivia (Plurinational State of)', 'India', 'Nigeria', 'Honduras',\n",
    "       'Burkina Faso', 'Bangladesh', 'Pakistan', 'Philippines', 'Gambia',\n",
    "       'Eswatini', 'Sao Tome and Principe', 'Ecuador', 'Sudan',\n",
    "       'Mongolia', 'Senegal', 'El Salvador', 'Mali']\n",
    "highest_exports_2019 = food_supply_df[(food_supply_df.element=='Export Quantity')&(food_supply_df.year==2019)&(food_supply_df.country.isin(countries))].groupby(by=['item']).sum().drop(columns={'year'}).sort_values(by='value', ascending=False).head(25).reset_index()\n",
    "highest_exports_2019"
   ]
  },
  {
   "cell_type": "code",
   "execution_count": 92,
   "id": "9db99099",
   "metadata": {},
   "outputs": [],
   "source": [
    "items = ['Rice and products', 'Bananas', 'Sugar (Raw Equivalent)',\n",
    "       'Vegetables, other', 'Pineapples and products', 'Pelagic Fish',\n",
    "       'Wheat and products', 'Palm Oil', 'Fruits, other', 'Groundnuts',\n",
    "       'Onions', 'Coffee and products', 'Sesame seed',\n",
    "       'Maize and products', 'Bovine Meat', 'Crustaceans',\n",
    "       'Potatoes and products', 'Coconuts - Incl Copra',\n",
    "       'Nuts and products', 'Sweeteners, Other', 'Alcohol, Non-Food',\n",
    "       'Pulses, Other and products', 'Tea (including mate)',\n",
    "       'Oilcrops Oil, Other', 'Coconut Oil']\n",
    "highest_200_imports_2019 = food_supply_df[(food_supply_df.element=='Import Quantity')&(food_supply_df.year==2019)&(food_supply_df.item.isin(items))].sort_values(by='value', ascending=False).head(200).reset_index(drop=True)"
   ]
  },
  {
   "cell_type": "code",
   "execution_count": 93,
   "id": "bb4c6a14",
   "metadata": {},
   "outputs": [],
   "source": [
    "highest_200_imports_2019['status'] = False\n",
    "\n",
    "for index, row in highest_200_imports_2019.iterrows():\n",
    "    if (index == 199):\n",
    "        break\n",
    "    elif highest_200_imports_2019.loc[index, 'country'] in countries:\n",
    "        highest_200_imports_2019.loc[index, 'status'] = True"
   ]
  },
  {
   "cell_type": "code",
   "execution_count": 94,
   "id": "cbaf3826",
   "metadata": {},
   "outputs": [
    {
     "data": {
      "text/html": [
       "<div>\n",
       "<style scoped>\n",
       "    .dataframe tbody tr th:only-of-type {\n",
       "        vertical-align: middle;\n",
       "    }\n",
       "\n",
       "    .dataframe tbody tr th {\n",
       "        vertical-align: top;\n",
       "    }\n",
       "\n",
       "    .dataframe thead th {\n",
       "        text-align: right;\n",
       "    }\n",
       "</style>\n",
       "<table border=\"1\" class=\"dataframe\">\n",
       "  <thead>\n",
       "    <tr style=\"text-align: right;\">\n",
       "      <th></th>\n",
       "      <th>country</th>\n",
       "      <th>element</th>\n",
       "      <th>item</th>\n",
       "      <th>year</th>\n",
       "      <th>unit</th>\n",
       "      <th>value</th>\n",
       "      <th>status</th>\n",
       "    </tr>\n",
       "  </thead>\n",
       "  <tbody>\n",
       "    <tr>\n",
       "      <th>0</th>\n",
       "      <td>India</td>\n",
       "      <td>Import Quantity</td>\n",
       "      <td>Palm Oil</td>\n",
       "      <td>2019</td>\n",
       "      <td>1000 tonnes</td>\n",
       "      <td>9732.0</td>\n",
       "      <td>True</td>\n",
       "    </tr>\n",
       "    <tr>\n",
       "      <th>1</th>\n",
       "      <td>Philippines</td>\n",
       "      <td>Import Quantity</td>\n",
       "      <td>Wheat and products</td>\n",
       "      <td>2019</td>\n",
       "      <td>1000 tonnes</td>\n",
       "      <td>7422.0</td>\n",
       "      <td>True</td>\n",
       "    </tr>\n",
       "    <tr>\n",
       "      <th>2</th>\n",
       "      <td>Nigeria</td>\n",
       "      <td>Import Quantity</td>\n",
       "      <td>Wheat and products</td>\n",
       "      <td>2019</td>\n",
       "      <td>1000 tonnes</td>\n",
       "      <td>4687.0</td>\n",
       "      <td>True</td>\n",
       "    </tr>\n",
       "    <tr>\n",
       "      <th>3</th>\n",
       "      <td>Philippines</td>\n",
       "      <td>Import Quantity</td>\n",
       "      <td>Rice and products</td>\n",
       "      <td>2019</td>\n",
       "      <td>1000 tonnes</td>\n",
       "      <td>4634.0</td>\n",
       "      <td>True</td>\n",
       "    </tr>\n",
       "    <tr>\n",
       "      <th>4</th>\n",
       "      <td>Bangladesh</td>\n",
       "      <td>Import Quantity</td>\n",
       "      <td>Wheat and products</td>\n",
       "      <td>2019</td>\n",
       "      <td>1000 tonnes</td>\n",
       "      <td>4599.0</td>\n",
       "      <td>True</td>\n",
       "    </tr>\n",
       "    <tr>\n",
       "      <th>5</th>\n",
       "      <td>Yemen</td>\n",
       "      <td>Import Quantity</td>\n",
       "      <td>Wheat and products</td>\n",
       "      <td>2019</td>\n",
       "      <td>1000 tonnes</td>\n",
       "      <td>3288.0</td>\n",
       "      <td>True</td>\n",
       "    </tr>\n",
       "    <tr>\n",
       "      <th>6</th>\n",
       "      <td>Pakistan</td>\n",
       "      <td>Import Quantity</td>\n",
       "      <td>Palm Oil</td>\n",
       "      <td>2019</td>\n",
       "      <td>1000 tonnes</td>\n",
       "      <td>3165.0</td>\n",
       "      <td>True</td>\n",
       "    </tr>\n",
       "    <tr>\n",
       "      <th>7</th>\n",
       "      <td>Afghanistan</td>\n",
       "      <td>Import Quantity</td>\n",
       "      <td>Wheat and products</td>\n",
       "      <td>2019</td>\n",
       "      <td>1000 tonnes</td>\n",
       "      <td>2526.0</td>\n",
       "      <td>True</td>\n",
       "    </tr>\n",
       "    <tr>\n",
       "      <th>8</th>\n",
       "      <td>Iraq</td>\n",
       "      <td>Import Quantity</td>\n",
       "      <td>Wheat and products</td>\n",
       "      <td>2019</td>\n",
       "      <td>1000 tonnes</td>\n",
       "      <td>2508.0</td>\n",
       "      <td>True</td>\n",
       "    </tr>\n",
       "    <tr>\n",
       "      <th>9</th>\n",
       "      <td>Bangladesh</td>\n",
       "      <td>Import Quantity</td>\n",
       "      <td>Sugar (Raw Equivalent)</td>\n",
       "      <td>2019</td>\n",
       "      <td>1000 tonnes</td>\n",
       "      <td>2275.0</td>\n",
       "      <td>True</td>\n",
       "    </tr>\n",
       "    <tr>\n",
       "      <th>10</th>\n",
       "      <td>Sudan</td>\n",
       "      <td>Import Quantity</td>\n",
       "      <td>Wheat and products</td>\n",
       "      <td>2019</td>\n",
       "      <td>1000 tonnes</td>\n",
       "      <td>2156.0</td>\n",
       "      <td>True</td>\n",
       "    </tr>\n",
       "    <tr>\n",
       "      <th>11</th>\n",
       "      <td>Kenya</td>\n",
       "      <td>Import Quantity</td>\n",
       "      <td>Wheat and products</td>\n",
       "      <td>2019</td>\n",
       "      <td>1000 tonnes</td>\n",
       "      <td>2029.0</td>\n",
       "      <td>True</td>\n",
       "    </tr>\n",
       "    <tr>\n",
       "      <th>12</th>\n",
       "      <td>Iraq</td>\n",
       "      <td>Import Quantity</td>\n",
       "      <td>Rice and products</td>\n",
       "      <td>2019</td>\n",
       "      <td>1000 tonnes</td>\n",
       "      <td>1935.0</td>\n",
       "      <td>True</td>\n",
       "    </tr>\n",
       "    <tr>\n",
       "      <th>13</th>\n",
       "      <td>Nigeria</td>\n",
       "      <td>Import Quantity</td>\n",
       "      <td>Sugar (Raw Equivalent)</td>\n",
       "      <td>2019</td>\n",
       "      <td>1000 tonnes</td>\n",
       "      <td>1892.0</td>\n",
       "      <td>True</td>\n",
       "    </tr>\n",
       "    <tr>\n",
       "      <th>14</th>\n",
       "      <td>India</td>\n",
       "      <td>Import Quantity</td>\n",
       "      <td>Pulses, Other and products</td>\n",
       "      <td>2019</td>\n",
       "      <td>1000 tonnes</td>\n",
       "      <td>1785.0</td>\n",
       "      <td>True</td>\n",
       "    </tr>\n",
       "    <tr>\n",
       "      <th>15</th>\n",
       "      <td>Venezuela (Bolivarian Republic of)</td>\n",
       "      <td>Import Quantity</td>\n",
       "      <td>Maize and products</td>\n",
       "      <td>2019</td>\n",
       "      <td>1000 tonnes</td>\n",
       "      <td>1635.0</td>\n",
       "      <td>True</td>\n",
       "    </tr>\n",
       "    <tr>\n",
       "      <th>16</th>\n",
       "      <td>Sudan</td>\n",
       "      <td>Import Quantity</td>\n",
       "      <td>Sugar (Raw Equivalent)</td>\n",
       "      <td>2019</td>\n",
       "      <td>1000 tonnes</td>\n",
       "      <td>1505.0</td>\n",
       "      <td>True</td>\n",
       "    </tr>\n",
       "    <tr>\n",
       "      <th>17</th>\n",
       "      <td>Mozambique</td>\n",
       "      <td>Import Quantity</td>\n",
       "      <td>Rice and products</td>\n",
       "      <td>2019</td>\n",
       "      <td>1000 tonnes</td>\n",
       "      <td>1456.0</td>\n",
       "      <td>True</td>\n",
       "    </tr>\n",
       "    <tr>\n",
       "      <th>18</th>\n",
       "      <td>Ethiopia</td>\n",
       "      <td>Import Quantity</td>\n",
       "      <td>Wheat and products</td>\n",
       "      <td>2019</td>\n",
       "      <td>1000 tonnes</td>\n",
       "      <td>1425.0</td>\n",
       "      <td>True</td>\n",
       "    </tr>\n",
       "    <tr>\n",
       "      <th>19</th>\n",
       "      <td>Guatemala</td>\n",
       "      <td>Import Quantity</td>\n",
       "      <td>Maize and products</td>\n",
       "      <td>2019</td>\n",
       "      <td>1000 tonnes</td>\n",
       "      <td>1370.0</td>\n",
       "      <td>True</td>\n",
       "    </tr>\n",
       "    <tr>\n",
       "      <th>20</th>\n",
       "      <td>Bangladesh</td>\n",
       "      <td>Import Quantity</td>\n",
       "      <td>Palm Oil</td>\n",
       "      <td>2019</td>\n",
       "      <td>1000 tonnes</td>\n",
       "      <td>1335.0</td>\n",
       "      <td>True</td>\n",
       "    </tr>\n",
       "    <tr>\n",
       "      <th>21</th>\n",
       "      <td>Senegal</td>\n",
       "      <td>Import Quantity</td>\n",
       "      <td>Rice and products</td>\n",
       "      <td>2019</td>\n",
       "      <td>1000 tonnes</td>\n",
       "      <td>1334.0</td>\n",
       "      <td>True</td>\n",
       "    </tr>\n",
       "    <tr>\n",
       "      <th>22</th>\n",
       "      <td>Bangladesh</td>\n",
       "      <td>Import Quantity</td>\n",
       "      <td>Maize and products</td>\n",
       "      <td>2019</td>\n",
       "      <td>1000 tonnes</td>\n",
       "      <td>1310.0</td>\n",
       "      <td>True</td>\n",
       "    </tr>\n",
       "    <tr>\n",
       "      <th>23</th>\n",
       "      <td>Nigeria</td>\n",
       "      <td>Import Quantity</td>\n",
       "      <td>Palm Oil</td>\n",
       "      <td>2019</td>\n",
       "      <td>1000 tonnes</td>\n",
       "      <td>1282.0</td>\n",
       "      <td>True</td>\n",
       "    </tr>\n",
       "    <tr>\n",
       "      <th>24</th>\n",
       "      <td>Ecuador</td>\n",
       "      <td>Import Quantity</td>\n",
       "      <td>Wheat and products</td>\n",
       "      <td>2019</td>\n",
       "      <td>1000 tonnes</td>\n",
       "      <td>1233.0</td>\n",
       "      <td>True</td>\n",
       "    </tr>\n",
       "    <tr>\n",
       "      <th>25</th>\n",
       "      <td>India</td>\n",
       "      <td>Import Quantity</td>\n",
       "      <td>Nuts and products</td>\n",
       "      <td>2019</td>\n",
       "      <td>1000 tonnes</td>\n",
       "      <td>1105.0</td>\n",
       "      <td>True</td>\n",
       "    </tr>\n",
       "    <tr>\n",
       "      <th>26</th>\n",
       "      <td>Angola</td>\n",
       "      <td>Import Quantity</td>\n",
       "      <td>Wheat and products</td>\n",
       "      <td>2019</td>\n",
       "      <td>1000 tonnes</td>\n",
       "      <td>1089.0</td>\n",
       "      <td>True</td>\n",
       "    </tr>\n",
       "    <tr>\n",
       "      <th>27</th>\n",
       "      <td>India</td>\n",
       "      <td>Import Quantity</td>\n",
       "      <td>Sugar (Raw Equivalent)</td>\n",
       "      <td>2019</td>\n",
       "      <td>1000 tonnes</td>\n",
       "      <td>1004.0</td>\n",
       "      <td>True</td>\n",
       "    </tr>\n",
       "    <tr>\n",
       "      <th>28</th>\n",
       "      <td>Iraq</td>\n",
       "      <td>Import Quantity</td>\n",
       "      <td>Sugar (Raw Equivalent)</td>\n",
       "      <td>2019</td>\n",
       "      <td>1000 tonnes</td>\n",
       "      <td>1001.0</td>\n",
       "      <td>True</td>\n",
       "    </tr>\n",
       "    <tr>\n",
       "      <th>29</th>\n",
       "      <td>United Republic of Tanzania</td>\n",
       "      <td>Import Quantity</td>\n",
       "      <td>Wheat and products</td>\n",
       "      <td>2019</td>\n",
       "      <td>1000 tonnes</td>\n",
       "      <td>955.0</td>\n",
       "      <td>True</td>\n",
       "    </tr>\n",
       "  </tbody>\n",
       "</table>\n",
       "</div>"
      ],
      "text/plain": [
       "                               country          element  \\\n",
       "0                                India  Import Quantity   \n",
       "1                          Philippines  Import Quantity   \n",
       "2                              Nigeria  Import Quantity   \n",
       "3                          Philippines  Import Quantity   \n",
       "4                           Bangladesh  Import Quantity   \n",
       "5                                Yemen  Import Quantity   \n",
       "6                             Pakistan  Import Quantity   \n",
       "7                          Afghanistan  Import Quantity   \n",
       "8                                 Iraq  Import Quantity   \n",
       "9                           Bangladesh  Import Quantity   \n",
       "10                               Sudan  Import Quantity   \n",
       "11                               Kenya  Import Quantity   \n",
       "12                                Iraq  Import Quantity   \n",
       "13                             Nigeria  Import Quantity   \n",
       "14                               India  Import Quantity   \n",
       "15  Venezuela (Bolivarian Republic of)  Import Quantity   \n",
       "16                               Sudan  Import Quantity   \n",
       "17                          Mozambique  Import Quantity   \n",
       "18                            Ethiopia  Import Quantity   \n",
       "19                           Guatemala  Import Quantity   \n",
       "20                          Bangladesh  Import Quantity   \n",
       "21                             Senegal  Import Quantity   \n",
       "22                          Bangladesh  Import Quantity   \n",
       "23                             Nigeria  Import Quantity   \n",
       "24                             Ecuador  Import Quantity   \n",
       "25                               India  Import Quantity   \n",
       "26                              Angola  Import Quantity   \n",
       "27                               India  Import Quantity   \n",
       "28                                Iraq  Import Quantity   \n",
       "29         United Republic of Tanzania  Import Quantity   \n",
       "\n",
       "                          item  year         unit   value  status  \n",
       "0                     Palm Oil  2019  1000 tonnes  9732.0    True  \n",
       "1           Wheat and products  2019  1000 tonnes  7422.0    True  \n",
       "2           Wheat and products  2019  1000 tonnes  4687.0    True  \n",
       "3            Rice and products  2019  1000 tonnes  4634.0    True  \n",
       "4           Wheat and products  2019  1000 tonnes  4599.0    True  \n",
       "5           Wheat and products  2019  1000 tonnes  3288.0    True  \n",
       "6                     Palm Oil  2019  1000 tonnes  3165.0    True  \n",
       "7           Wheat and products  2019  1000 tonnes  2526.0    True  \n",
       "8           Wheat and products  2019  1000 tonnes  2508.0    True  \n",
       "9       Sugar (Raw Equivalent)  2019  1000 tonnes  2275.0    True  \n",
       "10          Wheat and products  2019  1000 tonnes  2156.0    True  \n",
       "11          Wheat and products  2019  1000 tonnes  2029.0    True  \n",
       "12           Rice and products  2019  1000 tonnes  1935.0    True  \n",
       "13      Sugar (Raw Equivalent)  2019  1000 tonnes  1892.0    True  \n",
       "14  Pulses, Other and products  2019  1000 tonnes  1785.0    True  \n",
       "15          Maize and products  2019  1000 tonnes  1635.0    True  \n",
       "16      Sugar (Raw Equivalent)  2019  1000 tonnes  1505.0    True  \n",
       "17           Rice and products  2019  1000 tonnes  1456.0    True  \n",
       "18          Wheat and products  2019  1000 tonnes  1425.0    True  \n",
       "19          Maize and products  2019  1000 tonnes  1370.0    True  \n",
       "20                    Palm Oil  2019  1000 tonnes  1335.0    True  \n",
       "21           Rice and products  2019  1000 tonnes  1334.0    True  \n",
       "22          Maize and products  2019  1000 tonnes  1310.0    True  \n",
       "23                    Palm Oil  2019  1000 tonnes  1282.0    True  \n",
       "24          Wheat and products  2019  1000 tonnes  1233.0    True  \n",
       "25           Nuts and products  2019  1000 tonnes  1105.0    True  \n",
       "26          Wheat and products  2019  1000 tonnes  1089.0    True  \n",
       "27      Sugar (Raw Equivalent)  2019  1000 tonnes  1004.0    True  \n",
       "28      Sugar (Raw Equivalent)  2019  1000 tonnes  1001.0    True  \n",
       "29          Wheat and products  2019  1000 tonnes   955.0    True  "
      ]
     },
     "execution_count": 94,
     "metadata": {},
     "output_type": "execute_result"
    }
   ],
   "source": [
    "highest_200_imports_2019[(highest_200_imports_2019.status==True)].reset_index(drop=True)"
   ]
  },
  {
   "cell_type": "markdown",
   "id": "0073768f",
   "metadata": {},
   "source": [
    "#### Conlusion : 30 of the 200 highest imports of the 25 most exported items come from countries with more than 10% of malnourishment."
   ]
  },
  {
   "cell_type": "markdown",
   "id": "2439f869",
   "metadata": {},
   "source": [
    "## Task 5 : Identify major trends"
   ]
  },
  {
   "cell_type": "markdown",
   "id": "8e4da347",
   "metadata": {},
   "source": [
    "### Question 1"
   ]
  },
  {
   "cell_type": "code",
   "execution_count": 96,
   "id": "ec1c7762",
   "metadata": {},
   "outputs": [],
   "source": [
    "import pandas as pd  \n",
    "import matplotlib.pyplot as plt  \n",
    "import seaborn as sns  \n",
    "import numpy as np  \n",
    "\n",
    "plants_2019 = pd.read_csv('veg_2019.csv', encoding='latin-1')  \n",
    "plants_2014 = pd.read_csv('veg_2014.csv', encoding='latin-1')  \n",
    "animals_2019 = pd.read_csv('ani_2019.csv', encoding='latin-1')  \n",
    "animals_2014 = pd.read_csv('ani_2014.csv', encoding='latin-1')  \n",
    "\n",
    "df_plants_2019 = pd.DataFrame(plants_2019)  \n",
    "df_plants_2019.columns = df_plants_2019.columns.str.strip().str.replace(' ', '_').str.lower()  \n",
    "df_plants_2019 = df_plants_2019.rename(columns={'area':'country'}).drop(['item_code', 'ï»¿domain_code', 'element_code', 'year_code', 'flag', 'domain', 'area_code_(fao)', 'flag_description'], axis=1)\n",
    "\n",
    "df_plants_2014 = pd.DataFrame(plants_2014)  \n",
    "df_plants_2014.columns = df_plants_2014.columns.str.strip().str.replace(' ', '_').str.lower()  \n",
    "df_plants_2014 = df_plants_2014.rename(columns={'area':'country'}).drop(['item_code', 'ï»¿domain_code', 'element_code', 'year_code', 'flag', 'domain', 'area_code_(fao)', 'flag_description'], axis=1)  \n",
    "\n",
    "df_animals_2019 = pd.DataFrame(animals_2019)  \n",
    "df_animals_2019.columns = df_animals_2019.columns.str.strip().str.replace(' ', '_').str.lower()  \n",
    "df_animals_2019 = df_animals_2019.rename(columns={'area':'country'}).drop(['item_code', 'ï»¿domain_code', 'element_code', 'year_code', 'flag', 'domain', 'area_code_(fao)', 'flag_description'], axis=1)    \n",
    "\n",
    "df_animals_2014 = pd.DataFrame(animals_2014)  \n",
    "df_animals_2014.columns = df_animals_2014.columns.str.strip().str.replace(' ', '_').str.lower()  \n",
    "df_animals_2014 = df_animals_2014.rename(columns={'area':'country'}).drop(['item_code', 'ï»¿domain_code', 'element_code', 'year_code', 'flag', 'domain', 'area_code_(fao)', 'flag_description'], axis=1)  "
   ]
  },
  {
   "cell_type": "markdown",
   "id": "08767d57",
   "metadata": {},
   "source": [
    "#### Domestic supply qty for vegetales"
   ]
  },
  {
   "cell_type": "code",
   "execution_count": 97,
   "id": "eec3ee65",
   "metadata": {},
   "outputs": [],
   "source": [
    "veg_dom_2014 = df_plants_2014[(df_plants_2014.element==\"Domestic supply quantity\")]  \n",
    "veg_dom_2019 = df_plants_2019[(df_plants_2019.element==\"Domestic supply quantity\")] \n",
    "\n",
    "x1 = veg_dom_2014.value.sum() \n",
    "x2 = veg_dom_2019.value.sum() "
   ]
  },
  {
   "cell_type": "code",
   "execution_count": 98,
   "id": "eabef67e",
   "metadata": {},
   "outputs": [
    {
     "data": {
      "text/plain": [
       "9162890.0"
      ]
     },
     "execution_count": 98,
     "metadata": {},
     "output_type": "execute_result"
    }
   ],
   "source": [
    "x1"
   ]
  },
  {
   "cell_type": "code",
   "execution_count": 99,
   "id": "1c6ced6c",
   "metadata": {},
   "outputs": [
    {
     "data": {
      "text/plain": [
       "9905378.0"
      ]
     },
     "execution_count": 99,
     "metadata": {},
     "output_type": "execute_result"
    }
   ],
   "source": [
    "x2"
   ]
  },
  {
   "cell_type": "markdown",
   "id": "f1a549ac",
   "metadata": {},
   "source": [
    "#### Domestic supply qty for animals "
   ]
  },
  {
   "cell_type": "code",
   "execution_count": 48,
   "id": "562669c0",
   "metadata": {},
   "outputs": [],
   "source": [
    "ani_dom_2014 = df_animals_2014[(df_animals_2014.element==\"Domestic supply quantity\")]  \n",
    "ani_dom_2019 = df_animals_2019[(df_animals_2019.element==\"Domestic supply quantity\")]  \n",
    "\n",
    "x3 = ani_dom_2014.value.sum() \n",
    "x4 = ani_dom_2019.value.sum() "
   ]
  },
  {
   "cell_type": "code",
   "execution_count": 100,
   "id": "a7600462",
   "metadata": {},
   "outputs": [
    {
     "data": {
      "text/plain": [
       "21458.0"
      ]
     },
     "execution_count": 100,
     "metadata": {},
     "output_type": "execute_result"
    }
   ],
   "source": [
    "x3"
   ]
  },
  {
   "cell_type": "code",
   "execution_count": 101,
   "id": "3fe49021",
   "metadata": {},
   "outputs": [
    {
     "data": {
      "text/plain": [
       "1085.0"
      ]
     },
     "execution_count": 101,
     "metadata": {},
     "output_type": "execute_result"
    }
   ],
   "source": [
    "x4"
   ]
  },
  {
   "cell_type": "markdown",
   "id": "14acdb84",
   "metadata": {},
   "source": [
    "#### Global Domestic supply qty for vegetales and animals  "
   ]
  },
  {
   "cell_type": "code",
   "execution_count": 103,
   "id": "edeadbb7",
   "metadata": {},
   "outputs": [],
   "source": [
    "xtot1 = x1 + x3  \n",
    "xtot2 = x2 + x4 "
   ]
  },
  {
   "cell_type": "code",
   "execution_count": 104,
   "id": "d44e9c2a",
   "metadata": {},
   "outputs": [
    {
     "data": {
      "text/plain": [
       "9184348.0"
      ]
     },
     "execution_count": 104,
     "metadata": {},
     "output_type": "execute_result"
    }
   ],
   "source": [
    "xtot1"
   ]
  },
  {
   "cell_type": "code",
   "execution_count": 105,
   "id": "d438dd10",
   "metadata": {},
   "outputs": [
    {
     "data": {
      "text/plain": [
       "9906463.0"
      ]
     },
     "execution_count": 105,
     "metadata": {},
     "output_type": "execute_result"
    }
   ],
   "source": [
    "xtot2"
   ]
  },
  {
   "cell_type": "markdown",
   "id": "5bdf3335",
   "metadata": {},
   "source": [
    "#### Proportion of Global Domestic Supply per item for year 2014"
   ]
  },
  {
   "cell_type": "code",
   "execution_count": 107,
   "id": "8a41adb8",
   "metadata": {},
   "outputs": [],
   "source": [
    "x5 = df_plants_2014[(df_plants_2014.element==\"Food\")].value.sum()  \n",
    "x6 = df_plants_2019[(df_plants_2019.element==\"Food\")].value.sum()  \n",
    "x7 = df_plants_2014[(df_plants_2014.element==\"Feed\")].value.sum()  \n",
    "x8 = df_plants_2019[(df_plants_2019.element==\"Feed\")].value.sum()  \n",
    "x9 = df_plants_2014[(df_plants_2014.element==\"Losses\")].value.sum()  \n",
    "x10 = df_plants_2019[(df_plants_2019.element==\"Losses\")].value.sum()  \n",
    "x11 = df_plants_2014[(df_plants_2014.element==\"Other uses (non-food)\")].value.sum()  \n",
    "x12 = df_plants_2019[(df_plants_2019.element==\"Other uses (non-food)\")].value.sum()  \n",
    "\n",
    "food_ratio_2014 = x5 / xtot1 * 100  \n",
    "feed_ratio_2014 = x7 / xtot1 * 100  \n",
    "losses_ratio_2014 = x9 / xtot1 * 100  \n",
    "other_uses_ratio_2014 = x11 / xtot1 * 100 \n",
    "\n",
    "food_ratio_2019 = x6 / xtot2 * 100  \n",
    "feed_ratio_2019 = x8 / xtot2 * 100  \n",
    "losses_ratio_2019 = x10 / xtot2 * 100  \n",
    "other_uses_ratio_2019 = x12 / xtot2 * 100 "
   ]
  },
  {
   "cell_type": "code",
   "execution_count": 108,
   "id": "5731ae70",
   "metadata": {},
   "outputs": [
    {
     "data": {
      "text/plain": [
       "43.431226691323104"
      ]
     },
     "execution_count": 108,
     "metadata": {},
     "output_type": "execute_result"
    }
   ],
   "source": [
    "food_ratio_2014"
   ]
  },
  {
   "cell_type": "code",
   "execution_count": 109,
   "id": "dbd2952a",
   "metadata": {},
   "outputs": [
    {
     "data": {
      "text/plain": [
       "12.888372696679177"
      ]
     },
     "execution_count": 109,
     "metadata": {},
     "output_type": "execute_result"
    }
   ],
   "source": [
    "feed_ratio_2014"
   ]
  },
  {
   "cell_type": "code",
   "execution_count": 110,
   "id": "1bbed020",
   "metadata": {},
   "outputs": [
    {
     "data": {
      "text/plain": [
       "5.934084814730452"
      ]
     },
     "execution_count": 110,
     "metadata": {},
     "output_type": "execute_result"
    }
   ],
   "source": [
    "losses_ratio_2014"
   ]
  },
  {
   "cell_type": "code",
   "execution_count": 111,
   "id": "dc93fca2",
   "metadata": {},
   "outputs": [
    {
     "data": {
      "text/plain": [
       "8.206940764875197"
      ]
     },
     "execution_count": 111,
     "metadata": {},
     "output_type": "execute_result"
    }
   ],
   "source": [
    "other_uses_ratio_2014"
   ]
  },
  {
   "cell_type": "code",
   "execution_count": 112,
   "id": "13f6429a",
   "metadata": {},
   "outputs": [
    {
     "data": {
      "text/plain": [
       "43.12697680292148"
      ]
     },
     "execution_count": 112,
     "metadata": {},
     "output_type": "execute_result"
    }
   ],
   "source": [
    "food_ratio_2019"
   ]
  },
  {
   "cell_type": "code",
   "execution_count": 113,
   "id": "d92fe4c5",
   "metadata": {},
   "outputs": [
    {
     "data": {
      "text/plain": [
       "13.762328693904172"
      ]
     },
     "execution_count": 113,
     "metadata": {},
     "output_type": "execute_result"
    }
   ],
   "source": [
    "feed_ratio_2019"
   ]
  },
  {
   "cell_type": "code",
   "execution_count": 114,
   "id": "240c64be",
   "metadata": {},
   "outputs": [
    {
     "data": {
      "text/plain": [
       "5.832384373716431"
      ]
     },
     "execution_count": 114,
     "metadata": {},
     "output_type": "execute_result"
    }
   ],
   "source": [
    "losses_ratio_2019"
   ]
  },
  {
   "cell_type": "code",
   "execution_count": 115,
   "id": "4acfaea2",
   "metadata": {},
   "outputs": [
    {
     "data": {
      "text/plain": [
       "9.017204223142002"
      ]
     },
     "execution_count": 115,
     "metadata": {},
     "output_type": "execute_result"
    }
   ],
   "source": [
    "other_uses_ratio_2019"
   ]
  },
  {
   "cell_type": "markdown",
   "id": "6aa87fb8",
   "metadata": {},
   "source": [
    "### Question 2\n",
    "\n",
    "Observation : \n",
    "\n",
    "Average consumption of calories per human = 2400 kcal/day/person for males and 2000 kcal/day/person for females; averaging at 2200 kcal/day/person ;\n",
    "\n",
    "Average consumption of protein per human = 56 grams per day for the average sedentary man and 46 grams per day for the average sedentary woman; averaging at 51 g per day"
   ]
  },
  {
   "cell_type": "markdown",
   "id": "d29e3ea0",
   "metadata": {},
   "source": [
    "#### Using the Food supply in kcal and kgproteine to determine the share of \"food and feed\" in calories and protein in 2019"
   ]
  },
  {
   "cell_type": "code",
   "execution_count": 117,
   "id": "802aed43",
   "metadata": {},
   "outputs": [],
   "source": [
    "food_feed_2019_kcal = df_plants_2019[(df_plants_2019.element=='Food supply (kcal/capita/day)')&(df_plants_2019.year==2019)].reset_index(drop=True)\n",
    "food_feed_2019_kcal = food_feed_2019_kcal.drop(columns={'year'}).rename(columns={'value':'food_supply_kcal_capita_2019'})\n",
    "food_feed_2019_m1 = food_feed_2019_kcal.merge(population_df_2019 , how='left', on='country')\n",
    "\n",
    "food_feed_2019_gprot = df_plants_2019[(df_plants_2019.element=='Protein supply quantity (g/capita/day)')&(df_plants_2019.year==2019)].reset_index(drop=True)\n",
    "food_feed_2019_gprot = food_feed_2019_gprot.drop(columns={'year'}).rename(columns={'value':'food_supply_gprot_capita_2019'})\n",
    "food_feed_2019_m2 = food_feed_2019_gprot.merge(population_df_2019 , how='left', on='country')\n",
    "\n",
    "food_feed_2019_m1['food_feed_2019_kcal'] = food_feed_2019_m1['food_supply_kcal_capita_2019'] * food_feed_2019_m1['population_2019'] * 1000\n",
    "food_feed_2019_m2['food_feed_2019_gprot'] = food_feed_2019_m2['food_supply_gprot_capita_2019'] * food_feed_2019_m2['population_2019'] * 1000"
   ]
  },
  {
   "cell_type": "code",
   "execution_count": 118,
   "id": "fe83b4e5",
   "metadata": {},
   "outputs": [
    {
     "data": {
      "text/html": [
       "<div>\n",
       "<style scoped>\n",
       "    .dataframe tbody tr th:only-of-type {\n",
       "        vertical-align: middle;\n",
       "    }\n",
       "\n",
       "    .dataframe tbody tr th {\n",
       "        vertical-align: top;\n",
       "    }\n",
       "\n",
       "    .dataframe thead th {\n",
       "        text-align: right;\n",
       "    }\n",
       "</style>\n",
       "<table border=\"1\" class=\"dataframe\">\n",
       "  <thead>\n",
       "    <tr style=\"text-align: right;\">\n",
       "      <th></th>\n",
       "      <th>food_feed_2019_kcal</th>\n",
       "      <th>item</th>\n",
       "    </tr>\n",
       "  </thead>\n",
       "  <tbody>\n",
       "    <tr>\n",
       "      <th>0</th>\n",
       "      <td>5.276425e+10</td>\n",
       "      <td>Wheat and products</td>\n",
       "    </tr>\n",
       "    <tr>\n",
       "      <th>1</th>\n",
       "      <td>4.793292e+09</td>\n",
       "      <td>Rice and products</td>\n",
       "    </tr>\n",
       "    <tr>\n",
       "      <th>2</th>\n",
       "      <td>1.141260e+08</td>\n",
       "      <td>Barley and products</td>\n",
       "    </tr>\n",
       "    <tr>\n",
       "      <th>3</th>\n",
       "      <td>1.217344e+09</td>\n",
       "      <td>Maize and products</td>\n",
       "    </tr>\n",
       "    <tr>\n",
       "      <th>4</th>\n",
       "      <td>3.804200e+07</td>\n",
       "      <td>Oats</td>\n",
       "    </tr>\n",
       "    <tr>\n",
       "      <th>...</th>\n",
       "      <td>...</td>\n",
       "      <td>...</td>\n",
       "    </tr>\n",
       "    <tr>\n",
       "      <th>11333</th>\n",
       "      <td>2.782550e+08</td>\n",
       "      <td>Beer</td>\n",
       "    </tr>\n",
       "    <tr>\n",
       "      <th>11334</th>\n",
       "      <td>8.787000e+07</td>\n",
       "      <td>Beverages, Fermented</td>\n",
       "    </tr>\n",
       "    <tr>\n",
       "      <th>11335</th>\n",
       "      <td>4.539950e+08</td>\n",
       "      <td>Beverages, Alcoholic</td>\n",
       "    </tr>\n",
       "    <tr>\n",
       "      <th>11336</th>\n",
       "      <td>0.000000e+00</td>\n",
       "      <td>Infant food</td>\n",
       "    </tr>\n",
       "    <tr>\n",
       "      <th>11337</th>\n",
       "      <td>2.929000e+07</td>\n",
       "      <td>Miscellaneous</td>\n",
       "    </tr>\n",
       "  </tbody>\n",
       "</table>\n",
       "<p>11338 rows × 2 columns</p>\n",
       "</div>"
      ],
      "text/plain": [
       "       food_feed_2019_kcal                  item\n",
       "0             5.276425e+10    Wheat and products\n",
       "1             4.793292e+09     Rice and products\n",
       "2             1.141260e+08   Barley and products\n",
       "3             1.217344e+09    Maize and products\n",
       "4             3.804200e+07                  Oats\n",
       "...                    ...                   ...\n",
       "11333         2.782550e+08                  Beer\n",
       "11334         8.787000e+07  Beverages, Fermented\n",
       "11335         4.539950e+08  Beverages, Alcoholic\n",
       "11336         0.000000e+00           Infant food\n",
       "11337         2.929000e+07         Miscellaneous\n",
       "\n",
       "[11338 rows x 2 columns]"
      ]
     },
     "execution_count": 118,
     "metadata": {},
     "output_type": "execute_result"
    }
   ],
   "source": [
    "food_feed_2019_m1.filter({'item','food_feed_2019_kcal'})"
   ]
  },
  {
   "cell_type": "code",
   "execution_count": 119,
   "id": "42539c25",
   "metadata": {},
   "outputs": [
    {
     "data": {
      "text/html": [
       "<div>\n",
       "<style scoped>\n",
       "    .dataframe tbody tr th:only-of-type {\n",
       "        vertical-align: middle;\n",
       "    }\n",
       "\n",
       "    .dataframe tbody tr th {\n",
       "        vertical-align: top;\n",
       "    }\n",
       "\n",
       "    .dataframe thead th {\n",
       "        text-align: right;\n",
       "    }\n",
       "</style>\n",
       "<table border=\"1\" class=\"dataframe\">\n",
       "  <thead>\n",
       "    <tr style=\"text-align: right;\">\n",
       "      <th></th>\n",
       "      <th>food_feed_2019_gprot</th>\n",
       "      <th>item</th>\n",
       "    </tr>\n",
       "  </thead>\n",
       "  <tbody>\n",
       "    <tr>\n",
       "      <th>0</th>\n",
       "      <td>1.423151e+09</td>\n",
       "      <td>Wheat and products</td>\n",
       "    </tr>\n",
       "    <tr>\n",
       "      <th>1</th>\n",
       "      <td>9.092038e+07</td>\n",
       "      <td>Rice and products</td>\n",
       "    </tr>\n",
       "    <tr>\n",
       "      <th>2</th>\n",
       "      <td>3.423780e+06</td>\n",
       "      <td>Barley and products</td>\n",
       "    </tr>\n",
       "    <tr>\n",
       "      <th>3</th>\n",
       "      <td>3.271612e+07</td>\n",
       "      <td>Maize and products</td>\n",
       "    </tr>\n",
       "    <tr>\n",
       "      <th>4</th>\n",
       "      <td>1.521680e+06</td>\n",
       "      <td>Oats</td>\n",
       "    </tr>\n",
       "    <tr>\n",
       "      <th>...</th>\n",
       "      <td>...</td>\n",
       "      <td>...</td>\n",
       "    </tr>\n",
       "    <tr>\n",
       "      <th>11349</th>\n",
       "      <td>3.221900e+06</td>\n",
       "      <td>Beer</td>\n",
       "    </tr>\n",
       "    <tr>\n",
       "      <th>11350</th>\n",
       "      <td>1.171600e+06</td>\n",
       "      <td>Beverages, Fermented</td>\n",
       "    </tr>\n",
       "    <tr>\n",
       "      <th>11351</th>\n",
       "      <td>0.000000e+00</td>\n",
       "      <td>Beverages, Alcoholic</td>\n",
       "    </tr>\n",
       "    <tr>\n",
       "      <th>11352</th>\n",
       "      <td>0.000000e+00</td>\n",
       "      <td>Infant food</td>\n",
       "    </tr>\n",
       "    <tr>\n",
       "      <th>11353</th>\n",
       "      <td>1.025150e+06</td>\n",
       "      <td>Miscellaneous</td>\n",
       "    </tr>\n",
       "  </tbody>\n",
       "</table>\n",
       "<p>11354 rows × 2 columns</p>\n",
       "</div>"
      ],
      "text/plain": [
       "       food_feed_2019_gprot                  item\n",
       "0              1.423151e+09    Wheat and products\n",
       "1              9.092038e+07     Rice and products\n",
       "2              3.423780e+06   Barley and products\n",
       "3              3.271612e+07    Maize and products\n",
       "4              1.521680e+06                  Oats\n",
       "...                     ...                   ...\n",
       "11349          3.221900e+06                  Beer\n",
       "11350          1.171600e+06  Beverages, Fermented\n",
       "11351          0.000000e+00  Beverages, Alcoholic\n",
       "11352          0.000000e+00           Infant food\n",
       "11353          1.025150e+06         Miscellaneous\n",
       "\n",
       "[11354 rows x 2 columns]"
      ]
     },
     "execution_count": 119,
     "metadata": {},
     "output_type": "execute_result"
    }
   ],
   "source": [
    "food_feed_2019_m2.filter({'item','food_feed_2019_gprot'})"
   ]
  },
  {
   "cell_type": "markdown",
   "id": "55e7940f",
   "metadata": {},
   "source": [
    "#### Plant based items total GDP in kcal and gprotein :"
   ]
  },
  {
   "cell_type": "code",
   "execution_count": 52,
   "id": "1066c2af",
   "metadata": {},
   "outputs": [],
   "source": [
    "x13 = int(food_feed_2019_m1.food_feed_2019_kcal.sum())\n",
    "x14 = int(food_feed_2019_m2.food_feed_2019_gprot.sum())"
   ]
  },
  {
   "cell_type": "markdown",
   "id": "5f0b1cac",
   "metadata": {},
   "source": [
    "#### Calculating the number of humans that could be fed from all the plant-based food supply  "
   ]
  },
  {
   "cell_type": "code",
   "execution_count": 53,
   "id": "56fd1a48",
   "metadata": {},
   "outputs": [],
   "source": [
    "Pop_fed_kcal_2019 = (x13 / 2200) / (population_df_2019.population_2019.sum() * 1000)\n",
    "Pop_fed_kgprot_2019 = (x14 / 51) / (population_df_2019.population_2019.sum() * 1000)"
   ]
  },
  {
   "cell_type": "code",
   "execution_count": 54,
   "id": "327fa299",
   "metadata": {},
   "outputs": [
    {
     "data": {
      "text/plain": [
       "0.9773606308008054"
      ]
     },
     "execution_count": 54,
     "metadata": {},
     "output_type": "execute_result"
    }
   ],
   "source": [
    "Pop_fed_kgprot_2019"
   ]
  },
  {
   "cell_type": "markdown",
   "id": "53416473",
   "metadata": {},
   "source": [
    "#### Conclusion :"
   ]
  },
  {
   "cell_type": "markdown",
   "id": "7e4e77e2",
   "metadata": {},
   "source": [
    "If all plant-based food was fed to humans, including food and feed, then 109% of the total population in 2019 could eat 2200 kcal a day and 97.7% could eat 51 g of protein a day. So why are we wasting so much food to produce animal products ? Our world's hunger and undernourishment problem could be dealt with in a instant...  moreover, producing animal products requires enormous amounts of energy and water."
   ]
  },
  {
   "cell_type": "markdown",
   "id": "e48bdaa8",
   "metadata": {},
   "source": [
    "Fact : A toxic blend of conflict, climate change, and Covid-19 has caused the number of people facing chronic hunger to increase by as much as 161 million in the last year, and as many as 2.37 billion people—one in every three on the planet— did not have access to adequate food in 2020"
   ]
  },
  {
   "cell_type": "markdown",
   "id": "69c7eca7",
   "metadata": {},
   "source": [
    "### Question 3"
   ]
  },
  {
   "cell_type": "markdown",
   "id": "6c659b8b",
   "metadata": {},
   "source": [
    "Fact : According to the Food and Agriculture Organization of the United Nations, the world produces more than 1 1/2 times enough food to feed everyone on the planet. "
   ]
  },
  {
   "cell_type": "markdown",
   "id": "742f97b7",
   "metadata": {},
   "source": [
    "Fact : The world's total total food supply was estimated at 507,613 kcal per capita per day in 2019."
   ]
  },
  {
   "cell_type": "markdown",
   "id": "a58084bf",
   "metadata": {},
   "source": [
    "Fact : An estimated 25 percent of the world’s food calories and up to 50 percent of total food weight are lost or wasted before they can be consumed."
   ]
  },
  {
   "cell_type": "markdown",
   "id": "8d0eb0c6",
   "metadata": {},
   "source": [
    "#### Year 2019's global food supply in kcal :"
   ]
  },
  {
   "cell_type": "code",
   "execution_count": 55,
   "id": "9f944c47",
   "metadata": {},
   "outputs": [],
   "source": [
    "x15 = food_supply_m.food_supply_kcal_2019.sum()"
   ]
  },
  {
   "cell_type": "markdown",
   "id": "c27803c1",
   "metadata": {},
   "source": [
    "#### Percentage of people that could be fed (kcal) :"
   ]
  },
  {
   "cell_type": "code",
   "execution_count": 56,
   "id": "7b0f7d45",
   "metadata": {},
   "outputs": [
    {
     "data": {
      "text/plain": [
       "134.16735254952133"
      ]
     },
     "execution_count": 56,
     "metadata": {},
     "output_type": "execute_result"
    }
   ],
   "source": [
    "(x15 / (2200*365)) / (population_df_2019.population_2019.sum() * 1000) * 100"
   ]
  },
  {
   "cell_type": "markdown",
   "id": "fbac6f5f",
   "metadata": {},
   "source": [
    "#### Year 2019's global food supply in gproteine :"
   ]
  },
  {
   "cell_type": "code",
   "execution_count": 57,
   "id": "ced6739e",
   "metadata": {},
   "outputs": [],
   "source": [
    "x16 = food_supply_m2.food_supply_gprot_2019.sum()"
   ]
  },
  {
   "cell_type": "markdown",
   "id": "b778f6bf",
   "metadata": {},
   "source": [
    "#### Percentage of people that could be fed (gprot) :"
   ]
  },
  {
   "cell_type": "code",
   "execution_count": 58,
   "id": "fb44b19e",
   "metadata": {},
   "outputs": [
    {
     "data": {
      "text/plain": [
       "162.65076474352585"
      ]
     },
     "execution_count": 58,
     "metadata": {},
     "output_type": "execute_result"
    }
   ],
   "source": [
    "(x16 / (51*365)) / (population_df_2019.population_2019.sum() * 1000) * 100"
   ]
  },
  {
   "cell_type": "markdown",
   "id": "7fc7b184",
   "metadata": {},
   "source": [
    "#### Conclusion :"
   ]
  },
  {
   "cell_type": "markdown",
   "id": "991772d0",
   "metadata": {},
   "source": [
    "The global food supply could feed as a whole 134% of the total population's needs in calories and 162% of its needs in protein. The result based on proteins is in this case higher since we now take into consideration animal products which usually contain a higher percentage of protein than vegetales."
   ]
  },
  {
   "cell_type": "markdown",
   "id": "d71dc30c",
   "metadata": {},
   "source": [
    "### Question 4"
   ]
  },
  {
   "cell_type": "code",
   "execution_count": 126,
   "id": "abb47b43",
   "metadata": {},
   "outputs": [],
   "source": [
    "population_undernourished = pd.read_csv('population_undernourished.csv')\n",
    "population_undernourished_df = pd.DataFrame(population_undernourished)\n",
    "population_undernourished_df.columns = population_undernourished_df.columns.str.strip().str.replace(' ', '_').str.lower() \n",
    "population_undernourished_df = population_undernourished_df.rename(columns={'area':'country'})  \n",
    "population_undernourished_df = population_undernourished_df.drop(['note', 'element','item_code', 'element_code', 'year_code', 'flag','flag_description','area_code_(fao)','domain','domain_code','item'], axis=1)"
   ]
  },
  {
   "cell_type": "code",
   "execution_count": 127,
   "id": "a98581fb",
   "metadata": {},
   "outputs": [],
   "source": [
    "population_undernourished_df.value.unique()\n",
    "population_undernourished_df = population_undernourished_df.replace({'<':'', 'Nan':''}, regex=True)\n",
    "population_undernourished_df.value = pd.to_numeric(population_undernourished_df.value)"
   ]
  },
  {
   "cell_type": "code",
   "execution_count": 128,
   "id": "56673a6c",
   "metadata": {},
   "outputs": [
    {
     "data": {
      "text/html": [
       "<div>\n",
       "<style scoped>\n",
       "    .dataframe tbody tr th:only-of-type {\n",
       "        vertical-align: middle;\n",
       "    }\n",
       "\n",
       "    .dataframe tbody tr th {\n",
       "        vertical-align: top;\n",
       "    }\n",
       "\n",
       "    .dataframe thead th {\n",
       "        text-align: right;\n",
       "    }\n",
       "</style>\n",
       "<table border=\"1\" class=\"dataframe\">\n",
       "  <thead>\n",
       "    <tr style=\"text-align: right;\">\n",
       "      <th></th>\n",
       "      <th>country</th>\n",
       "      <th>year</th>\n",
       "      <th>unit</th>\n",
       "      <th>value</th>\n",
       "    </tr>\n",
       "  </thead>\n",
       "  <tbody>\n",
       "    <tr>\n",
       "      <th>0</th>\n",
       "      <td>Afghanistan</td>\n",
       "      <td>2009-2011</td>\n",
       "      <td>millions</td>\n",
       "      <td>6.9</td>\n",
       "    </tr>\n",
       "    <tr>\n",
       "      <th>1</th>\n",
       "      <td>Afghanistan</td>\n",
       "      <td>2011-2013</td>\n",
       "      <td>millions</td>\n",
       "      <td>8.8</td>\n",
       "    </tr>\n",
       "    <tr>\n",
       "      <th>2</th>\n",
       "      <td>Afghanistan</td>\n",
       "      <td>2013-2015</td>\n",
       "      <td>millions</td>\n",
       "      <td>8.1</td>\n",
       "    </tr>\n",
       "    <tr>\n",
       "      <th>3</th>\n",
       "      <td>Afghanistan</td>\n",
       "      <td>2015-2017</td>\n",
       "      <td>millions</td>\n",
       "      <td>7.8</td>\n",
       "    </tr>\n",
       "    <tr>\n",
       "      <th>4</th>\n",
       "      <td>Afghanistan</td>\n",
       "      <td>2017-2019</td>\n",
       "      <td>millions</td>\n",
       "      <td>8.7</td>\n",
       "    </tr>\n",
       "    <tr>\n",
       "      <th>...</th>\n",
       "      <td>...</td>\n",
       "      <td>...</td>\n",
       "      <td>...</td>\n",
       "      <td>...</td>\n",
       "    </tr>\n",
       "    <tr>\n",
       "      <th>1010</th>\n",
       "      <td>Zimbabwe</td>\n",
       "      <td>2009-2011</td>\n",
       "      <td>millions</td>\n",
       "      <td>NaN</td>\n",
       "    </tr>\n",
       "    <tr>\n",
       "      <th>1011</th>\n",
       "      <td>Zimbabwe</td>\n",
       "      <td>2011-2013</td>\n",
       "      <td>millions</td>\n",
       "      <td>NaN</td>\n",
       "    </tr>\n",
       "    <tr>\n",
       "      <th>1012</th>\n",
       "      <td>Zimbabwe</td>\n",
       "      <td>2013-2015</td>\n",
       "      <td>millions</td>\n",
       "      <td>NaN</td>\n",
       "    </tr>\n",
       "    <tr>\n",
       "      <th>1013</th>\n",
       "      <td>Zimbabwe</td>\n",
       "      <td>2015-2017</td>\n",
       "      <td>millions</td>\n",
       "      <td>NaN</td>\n",
       "    </tr>\n",
       "    <tr>\n",
       "      <th>1014</th>\n",
       "      <td>Zimbabwe</td>\n",
       "      <td>2017-2019</td>\n",
       "      <td>millions</td>\n",
       "      <td>NaN</td>\n",
       "    </tr>\n",
       "  </tbody>\n",
       "</table>\n",
       "<p>1015 rows × 4 columns</p>\n",
       "</div>"
      ],
      "text/plain": [
       "          country       year      unit  value\n",
       "0     Afghanistan  2009-2011  millions    6.9\n",
       "1     Afghanistan  2011-2013  millions    8.8\n",
       "2     Afghanistan  2013-2015  millions    8.1\n",
       "3     Afghanistan  2015-2017  millions    7.8\n",
       "4     Afghanistan  2017-2019  millions    8.7\n",
       "...           ...        ...       ...    ...\n",
       "1010     Zimbabwe  2009-2011  millions    NaN\n",
       "1011     Zimbabwe  2011-2013  millions    NaN\n",
       "1012     Zimbabwe  2013-2015  millions    NaN\n",
       "1013     Zimbabwe  2015-2017  millions    NaN\n",
       "1014     Zimbabwe  2017-2019  millions    NaN\n",
       "\n",
       "[1015 rows x 4 columns]"
      ]
     },
     "execution_count": 128,
     "metadata": {},
     "output_type": "execute_result"
    }
   ],
   "source": [
    "population_undernourished_df"
   ]
  },
  {
   "cell_type": "markdown",
   "id": "1da3c876",
   "metadata": {},
   "source": [
    "Observation : 90 countries have their number of malnourished people unregistered, which strongly biases the final result. There's one way of walking around this issue, taking the average of the available data and assigning it to low developped countries since they are the most likely to foster this problem."
   ]
  },
  {
   "cell_type": "code",
   "execution_count": 129,
   "id": "e0811622",
   "metadata": {},
   "outputs": [
    {
     "data": {
      "text/plain": [
       "5.06522522522522"
      ]
     },
     "execution_count": 129,
     "metadata": {},
     "output_type": "execute_result"
    }
   ],
   "source": [
    "avg_number_undernourished = population_undernourished_df.value.mean()\n",
    "avg_number_undernourished"
   ]
  },
  {
   "cell_type": "code",
   "execution_count": 130,
   "id": "16ac5061",
   "metadata": {},
   "outputs": [
    {
     "data": {
      "text/html": [
       "<div>\n",
       "<style scoped>\n",
       "    .dataframe tbody tr th:only-of-type {\n",
       "        vertical-align: middle;\n",
       "    }\n",
       "\n",
       "    .dataframe tbody tr th {\n",
       "        vertical-align: top;\n",
       "    }\n",
       "\n",
       "    .dataframe thead th {\n",
       "        text-align: right;\n",
       "    }\n",
       "</style>\n",
       "<table border=\"1\" class=\"dataframe\">\n",
       "  <thead>\n",
       "    <tr style=\"text-align: right;\">\n",
       "      <th></th>\n",
       "      <th>country</th>\n",
       "      <th>year</th>\n",
       "      <th>unit</th>\n",
       "      <th>value</th>\n",
       "    </tr>\n",
       "  </thead>\n",
       "  <tbody>\n",
       "    <tr>\n",
       "      <th>0</th>\n",
       "      <td>Afghanistan</td>\n",
       "      <td>2019</td>\n",
       "      <td>1000 persons</td>\n",
       "      <td>38042.00</td>\n",
       "    </tr>\n",
       "    <tr>\n",
       "      <th>1</th>\n",
       "      <td>Angola</td>\n",
       "      <td>2019</td>\n",
       "      <td>1000 persons</td>\n",
       "      <td>31825.00</td>\n",
       "    </tr>\n",
       "    <tr>\n",
       "      <th>2</th>\n",
       "      <td>Bangladesh</td>\n",
       "      <td>2019</td>\n",
       "      <td>1000 persons</td>\n",
       "      <td>163046.00</td>\n",
       "    </tr>\n",
       "    <tr>\n",
       "      <th>3</th>\n",
       "      <td>Benin</td>\n",
       "      <td>2019</td>\n",
       "      <td>1000 persons</td>\n",
       "      <td>11801.00</td>\n",
       "    </tr>\n",
       "    <tr>\n",
       "      <th>4</th>\n",
       "      <td>Burkina Faso</td>\n",
       "      <td>2019</td>\n",
       "      <td>1000 persons</td>\n",
       "      <td>20321.00</td>\n",
       "    </tr>\n",
       "    <tr>\n",
       "      <th>5</th>\n",
       "      <td>Burundi</td>\n",
       "      <td>2019</td>\n",
       "      <td>1000 persons</td>\n",
       "      <td>11530.58</td>\n",
       "    </tr>\n",
       "    <tr>\n",
       "      <th>6</th>\n",
       "      <td>Cambodia</td>\n",
       "      <td>2019</td>\n",
       "      <td>1000 persons</td>\n",
       "      <td>16487.00</td>\n",
       "    </tr>\n",
       "    <tr>\n",
       "      <th>7</th>\n",
       "      <td>Central African Republic</td>\n",
       "      <td>2019</td>\n",
       "      <td>1000 persons</td>\n",
       "      <td>4745.00</td>\n",
       "    </tr>\n",
       "    <tr>\n",
       "      <th>8</th>\n",
       "      <td>Chad</td>\n",
       "      <td>2019</td>\n",
       "      <td>1000 persons</td>\n",
       "      <td>15947.00</td>\n",
       "    </tr>\n",
       "    <tr>\n",
       "      <th>9</th>\n",
       "      <td>Comoros</td>\n",
       "      <td>2019</td>\n",
       "      <td>1000 persons</td>\n",
       "      <td>851.00</td>\n",
       "    </tr>\n",
       "    <tr>\n",
       "      <th>10</th>\n",
       "      <td>Democratic Republic of the Congo</td>\n",
       "      <td>2019</td>\n",
       "      <td>1000 persons</td>\n",
       "      <td>86791.00</td>\n",
       "    </tr>\n",
       "    <tr>\n",
       "      <th>11</th>\n",
       "      <td>Djibouti</td>\n",
       "      <td>2019</td>\n",
       "      <td>1000 persons</td>\n",
       "      <td>974.00</td>\n",
       "    </tr>\n",
       "    <tr>\n",
       "      <th>12</th>\n",
       "      <td>Ethiopia</td>\n",
       "      <td>2019</td>\n",
       "      <td>1000 persons</td>\n",
       "      <td>112079.00</td>\n",
       "    </tr>\n",
       "    <tr>\n",
       "      <th>13</th>\n",
       "      <td>Gambia</td>\n",
       "      <td>2019</td>\n",
       "      <td>1000 persons</td>\n",
       "      <td>2348.00</td>\n",
       "    </tr>\n",
       "    <tr>\n",
       "      <th>14</th>\n",
       "      <td>Guinea</td>\n",
       "      <td>2019</td>\n",
       "      <td>1000 persons</td>\n",
       "      <td>12771.00</td>\n",
       "    </tr>\n",
       "    <tr>\n",
       "      <th>15</th>\n",
       "      <td>Guinea-Bissau</td>\n",
       "      <td>2019</td>\n",
       "      <td>1000 persons</td>\n",
       "      <td>1921.00</td>\n",
       "    </tr>\n",
       "    <tr>\n",
       "      <th>16</th>\n",
       "      <td>Haiti</td>\n",
       "      <td>2019</td>\n",
       "      <td>1000 persons</td>\n",
       "      <td>11263.00</td>\n",
       "    </tr>\n",
       "    <tr>\n",
       "      <th>17</th>\n",
       "      <td>Kiribati</td>\n",
       "      <td>2019</td>\n",
       "      <td>1000 persons</td>\n",
       "      <td>118.00</td>\n",
       "    </tr>\n",
       "    <tr>\n",
       "      <th>18</th>\n",
       "      <td>Lao People's Democratic Republic</td>\n",
       "      <td>2019</td>\n",
       "      <td>1000 persons</td>\n",
       "      <td>7169.00</td>\n",
       "    </tr>\n",
       "    <tr>\n",
       "      <th>19</th>\n",
       "      <td>Lesotho</td>\n",
       "      <td>2019</td>\n",
       "      <td>1000 persons</td>\n",
       "      <td>2125.00</td>\n",
       "    </tr>\n",
       "    <tr>\n",
       "      <th>20</th>\n",
       "      <td>Liberia</td>\n",
       "      <td>2019</td>\n",
       "      <td>1000 persons</td>\n",
       "      <td>4937.00</td>\n",
       "    </tr>\n",
       "    <tr>\n",
       "      <th>21</th>\n",
       "      <td>Madagascar</td>\n",
       "      <td>2019</td>\n",
       "      <td>1000 persons</td>\n",
       "      <td>26969.00</td>\n",
       "    </tr>\n",
       "    <tr>\n",
       "      <th>22</th>\n",
       "      <td>Malawi</td>\n",
       "      <td>2019</td>\n",
       "      <td>1000 persons</td>\n",
       "      <td>18629.00</td>\n",
       "    </tr>\n",
       "    <tr>\n",
       "      <th>23</th>\n",
       "      <td>Mali</td>\n",
       "      <td>2019</td>\n",
       "      <td>1000 persons</td>\n",
       "      <td>19658.00</td>\n",
       "    </tr>\n",
       "    <tr>\n",
       "      <th>24</th>\n",
       "      <td>Mauritania</td>\n",
       "      <td>2019</td>\n",
       "      <td>1000 persons</td>\n",
       "      <td>4526.00</td>\n",
       "    </tr>\n",
       "    <tr>\n",
       "      <th>25</th>\n",
       "      <td>Mozambique</td>\n",
       "      <td>2019</td>\n",
       "      <td>1000 persons</td>\n",
       "      <td>30366.00</td>\n",
       "    </tr>\n",
       "    <tr>\n",
       "      <th>26</th>\n",
       "      <td>Myanmar</td>\n",
       "      <td>2019</td>\n",
       "      <td>1000 persons</td>\n",
       "      <td>54045.00</td>\n",
       "    </tr>\n",
       "    <tr>\n",
       "      <th>27</th>\n",
       "      <td>Nepal</td>\n",
       "      <td>2019</td>\n",
       "      <td>1000 persons</td>\n",
       "      <td>28609.00</td>\n",
       "    </tr>\n",
       "    <tr>\n",
       "      <th>28</th>\n",
       "      <td>Niger</td>\n",
       "      <td>2019</td>\n",
       "      <td>1000 persons</td>\n",
       "      <td>23311.00</td>\n",
       "    </tr>\n",
       "    <tr>\n",
       "      <th>29</th>\n",
       "      <td>Rwanda</td>\n",
       "      <td>2019</td>\n",
       "      <td>1000 persons</td>\n",
       "      <td>12627.00</td>\n",
       "    </tr>\n",
       "    <tr>\n",
       "      <th>30</th>\n",
       "      <td>Sao Tome and Principe</td>\n",
       "      <td>2019</td>\n",
       "      <td>1000 persons</td>\n",
       "      <td>215.00</td>\n",
       "    </tr>\n",
       "    <tr>\n",
       "      <th>31</th>\n",
       "      <td>Senegal</td>\n",
       "      <td>2019</td>\n",
       "      <td>1000 persons</td>\n",
       "      <td>16296.00</td>\n",
       "    </tr>\n",
       "    <tr>\n",
       "      <th>32</th>\n",
       "      <td>Sierra Leone</td>\n",
       "      <td>2019</td>\n",
       "      <td>1000 persons</td>\n",
       "      <td>7813.00</td>\n",
       "    </tr>\n",
       "    <tr>\n",
       "      <th>33</th>\n",
       "      <td>Solomon Islands</td>\n",
       "      <td>2019</td>\n",
       "      <td>1000 persons</td>\n",
       "      <td>670.00</td>\n",
       "    </tr>\n",
       "    <tr>\n",
       "      <th>34</th>\n",
       "      <td>Sudan</td>\n",
       "      <td>2019</td>\n",
       "      <td>1000 persons</td>\n",
       "      <td>42813.00</td>\n",
       "    </tr>\n",
       "    <tr>\n",
       "      <th>35</th>\n",
       "      <td>Timor-Leste</td>\n",
       "      <td>2019</td>\n",
       "      <td>1000 persons</td>\n",
       "      <td>1293.00</td>\n",
       "    </tr>\n",
       "    <tr>\n",
       "      <th>36</th>\n",
       "      <td>Togo</td>\n",
       "      <td>2019</td>\n",
       "      <td>1000 persons</td>\n",
       "      <td>8082.00</td>\n",
       "    </tr>\n",
       "    <tr>\n",
       "      <th>37</th>\n",
       "      <td>Uganda</td>\n",
       "      <td>2019</td>\n",
       "      <td>1000 persons</td>\n",
       "      <td>44270.00</td>\n",
       "    </tr>\n",
       "    <tr>\n",
       "      <th>38</th>\n",
       "      <td>United Republic of Tanzania</td>\n",
       "      <td>2019</td>\n",
       "      <td>1000 persons</td>\n",
       "      <td>58005.00</td>\n",
       "    </tr>\n",
       "    <tr>\n",
       "      <th>39</th>\n",
       "      <td>Vanuatu</td>\n",
       "      <td>2019</td>\n",
       "      <td>1000 persons</td>\n",
       "      <td>300.00</td>\n",
       "    </tr>\n",
       "    <tr>\n",
       "      <th>40</th>\n",
       "      <td>Yemen</td>\n",
       "      <td>2019</td>\n",
       "      <td>1000 persons</td>\n",
       "      <td>29162.00</td>\n",
       "    </tr>\n",
       "    <tr>\n",
       "      <th>41</th>\n",
       "      <td>Zambia</td>\n",
       "      <td>2019</td>\n",
       "      <td>1000 persons</td>\n",
       "      <td>17861.00</td>\n",
       "    </tr>\n",
       "  </tbody>\n",
       "</table>\n",
       "</div>"
      ],
      "text/plain": [
       "                             country  year          unit      value\n",
       "0                        Afghanistan  2019  1000 persons   38042.00\n",
       "1                             Angola  2019  1000 persons   31825.00\n",
       "2                         Bangladesh  2019  1000 persons  163046.00\n",
       "3                              Benin  2019  1000 persons   11801.00\n",
       "4                       Burkina Faso  2019  1000 persons   20321.00\n",
       "5                            Burundi  2019  1000 persons   11530.58\n",
       "6                           Cambodia  2019  1000 persons   16487.00\n",
       "7           Central African Republic  2019  1000 persons    4745.00\n",
       "8                               Chad  2019  1000 persons   15947.00\n",
       "9                            Comoros  2019  1000 persons     851.00\n",
       "10  Democratic Republic of the Congo  2019  1000 persons   86791.00\n",
       "11                          Djibouti  2019  1000 persons     974.00\n",
       "12                          Ethiopia  2019  1000 persons  112079.00\n",
       "13                            Gambia  2019  1000 persons    2348.00\n",
       "14                            Guinea  2019  1000 persons   12771.00\n",
       "15                     Guinea-Bissau  2019  1000 persons    1921.00\n",
       "16                             Haiti  2019  1000 persons   11263.00\n",
       "17                          Kiribati  2019  1000 persons     118.00\n",
       "18  Lao People's Democratic Republic  2019  1000 persons    7169.00\n",
       "19                           Lesotho  2019  1000 persons    2125.00\n",
       "20                           Liberia  2019  1000 persons    4937.00\n",
       "21                        Madagascar  2019  1000 persons   26969.00\n",
       "22                            Malawi  2019  1000 persons   18629.00\n",
       "23                              Mali  2019  1000 persons   19658.00\n",
       "24                        Mauritania  2019  1000 persons    4526.00\n",
       "25                        Mozambique  2019  1000 persons   30366.00\n",
       "26                           Myanmar  2019  1000 persons   54045.00\n",
       "27                             Nepal  2019  1000 persons   28609.00\n",
       "28                             Niger  2019  1000 persons   23311.00\n",
       "29                            Rwanda  2019  1000 persons   12627.00\n",
       "30             Sao Tome and Principe  2019  1000 persons     215.00\n",
       "31                           Senegal  2019  1000 persons   16296.00\n",
       "32                      Sierra Leone  2019  1000 persons    7813.00\n",
       "33                   Solomon Islands  2019  1000 persons     670.00\n",
       "34                             Sudan  2019  1000 persons   42813.00\n",
       "35                       Timor-Leste  2019  1000 persons    1293.00\n",
       "36                              Togo  2019  1000 persons    8082.00\n",
       "37                            Uganda  2019  1000 persons   44270.00\n",
       "38       United Republic of Tanzania  2019  1000 persons   58005.00\n",
       "39                           Vanuatu  2019  1000 persons     300.00\n",
       "40                             Yemen  2019  1000 persons   29162.00\n",
       "41                            Zambia  2019  1000 persons   17861.00"
      ]
     },
     "execution_count": 130,
     "metadata": {},
     "output_type": "execute_result"
    }
   ],
   "source": [
    "least_developped_countries = pd.read_csv('least_developped_countries.csv')\n",
    "least_developped_countries_df = pd.DataFrame(least_developped_countries)\n",
    "least_developped_countries_df.columns = least_developped_countries_df.columns.str.strip().str.replace(' ', '_').str.lower() \n",
    "least_developped_countries_df = least_developped_countries_df.rename(columns={'area':'country'})  \n",
    "least_developped_countries_df = least_developped_countries_df.drop(['element','item_code', 'element_code', 'year_code', 'flag','flag_description','area_code_(fao)','domain','domain_code','item'], axis=1)\n",
    "least_developped_countries_df"
   ]
  },
  {
   "cell_type": "code",
   "execution_count": 131,
   "id": "8f8d1167",
   "metadata": {},
   "outputs": [],
   "source": [
    "least_developped_countries = ['Afghanistan', 'Angola', 'Bangladesh', 'Benin', 'Burkina Faso',\n",
    "       'Burundi', 'Cambodia', 'Central African Republic', 'Chad',\n",
    "       'Comoros', 'Democratic Republic of the Congo', 'Djibouti',\n",
    "       'Ethiopia', 'Gambia', 'Guinea', 'Guinea-Bissau', 'Haiti',\n",
    "       'Kiribati', \"Lao People's Democratic Republic\", 'Lesotho',\n",
    "       'Liberia', 'Madagascar', 'Malawi', 'Mali', 'Mauritania',\n",
    "       'Mozambique', 'Myanmar', 'Nepal', 'Niger', 'Rwanda',\n",
    "       'Sao Tome and Principe', 'Senegal', 'Sierra Leone',\n",
    "       'Solomon Islands', 'Sudan', 'Timor-Leste', 'Togo', 'Uganda',\n",
    "       'United Republic of Tanzania', 'Vanuatu', 'Yemen', 'Zambia']"
   ]
  },
  {
   "cell_type": "code",
   "execution_count": 132,
   "id": "4eb28e45",
   "metadata": {},
   "outputs": [],
   "source": [
    "population_undernourished_df['status'] = False\n",
    "\n",
    "for index, row in population_undernourished_df.iterrows():\n",
    "    if population_undernourished_df.loc[index, 'country'] in least_developped_countries:\n",
    "        population_undernourished_df.loc[index, 'status'] = True\n",
    "    else:\n",
    "        population_undernourished_df.loc[index, 'status'] = False     "
   ]
  },
  {
   "cell_type": "code",
   "execution_count": 136,
   "id": "b4b26cd2",
   "metadata": {},
   "outputs": [],
   "source": [
    "population_undernourished_df['value'] = np.where((population_undernourished_df['status']==True)&(population_undernourished_df['value'].isna()), 5.06, population_undernourished_df['value'])"
   ]
  },
  {
   "cell_type": "code",
   "execution_count": 137,
   "id": "5c77dd52",
   "metadata": {},
   "outputs": [
    {
     "data": {
      "text/html": [
       "<div>\n",
       "<style scoped>\n",
       "    .dataframe tbody tr th:only-of-type {\n",
       "        vertical-align: middle;\n",
       "    }\n",
       "\n",
       "    .dataframe tbody tr th {\n",
       "        vertical-align: top;\n",
       "    }\n",
       "\n",
       "    .dataframe thead th {\n",
       "        text-align: right;\n",
       "    }\n",
       "</style>\n",
       "<table border=\"1\" class=\"dataframe\">\n",
       "  <thead>\n",
       "    <tr style=\"text-align: right;\">\n",
       "      <th></th>\n",
       "      <th>country</th>\n",
       "      <th>year</th>\n",
       "      <th>unit</th>\n",
       "      <th>value</th>\n",
       "      <th>status</th>\n",
       "    </tr>\n",
       "  </thead>\n",
       "  <tbody>\n",
       "    <tr>\n",
       "      <th>0</th>\n",
       "      <td>Afghanistan</td>\n",
       "      <td>2009-2011</td>\n",
       "      <td>millions</td>\n",
       "      <td>6.9</td>\n",
       "      <td>True</td>\n",
       "    </tr>\n",
       "    <tr>\n",
       "      <th>1</th>\n",
       "      <td>Afghanistan</td>\n",
       "      <td>2011-2013</td>\n",
       "      <td>millions</td>\n",
       "      <td>8.8</td>\n",
       "      <td>True</td>\n",
       "    </tr>\n",
       "    <tr>\n",
       "      <th>2</th>\n",
       "      <td>Afghanistan</td>\n",
       "      <td>2013-2015</td>\n",
       "      <td>millions</td>\n",
       "      <td>8.1</td>\n",
       "      <td>True</td>\n",
       "    </tr>\n",
       "    <tr>\n",
       "      <th>3</th>\n",
       "      <td>Afghanistan</td>\n",
       "      <td>2015-2017</td>\n",
       "      <td>millions</td>\n",
       "      <td>7.8</td>\n",
       "      <td>True</td>\n",
       "    </tr>\n",
       "    <tr>\n",
       "      <th>4</th>\n",
       "      <td>Afghanistan</td>\n",
       "      <td>2017-2019</td>\n",
       "      <td>millions</td>\n",
       "      <td>8.7</td>\n",
       "      <td>True</td>\n",
       "    </tr>\n",
       "    <tr>\n",
       "      <th>...</th>\n",
       "      <td>...</td>\n",
       "      <td>...</td>\n",
       "      <td>...</td>\n",
       "      <td>...</td>\n",
       "      <td>...</td>\n",
       "    </tr>\n",
       "    <tr>\n",
       "      <th>1010</th>\n",
       "      <td>Zimbabwe</td>\n",
       "      <td>2009-2011</td>\n",
       "      <td>millions</td>\n",
       "      <td>NaN</td>\n",
       "      <td>False</td>\n",
       "    </tr>\n",
       "    <tr>\n",
       "      <th>1011</th>\n",
       "      <td>Zimbabwe</td>\n",
       "      <td>2011-2013</td>\n",
       "      <td>millions</td>\n",
       "      <td>NaN</td>\n",
       "      <td>False</td>\n",
       "    </tr>\n",
       "    <tr>\n",
       "      <th>1012</th>\n",
       "      <td>Zimbabwe</td>\n",
       "      <td>2013-2015</td>\n",
       "      <td>millions</td>\n",
       "      <td>NaN</td>\n",
       "      <td>False</td>\n",
       "    </tr>\n",
       "    <tr>\n",
       "      <th>1013</th>\n",
       "      <td>Zimbabwe</td>\n",
       "      <td>2015-2017</td>\n",
       "      <td>millions</td>\n",
       "      <td>NaN</td>\n",
       "      <td>False</td>\n",
       "    </tr>\n",
       "    <tr>\n",
       "      <th>1014</th>\n",
       "      <td>Zimbabwe</td>\n",
       "      <td>2017-2019</td>\n",
       "      <td>millions</td>\n",
       "      <td>NaN</td>\n",
       "      <td>False</td>\n",
       "    </tr>\n",
       "  </tbody>\n",
       "</table>\n",
       "<p>1015 rows × 5 columns</p>\n",
       "</div>"
      ],
      "text/plain": [
       "          country       year      unit  value  status\n",
       "0     Afghanistan  2009-2011  millions    6.9    True\n",
       "1     Afghanistan  2011-2013  millions    8.8    True\n",
       "2     Afghanistan  2013-2015  millions    8.1    True\n",
       "3     Afghanistan  2015-2017  millions    7.8    True\n",
       "4     Afghanistan  2017-2019  millions    8.7    True\n",
       "...           ...        ...       ...    ...     ...\n",
       "1010     Zimbabwe  2009-2011  millions    NaN   False\n",
       "1011     Zimbabwe  2011-2013  millions    NaN   False\n",
       "1012     Zimbabwe  2013-2015  millions    NaN   False\n",
       "1013     Zimbabwe  2015-2017  millions    NaN   False\n",
       "1014     Zimbabwe  2017-2019  millions    NaN   False\n",
       "\n",
       "[1015 rows x 5 columns]"
      ]
     },
     "execution_count": 137,
     "metadata": {},
     "output_type": "execute_result"
    }
   ],
   "source": [
    "population_undernourished_df"
   ]
  },
  {
   "cell_type": "code",
   "execution_count": 139,
   "id": "75d43e9d",
   "metadata": {},
   "outputs": [
    {
     "data": {
      "text/html": [
       "<div>\n",
       "<style scoped>\n",
       "    .dataframe tbody tr th:only-of-type {\n",
       "        vertical-align: middle;\n",
       "    }\n",
       "\n",
       "    .dataframe tbody tr th {\n",
       "        vertical-align: top;\n",
       "    }\n",
       "\n",
       "    .dataframe thead th {\n",
       "        text-align: right;\n",
       "    }\n",
       "</style>\n",
       "<table border=\"1\" class=\"dataframe\">\n",
       "  <thead>\n",
       "    <tr style=\"text-align: right;\">\n",
       "      <th></th>\n",
       "      <th>year</th>\n",
       "      <th>value</th>\n",
       "    </tr>\n",
       "  </thead>\n",
       "  <tbody>\n",
       "    <tr>\n",
       "      <th>0</th>\n",
       "      <td>2009-2011</td>\n",
       "      <td>613.52</td>\n",
       "    </tr>\n",
       "    <tr>\n",
       "      <th>1</th>\n",
       "      <td>2011-2013</td>\n",
       "      <td>600.52</td>\n",
       "    </tr>\n",
       "    <tr>\n",
       "      <th>2</th>\n",
       "      <td>2013-2015</td>\n",
       "      <td>587.42</td>\n",
       "    </tr>\n",
       "    <tr>\n",
       "      <th>3</th>\n",
       "      <td>2015-2017</td>\n",
       "      <td>585.12</td>\n",
       "    </tr>\n",
       "    <tr>\n",
       "      <th>4</th>\n",
       "      <td>2017-2019</td>\n",
       "      <td>601.72</td>\n",
       "    </tr>\n",
       "  </tbody>\n",
       "</table>\n",
       "</div>"
      ],
      "text/plain": [
       "        year   value\n",
       "0  2009-2011  613.52\n",
       "1  2011-2013  600.52\n",
       "2  2013-2015  587.42\n",
       "3  2015-2017  585.12\n",
       "4  2017-2019  601.72"
      ]
     },
     "execution_count": 139,
     "metadata": {},
     "output_type": "execute_result"
    }
   ],
   "source": [
    "population_undernourished_df_grouped = population_undernourished_df.groupby(by=['year']).sum().drop(columns={'status'}).reset_index()\n",
    "population_undernourished_df_grouped"
   ]
  },
  {
   "cell_type": "markdown",
   "id": "9ef57aac",
   "metadata": {},
   "source": [
    "Percentage of the total population undernourished :"
   ]
  },
  {
   "cell_type": "code",
   "execution_count": 140,
   "id": "aa10d2b9",
   "metadata": {},
   "outputs": [
    {
     "data": {
      "text/plain": [
       "7.863162150482118"
      ]
     },
     "execution_count": 140,
     "metadata": {},
     "output_type": "execute_result"
    }
   ],
   "source": [
    "(population_undernourished_df_grouped[(population_undernourished_df_grouped.year=='2017-2019')].value.sum() * 1000000) / (population_df_2019.population_2019.sum() * 1000) * 100"
   ]
  },
  {
   "cell_type": "markdown",
   "id": "55aa59db",
   "metadata": {},
   "source": [
    "#### Conclusion :"
   ]
  },
  {
   "cell_type": "markdown",
   "id": "a614917e",
   "metadata": {},
   "source": [
    "7.86% of the world's population is undernourished, which amounts to 601,726,577 people. "
   ]
  },
  {
   "cell_type": "markdown",
   "id": "fe57de17",
   "metadata": {},
   "source": [
    "### Question 5"
   ]
  },
  {
   "cell_type": "code",
   "execution_count": 141,
   "id": "b1844690",
   "metadata": {},
   "outputs": [
    {
     "data": {
      "text/html": [
       "<div>\n",
       "<style scoped>\n",
       "    .dataframe tbody tr th:only-of-type {\n",
       "        vertical-align: middle;\n",
       "    }\n",
       "\n",
       "    .dataframe tbody tr th {\n",
       "        vertical-align: top;\n",
       "    }\n",
       "\n",
       "    .dataframe thead th {\n",
       "        text-align: right;\n",
       "    }\n",
       "</style>\n",
       "<table border=\"1\" class=\"dataframe\">\n",
       "  <thead>\n",
       "    <tr style=\"text-align: right;\">\n",
       "      <th></th>\n",
       "      <th>country</th>\n",
       "      <th>year</th>\n",
       "      <th>unit</th>\n",
       "      <th>value</th>\n",
       "    </tr>\n",
       "  </thead>\n",
       "  <tbody>\n",
       "    <tr>\n",
       "      <th>0</th>\n",
       "      <td>Somalia</td>\n",
       "      <td>2017-2019</td>\n",
       "      <td>%</td>\n",
       "      <td>57.4</td>\n",
       "    </tr>\n",
       "    <tr>\n",
       "      <th>1</th>\n",
       "      <td>Haiti</td>\n",
       "      <td>2017-2019</td>\n",
       "      <td>%</td>\n",
       "      <td>47.9</td>\n",
       "    </tr>\n",
       "    <tr>\n",
       "      <th>2</th>\n",
       "      <td>Central African Republic</td>\n",
       "      <td>2017-2019</td>\n",
       "      <td>%</td>\n",
       "      <td>46.7</td>\n",
       "    </tr>\n",
       "    <tr>\n",
       "      <th>3</th>\n",
       "      <td>Yemen</td>\n",
       "      <td>2017-2019</td>\n",
       "      <td>%</td>\n",
       "      <td>45.4</td>\n",
       "    </tr>\n",
       "    <tr>\n",
       "      <th>4</th>\n",
       "      <td>Democratic People's Republic of Korea</td>\n",
       "      <td>2017-2019</td>\n",
       "      <td>%</td>\n",
       "      <td>42.6</td>\n",
       "    </tr>\n",
       "    <tr>\n",
       "      <th>5</th>\n",
       "      <td>Madagascar</td>\n",
       "      <td>2017-2019</td>\n",
       "      <td>%</td>\n",
       "      <td>42.6</td>\n",
       "    </tr>\n",
       "    <tr>\n",
       "      <th>6</th>\n",
       "      <td>Democratic Republic of the Congo</td>\n",
       "      <td>2017-2019</td>\n",
       "      <td>%</td>\n",
       "      <td>40.4</td>\n",
       "    </tr>\n",
       "    <tr>\n",
       "      <th>7</th>\n",
       "      <td>Liberia</td>\n",
       "      <td>2017-2019</td>\n",
       "      <td>%</td>\n",
       "      <td>37.5</td>\n",
       "    </tr>\n",
       "    <tr>\n",
       "      <th>8</th>\n",
       "      <td>Iraq</td>\n",
       "      <td>2017-2019</td>\n",
       "      <td>%</td>\n",
       "      <td>37.4</td>\n",
       "    </tr>\n",
       "    <tr>\n",
       "      <th>9</th>\n",
       "      <td>Congo</td>\n",
       "      <td>2017-2019</td>\n",
       "      <td>%</td>\n",
       "      <td>36.8</td>\n",
       "    </tr>\n",
       "    <tr>\n",
       "      <th>10</th>\n",
       "      <td>Rwanda</td>\n",
       "      <td>2017-2019</td>\n",
       "      <td>%</td>\n",
       "      <td>34.3</td>\n",
       "    </tr>\n",
       "    <tr>\n",
       "      <th>11</th>\n",
       "      <td>Mozambique</td>\n",
       "      <td>2017-2019</td>\n",
       "      <td>%</td>\n",
       "      <td>31.0</td>\n",
       "    </tr>\n",
       "    <tr>\n",
       "      <th>12</th>\n",
       "      <td>Chad</td>\n",
       "      <td>2017-2019</td>\n",
       "      <td>%</td>\n",
       "      <td>30.4</td>\n",
       "    </tr>\n",
       "    <tr>\n",
       "      <th>13</th>\n",
       "      <td>Botswana</td>\n",
       "      <td>2017-2019</td>\n",
       "      <td>%</td>\n",
       "      <td>29.5</td>\n",
       "    </tr>\n",
       "    <tr>\n",
       "      <th>14</th>\n",
       "      <td>Sierra Leone</td>\n",
       "      <td>2017-2019</td>\n",
       "      <td>%</td>\n",
       "      <td>25.7</td>\n",
       "    </tr>\n",
       "    <tr>\n",
       "      <th>15</th>\n",
       "      <td>Papua New Guinea</td>\n",
       "      <td>2017-2019</td>\n",
       "      <td>%</td>\n",
       "      <td>24.9</td>\n",
       "    </tr>\n",
       "    <tr>\n",
       "      <th>16</th>\n",
       "      <td>Kenya</td>\n",
       "      <td>2017-2019</td>\n",
       "      <td>%</td>\n",
       "      <td>24.4</td>\n",
       "    </tr>\n",
       "    <tr>\n",
       "      <th>17</th>\n",
       "      <td>United Republic of Tanzania</td>\n",
       "      <td>2017-2019</td>\n",
       "      <td>%</td>\n",
       "      <td>24.2</td>\n",
       "    </tr>\n",
       "    <tr>\n",
       "      <th>18</th>\n",
       "      <td>Venezuela (Bolivarian Republic of)</td>\n",
       "      <td>2017-2019</td>\n",
       "      <td>%</td>\n",
       "      <td>23.4</td>\n",
       "    </tr>\n",
       "    <tr>\n",
       "      <th>19</th>\n",
       "      <td>Afghanistan</td>\n",
       "      <td>2017-2019</td>\n",
       "      <td>%</td>\n",
       "      <td>23.4</td>\n",
       "    </tr>\n",
       "  </tbody>\n",
       "</table>\n",
       "</div>"
      ],
      "text/plain": [
       "                                  country       year unit  value\n",
       "0                                 Somalia  2017-2019    %   57.4\n",
       "1                                   Haiti  2017-2019    %   47.9\n",
       "2                Central African Republic  2017-2019    %   46.7\n",
       "3                                   Yemen  2017-2019    %   45.4\n",
       "4   Democratic People's Republic of Korea  2017-2019    %   42.6\n",
       "5                              Madagascar  2017-2019    %   42.6\n",
       "6        Democratic Republic of the Congo  2017-2019    %   40.4\n",
       "7                                 Liberia  2017-2019    %   37.5\n",
       "8                                    Iraq  2017-2019    %   37.4\n",
       "9                                   Congo  2017-2019    %   36.8\n",
       "10                                 Rwanda  2017-2019    %   34.3\n",
       "11                             Mozambique  2017-2019    %   31.0\n",
       "12                                   Chad  2017-2019    %   30.4\n",
       "13                               Botswana  2017-2019    %   29.5\n",
       "14                           Sierra Leone  2017-2019    %   25.7\n",
       "15                       Papua New Guinea  2017-2019    %   24.9\n",
       "16                                  Kenya  2017-2019    %   24.4\n",
       "17            United Republic of Tanzania  2017-2019    %   24.2\n",
       "18     Venezuela (Bolivarian Republic of)  2017-2019    %   23.4\n",
       "19                            Afghanistan  2017-2019    %   23.4"
      ]
     },
     "execution_count": 141,
     "metadata": {},
     "output_type": "execute_result"
    }
   ],
   "source": [
    "undernourished_rate = pd.read_csv('undernourished_rate.csv')\n",
    "undernourished_rate_df = pd.DataFrame(undernourished_rate)\n",
    "undernourished_rate_df.columns = undernourished_rate_df.columns.str.strip().str.replace(' ', '_').str.lower() \n",
    "undernourished_rate_df = undernourished_rate_df.rename(columns={'area':'country'})  \n",
    "undernourished_rate_df = undernourished_rate_df.drop(['note','element','item_code', 'element_code', 'year_code', 'flag','flag_description','area_code_(fao)','domain','domain_code','item'], axis=1)\n",
    "\n",
    "undernourished_rate_df = undernourished_rate_df.replace({'<':''}, regex=True)\n",
    "undernourished_rate_df.value = pd.to_numeric(undernourished_rate_df.value)\n",
    "undernourished_rate_df[(undernourished_rate_df.year=='2017-2019')].sort_values(by='value', ascending=False).head(20).reset_index(drop=True)"
   ]
  },
  {
   "cell_type": "code",
   "execution_count": 142,
   "id": "8f95bc42",
   "metadata": {},
   "outputs": [
    {
     "data": {
      "text/plain": [
       "<bound method _AxesBase.set_xlabel of <AxesSubplot:title={'center':'The undernourishment state in 2019'}, xlabel='country count', ylabel='Count'>>"
      ]
     },
     "execution_count": 142,
     "metadata": {},
     "output_type": "execute_result"
    },
    {
     "data": {
      "image/png": "[encoded data removed]",
      "text/plain": [
       "<Figure size 432x288 with 1 Axes>"
      ]
     },
     "metadata": {
      "needs_background": "light"
     },
     "output_type": "display_data"
    }
   ],
   "source": [
    "undernourished_rate_df_2019 = undernourished_rate_df[(undernourished_rate_df.year=='2017-2019')]\n",
    "undernourished_rate_df_2019 = undernourished_rate_df_2019.rename(columns={'value':'country count'})\n",
    "xxxx = sns.histplot(data=undernourished_rate_df_2019, x=\"country count\")\n",
    "xxxx.set(title='The undernourishment state in 2019')\n",
    "xxxx.set_xlabel"
   ]
  },
  {
   "cell_type": "code",
   "execution_count": 143,
   "id": "b316bf4e",
   "metadata": {},
   "outputs": [
    {
     "data": {
      "text/html": [
       "<div>\n",
       "<style scoped>\n",
       "    .dataframe tbody tr th:only-of-type {\n",
       "        vertical-align: middle;\n",
       "    }\n",
       "\n",
       "    .dataframe tbody tr th {\n",
       "        vertical-align: top;\n",
       "    }\n",
       "\n",
       "    .dataframe thead th {\n",
       "        text-align: right;\n",
       "    }\n",
       "</style>\n",
       "<table border=\"1\" class=\"dataframe\">\n",
       "  <thead>\n",
       "    <tr style=\"text-align: right;\">\n",
       "      <th></th>\n",
       "      <th>country</th>\n",
       "      <th>year</th>\n",
       "      <th>unit</th>\n",
       "      <th>value</th>\n",
       "    </tr>\n",
       "  </thead>\n",
       "  <tbody>\n",
       "    <tr>\n",
       "      <th>0</th>\n",
       "      <td>Afghanistan</td>\n",
       "      <td>2009-2011</td>\n",
       "      <td>%</td>\n",
       "      <td>23.7</td>\n",
       "    </tr>\n",
       "    <tr>\n",
       "      <th>1</th>\n",
       "      <td>Afghanistan</td>\n",
       "      <td>2011-2013</td>\n",
       "      <td>%</td>\n",
       "      <td>28.2</td>\n",
       "    </tr>\n",
       "    <tr>\n",
       "      <th>2</th>\n",
       "      <td>Afghanistan</td>\n",
       "      <td>2013-2015</td>\n",
       "      <td>%</td>\n",
       "      <td>24.2</td>\n",
       "    </tr>\n",
       "    <tr>\n",
       "      <th>3</th>\n",
       "      <td>Afghanistan</td>\n",
       "      <td>2015-2017</td>\n",
       "      <td>%</td>\n",
       "      <td>22.2</td>\n",
       "    </tr>\n",
       "    <tr>\n",
       "      <th>4</th>\n",
       "      <td>Afghanistan</td>\n",
       "      <td>2017-2019</td>\n",
       "      <td>%</td>\n",
       "      <td>23.4</td>\n",
       "    </tr>\n",
       "    <tr>\n",
       "      <th>...</th>\n",
       "      <td>...</td>\n",
       "      <td>...</td>\n",
       "      <td>...</td>\n",
       "      <td>...</td>\n",
       "    </tr>\n",
       "    <tr>\n",
       "      <th>1213</th>\n",
       "      <td>Zimbabwe</td>\n",
       "      <td>2011-2013</td>\n",
       "      <td>%</td>\n",
       "      <td>NaN</td>\n",
       "    </tr>\n",
       "    <tr>\n",
       "      <th>1214</th>\n",
       "      <td>Zimbabwe</td>\n",
       "      <td>2013-2015</td>\n",
       "      <td>%</td>\n",
       "      <td>NaN</td>\n",
       "    </tr>\n",
       "    <tr>\n",
       "      <th>1215</th>\n",
       "      <td>Zimbabwe</td>\n",
       "      <td>2015-2017</td>\n",
       "      <td>%</td>\n",
       "      <td>NaN</td>\n",
       "    </tr>\n",
       "    <tr>\n",
       "      <th>1216</th>\n",
       "      <td>Zimbabwe</td>\n",
       "      <td>2017-2019</td>\n",
       "      <td>%</td>\n",
       "      <td>NaN</td>\n",
       "    </tr>\n",
       "    <tr>\n",
       "      <th>1217</th>\n",
       "      <td>Zimbabwe</td>\n",
       "      <td>2018-2020</td>\n",
       "      <td>%</td>\n",
       "      <td>NaN</td>\n",
       "    </tr>\n",
       "  </tbody>\n",
       "</table>\n",
       "<p>1218 rows × 4 columns</p>\n",
       "</div>"
      ],
      "text/plain": [
       "          country       year unit  value\n",
       "0     Afghanistan  2009-2011    %   23.7\n",
       "1     Afghanistan  2011-2013    %   28.2\n",
       "2     Afghanistan  2013-2015    %   24.2\n",
       "3     Afghanistan  2015-2017    %   22.2\n",
       "4     Afghanistan  2017-2019    %   23.4\n",
       "...           ...        ...  ...    ...\n",
       "1213     Zimbabwe  2011-2013    %    NaN\n",
       "1214     Zimbabwe  2013-2015    %    NaN\n",
       "1215     Zimbabwe  2015-2017    %    NaN\n",
       "1216     Zimbabwe  2017-2019    %    NaN\n",
       "1217     Zimbabwe  2018-2020    %    NaN\n",
       "\n",
       "[1218 rows x 4 columns]"
      ]
     },
     "execution_count": 143,
     "metadata": {},
     "output_type": "execute_result"
    }
   ],
   "source": [
    "undernourished_rate_df"
   ]
  },
  {
   "cell_type": "markdown",
   "id": "2e0decd3",
   "metadata": {},
   "source": [
    "Let's study exports on countries with an undernutrition rate over 40% :"
   ]
  },
  {
   "cell_type": "code",
   "execution_count": 144,
   "id": "ab09a4c8",
   "metadata": {},
   "outputs": [
    {
     "data": {
      "text/html": [
       "<div>\n",
       "<style scoped>\n",
       "    .dataframe tbody tr th:only-of-type {\n",
       "        vertical-align: middle;\n",
       "    }\n",
       "\n",
       "    .dataframe tbody tr th {\n",
       "        vertical-align: top;\n",
       "    }\n",
       "\n",
       "    .dataframe thead th {\n",
       "        text-align: right;\n",
       "    }\n",
       "</style>\n",
       "<table border=\"1\" class=\"dataframe\">\n",
       "  <thead>\n",
       "    <tr style=\"text-align: right;\">\n",
       "      <th></th>\n",
       "      <th>country</th>\n",
       "      <th>year</th>\n",
       "      <th>unit</th>\n",
       "      <th>value</th>\n",
       "    </tr>\n",
       "  </thead>\n",
       "  <tbody>\n",
       "    <tr>\n",
       "      <th>0</th>\n",
       "      <td>Central African Republic</td>\n",
       "      <td>2017-2019</td>\n",
       "      <td>%</td>\n",
       "      <td>46.7</td>\n",
       "    </tr>\n",
       "    <tr>\n",
       "      <th>1</th>\n",
       "      <td>Democratic People's Republic of Korea</td>\n",
       "      <td>2017-2019</td>\n",
       "      <td>%</td>\n",
       "      <td>42.6</td>\n",
       "    </tr>\n",
       "    <tr>\n",
       "      <th>2</th>\n",
       "      <td>Democratic Republic of the Congo</td>\n",
       "      <td>2017-2019</td>\n",
       "      <td>%</td>\n",
       "      <td>40.4</td>\n",
       "    </tr>\n",
       "    <tr>\n",
       "      <th>3</th>\n",
       "      <td>Haiti</td>\n",
       "      <td>2017-2019</td>\n",
       "      <td>%</td>\n",
       "      <td>47.9</td>\n",
       "    </tr>\n",
       "    <tr>\n",
       "      <th>4</th>\n",
       "      <td>Madagascar</td>\n",
       "      <td>2017-2019</td>\n",
       "      <td>%</td>\n",
       "      <td>42.6</td>\n",
       "    </tr>\n",
       "    <tr>\n",
       "      <th>5</th>\n",
       "      <td>Somalia</td>\n",
       "      <td>2017-2019</td>\n",
       "      <td>%</td>\n",
       "      <td>57.4</td>\n",
       "    </tr>\n",
       "    <tr>\n",
       "      <th>6</th>\n",
       "      <td>Yemen</td>\n",
       "      <td>2017-2019</td>\n",
       "      <td>%</td>\n",
       "      <td>45.4</td>\n",
       "    </tr>\n",
       "  </tbody>\n",
       "</table>\n",
       "</div>"
      ],
      "text/plain": [
       "                                 country       year unit  value\n",
       "0               Central African Republic  2017-2019    %   46.7\n",
       "1  Democratic People's Republic of Korea  2017-2019    %   42.6\n",
       "2       Democratic Republic of the Congo  2017-2019    %   40.4\n",
       "3                                  Haiti  2017-2019    %   47.9\n",
       "4                             Madagascar  2017-2019    %   42.6\n",
       "5                                Somalia  2017-2019    %   57.4\n",
       "6                                  Yemen  2017-2019    %   45.4"
      ]
     },
     "execution_count": 144,
     "metadata": {},
     "output_type": "execute_result"
    }
   ],
   "source": [
    "undernourished_rate_df[(undernourished_rate_df.year=='2017-2019')&(undernourished_rate_df.value>40)].reset_index(drop=True)"
   ]
  },
  {
   "cell_type": "code",
   "execution_count": 145,
   "id": "0a07edbd",
   "metadata": {},
   "outputs": [],
   "source": [
    "countries = ['Central African Republic',\n",
    "       \"Democratic People's Republic of Korea\",\n",
    "       'Democratic Republic of the Congo', 'Haiti', 'Madagascar',\n",
    "       'Somalia', 'Yemen']\n",
    "export_qty = food_supply_df[(food_supply_df.country.isin(countries))&(food_supply_df.element=='Export Quantity')&(food_supply_df.year==2019)].groupby(by=['item', 'year']).sum().sort_values(by='value', ascending=False).reset_index().head(25)"
   ]
  },
  {
   "cell_type": "markdown",
   "id": "c1307a6c",
   "metadata": {},
   "source": [
    "The 25 items the most exported by these countries :"
   ]
  },
  {
   "cell_type": "code",
   "execution_count": 146,
   "id": "1f39d262",
   "metadata": {},
   "outputs": [
    {
     "data": {
      "text/html": [
       "<div>\n",
       "<style scoped>\n",
       "    .dataframe tbody tr th:only-of-type {\n",
       "        vertical-align: middle;\n",
       "    }\n",
       "\n",
       "    .dataframe tbody tr th {\n",
       "        vertical-align: top;\n",
       "    }\n",
       "\n",
       "    .dataframe thead th {\n",
       "        text-align: right;\n",
       "    }\n",
       "</style>\n",
       "<table border=\"1\" class=\"dataframe\">\n",
       "  <thead>\n",
       "    <tr style=\"text-align: right;\">\n",
       "      <th></th>\n",
       "      <th>item</th>\n",
       "      <th>year</th>\n",
       "      <th>value</th>\n",
       "    </tr>\n",
       "  </thead>\n",
       "  <tbody>\n",
       "    <tr>\n",
       "      <th>0</th>\n",
       "      <td>Wheat and products</td>\n",
       "      <td>2019</td>\n",
       "      <td>123.00</td>\n",
       "    </tr>\n",
       "    <tr>\n",
       "      <th>1</th>\n",
       "      <td>Fruits, other</td>\n",
       "      <td>2019</td>\n",
       "      <td>104.00</td>\n",
       "    </tr>\n",
       "    <tr>\n",
       "      <th>2</th>\n",
       "      <td>Onions</td>\n",
       "      <td>2019</td>\n",
       "      <td>67.00</td>\n",
       "    </tr>\n",
       "    <tr>\n",
       "      <th>3</th>\n",
       "      <td>Molluscs, Other</td>\n",
       "      <td>2019</td>\n",
       "      <td>54.99</td>\n",
       "    </tr>\n",
       "    <tr>\n",
       "      <th>4</th>\n",
       "      <td>Groundnuts</td>\n",
       "      <td>2019</td>\n",
       "      <td>47.00</td>\n",
       "    </tr>\n",
       "    <tr>\n",
       "      <th>5</th>\n",
       "      <td>Pelagic Fish</td>\n",
       "      <td>2019</td>\n",
       "      <td>45.73</td>\n",
       "    </tr>\n",
       "    <tr>\n",
       "      <th>6</th>\n",
       "      <td>Bananas</td>\n",
       "      <td>2019</td>\n",
       "      <td>42.00</td>\n",
       "    </tr>\n",
       "    <tr>\n",
       "      <th>7</th>\n",
       "      <td>Cephalopods</td>\n",
       "      <td>2019</td>\n",
       "      <td>37.44</td>\n",
       "    </tr>\n",
       "    <tr>\n",
       "      <th>8</th>\n",
       "      <td>Cocoa Beans and products</td>\n",
       "      <td>2019</td>\n",
       "      <td>35.00</td>\n",
       "    </tr>\n",
       "    <tr>\n",
       "      <th>9</th>\n",
       "      <td>Beans</td>\n",
       "      <td>2019</td>\n",
       "      <td>34.00</td>\n",
       "    </tr>\n",
       "    <tr>\n",
       "      <th>10</th>\n",
       "      <td>Vegetables, other</td>\n",
       "      <td>2019</td>\n",
       "      <td>29.00</td>\n",
       "    </tr>\n",
       "    <tr>\n",
       "      <th>11</th>\n",
       "      <td>Crustaceans</td>\n",
       "      <td>2019</td>\n",
       "      <td>25.67</td>\n",
       "    </tr>\n",
       "    <tr>\n",
       "      <th>12</th>\n",
       "      <td>Marine Fish, Other</td>\n",
       "      <td>2019</td>\n",
       "      <td>25.20</td>\n",
       "    </tr>\n",
       "    <tr>\n",
       "      <th>13</th>\n",
       "      <td>Pulses, Other and products</td>\n",
       "      <td>2019</td>\n",
       "      <td>23.00</td>\n",
       "    </tr>\n",
       "    <tr>\n",
       "      <th>14</th>\n",
       "      <td>Sugar (Raw Equivalent)</td>\n",
       "      <td>2019</td>\n",
       "      <td>21.00</td>\n",
       "    </tr>\n",
       "    <tr>\n",
       "      <th>15</th>\n",
       "      <td>Cloves</td>\n",
       "      <td>2019</td>\n",
       "      <td>15.00</td>\n",
       "    </tr>\n",
       "    <tr>\n",
       "      <th>16</th>\n",
       "      <td>Maize and products</td>\n",
       "      <td>2019</td>\n",
       "      <td>14.00</td>\n",
       "    </tr>\n",
       "    <tr>\n",
       "      <th>17</th>\n",
       "      <td>Nuts and products</td>\n",
       "      <td>2019</td>\n",
       "      <td>12.00</td>\n",
       "    </tr>\n",
       "    <tr>\n",
       "      <th>18</th>\n",
       "      <td>Potatoes and products</td>\n",
       "      <td>2019</td>\n",
       "      <td>11.00</td>\n",
       "    </tr>\n",
       "    <tr>\n",
       "      <th>19</th>\n",
       "      <td>Coffee and products</td>\n",
       "      <td>2019</td>\n",
       "      <td>10.00</td>\n",
       "    </tr>\n",
       "    <tr>\n",
       "      <th>20</th>\n",
       "      <td>Demersal Fish</td>\n",
       "      <td>2019</td>\n",
       "      <td>9.95</td>\n",
       "    </tr>\n",
       "    <tr>\n",
       "      <th>21</th>\n",
       "      <td>Palm Oil</td>\n",
       "      <td>2019</td>\n",
       "      <td>9.00</td>\n",
       "    </tr>\n",
       "    <tr>\n",
       "      <th>22</th>\n",
       "      <td>Spices, Other</td>\n",
       "      <td>2019</td>\n",
       "      <td>5.00</td>\n",
       "    </tr>\n",
       "    <tr>\n",
       "      <th>23</th>\n",
       "      <td>Peas</td>\n",
       "      <td>2019</td>\n",
       "      <td>5.00</td>\n",
       "    </tr>\n",
       "    <tr>\n",
       "      <th>24</th>\n",
       "      <td>Pepper</td>\n",
       "      <td>2019</td>\n",
       "      <td>4.00</td>\n",
       "    </tr>\n",
       "  </tbody>\n",
       "</table>\n",
       "</div>"
      ],
      "text/plain": [
       "                          item  year   value\n",
       "0           Wheat and products  2019  123.00\n",
       "1                Fruits, other  2019  104.00\n",
       "2                       Onions  2019   67.00\n",
       "3              Molluscs, Other  2019   54.99\n",
       "4                   Groundnuts  2019   47.00\n",
       "5                 Pelagic Fish  2019   45.73\n",
       "6                      Bananas  2019   42.00\n",
       "7                  Cephalopods  2019   37.44\n",
       "8     Cocoa Beans and products  2019   35.00\n",
       "9                        Beans  2019   34.00\n",
       "10           Vegetables, other  2019   29.00\n",
       "11                 Crustaceans  2019   25.67\n",
       "12          Marine Fish, Other  2019   25.20\n",
       "13  Pulses, Other and products  2019   23.00\n",
       "14      Sugar (Raw Equivalent)  2019   21.00\n",
       "15                      Cloves  2019   15.00\n",
       "16          Maize and products  2019   14.00\n",
       "17           Nuts and products  2019   12.00\n",
       "18       Potatoes and products  2019   11.00\n",
       "19         Coffee and products  2019   10.00\n",
       "20               Demersal Fish  2019    9.95\n",
       "21                    Palm Oil  2019    9.00\n",
       "22               Spices, Other  2019    5.00\n",
       "23                        Peas  2019    5.00\n",
       "24                      Pepper  2019    4.00"
      ]
     },
     "execution_count": 146,
     "metadata": {},
     "output_type": "execute_result"
    }
   ],
   "source": [
    "export_qty"
   ]
  },
  {
   "cell_type": "markdown",
   "id": "7db829b5",
   "metadata": {},
   "source": [
    "Finding the greatest other_uses to domestic supply quantity ratio amoung these countries :"
   ]
  },
  {
   "cell_type": "code",
   "execution_count": 147,
   "id": "31819355",
   "metadata": {},
   "outputs": [
    {
     "data": {
      "text/html": [
       "<div>\n",
       "<style scoped>\n",
       "    .dataframe tbody tr th:only-of-type {\n",
       "        vertical-align: middle;\n",
       "    }\n",
       "\n",
       "    .dataframe tbody tr th {\n",
       "        vertical-align: top;\n",
       "    }\n",
       "\n",
       "    .dataframe thead th {\n",
       "        text-align: right;\n",
       "    }\n",
       "</style>\n",
       "<table border=\"1\" class=\"dataframe\">\n",
       "  <thead>\n",
       "    <tr style=\"text-align: right;\">\n",
       "      <th></th>\n",
       "      <th>country</th>\n",
       "      <th>item</th>\n",
       "      <th>year</th>\n",
       "      <th>other_use_to_domestic_qty_ratio</th>\n",
       "    </tr>\n",
       "  </thead>\n",
       "  <tbody>\n",
       "    <tr>\n",
       "      <th>0</th>\n",
       "      <td>Yemen</td>\n",
       "      <td>Cephalopods</td>\n",
       "      <td>2019</td>\n",
       "      <td>0.962567</td>\n",
       "    </tr>\n",
       "    <tr>\n",
       "      <th>1</th>\n",
       "      <td>Democratic Republic of the Congo</td>\n",
       "      <td>Coffee and products</td>\n",
       "      <td>2019</td>\n",
       "      <td>0.916667</td>\n",
       "    </tr>\n",
       "    <tr>\n",
       "      <th>2</th>\n",
       "      <td>Madagascar</td>\n",
       "      <td>Palm Oil</td>\n",
       "      <td>2019</td>\n",
       "      <td>0.758929</td>\n",
       "    </tr>\n",
       "    <tr>\n",
       "      <th>3</th>\n",
       "      <td>Haiti</td>\n",
       "      <td>Palm Oil</td>\n",
       "      <td>2019</td>\n",
       "      <td>0.748428</td>\n",
       "    </tr>\n",
       "    <tr>\n",
       "      <th>4</th>\n",
       "      <td>Madagascar</td>\n",
       "      <td>Spices, Other</td>\n",
       "      <td>2019</td>\n",
       "      <td>0.333333</td>\n",
       "    </tr>\n",
       "    <tr>\n",
       "      <th>5</th>\n",
       "      <td>Yemen</td>\n",
       "      <td>Palm Oil</td>\n",
       "      <td>2019</td>\n",
       "      <td>0.178378</td>\n",
       "    </tr>\n",
       "    <tr>\n",
       "      <th>6</th>\n",
       "      <td>Yemen</td>\n",
       "      <td>Sugar (Raw Equivalent)</td>\n",
       "      <td>2019</td>\n",
       "      <td>0.127764</td>\n",
       "    </tr>\n",
       "    <tr>\n",
       "      <th>7</th>\n",
       "      <td>Democratic People's Republic of Korea</td>\n",
       "      <td>Maize and products</td>\n",
       "      <td>2019</td>\n",
       "      <td>0.112583</td>\n",
       "    </tr>\n",
       "    <tr>\n",
       "      <th>8</th>\n",
       "      <td>Madagascar</td>\n",
       "      <td>Fruits, other</td>\n",
       "      <td>2019</td>\n",
       "      <td>0.020710</td>\n",
       "    </tr>\n",
       "    <tr>\n",
       "      <th>9</th>\n",
       "      <td>Madagascar</td>\n",
       "      <td>Maize and products</td>\n",
       "      <td>2019</td>\n",
       "      <td>0.008929</td>\n",
       "    </tr>\n",
       "  </tbody>\n",
       "</table>\n",
       "</div>"
      ],
      "text/plain": [
       "                                 country                    item  year  \\\n",
       "0                                  Yemen             Cephalopods  2019   \n",
       "1       Democratic Republic of the Congo     Coffee and products  2019   \n",
       "2                             Madagascar                Palm Oil  2019   \n",
       "3                                  Haiti                Palm Oil  2019   \n",
       "4                             Madagascar           Spices, Other  2019   \n",
       "5                                  Yemen                Palm Oil  2019   \n",
       "6                                  Yemen  Sugar (Raw Equivalent)  2019   \n",
       "7  Democratic People's Republic of Korea      Maize and products  2019   \n",
       "8                             Madagascar           Fruits, other  2019   \n",
       "9                             Madagascar      Maize and products  2019   \n",
       "\n",
       "   other_use_to_domestic_qty_ratio  \n",
       "0                         0.962567  \n",
       "1                         0.916667  \n",
       "2                         0.758929  \n",
       "3                         0.748428  \n",
       "4                         0.333333  \n",
       "5                         0.178378  \n",
       "6                         0.127764  \n",
       "7                         0.112583  \n",
       "8                         0.020710  \n",
       "9                         0.008929  "
      ]
     },
     "execution_count": 147,
     "metadata": {},
     "output_type": "execute_result"
    }
   ],
   "source": [
    "exported_items = ['Wheat and products', 'Fruits, other', 'Onions', 'Molluscs, Other',\n",
    "       'Groundnuts', 'Pelagic Fish', 'Bananas', 'Cephalopods',\n",
    "       'Cocoa Beans and products', 'Beans', 'Vegetables, other',\n",
    "       'Crustaceans', 'Marine Fish, Other', 'Pulses, Other and products',\n",
    "       'Sugar (Raw Equivalent)', 'Cloves', 'Maize and products',\n",
    "       'Nuts and products', 'Potatoes and products',\n",
    "       'Coffee and products', 'Demersal Fish', 'Palm Oil',\n",
    "       'Spices, Other', 'Peas', 'Pepper'] \n",
    "\n",
    "domestic_supply_quantity = food_supply_df[(food_supply_df.item.isin(exported_items))&(food_supply_df.country.isin(countries))&(food_supply_df.year==2019)&(food_supply_df.element==\"Domestic supply quantity\")].reset_index(drop=True)\n",
    "other_uses = food_supply_df[(food_supply_df.item.isin(exported_items))&(food_supply_df.country.isin(countries))&(food_supply_df.year==2019)&(food_supply_df.element==\"Other uses (non-food)\")].reset_index(drop=True)\n",
    "\n",
    "merge_1 = domestic_supply_quantity.merge(other_uses, how='left', on=['country', 'item', 'year', 'unit'])\n",
    "merge_1[\"other_use_to_domestic_qty_ratio\"] = merge_1[\"value_y\"] / merge_1[\"value_x\"]\n",
    "merge_1 = merge_1.sort_values(by='other_use_to_domestic_qty_ratio', ascending=False)\n",
    "merge_1_filtered = merge_1.filter(items=['country', 'item', 'year', 'other_use_to_domestic_qty_ratio']).dropna().reset_index(drop=True)\n",
    "merge_1_filtered.head(10)"
   ]
  },
  {
   "cell_type": "markdown",
   "id": "b63f6283",
   "metadata": {},
   "source": [
    "Finding the greatest feed to (food+feed) ratio amoung these countries :"
   ]
  },
  {
   "cell_type": "code",
   "execution_count": 148,
   "id": "f8bd0fb5",
   "metadata": {},
   "outputs": [
    {
     "data": {
      "text/html": [
       "<div>\n",
       "<style scoped>\n",
       "    .dataframe tbody tr th:only-of-type {\n",
       "        vertical-align: middle;\n",
       "    }\n",
       "\n",
       "    .dataframe tbody tr th {\n",
       "        vertical-align: top;\n",
       "    }\n",
       "\n",
       "    .dataframe thead th {\n",
       "        text-align: right;\n",
       "    }\n",
       "</style>\n",
       "<table border=\"1\" class=\"dataframe\">\n",
       "  <thead>\n",
       "    <tr style=\"text-align: right;\">\n",
       "      <th></th>\n",
       "      <th>country</th>\n",
       "      <th>item</th>\n",
       "      <th>year</th>\n",
       "      <th>ratio_feed_foodfeed</th>\n",
       "    </tr>\n",
       "  </thead>\n",
       "  <tbody>\n",
       "    <tr>\n",
       "      <th>0</th>\n",
       "      <td>Yemen</td>\n",
       "      <td>Peas</td>\n",
       "      <td>2019</td>\n",
       "      <td>0.636364</td>\n",
       "    </tr>\n",
       "    <tr>\n",
       "      <th>1</th>\n",
       "      <td>Yemen</td>\n",
       "      <td>Maize and products</td>\n",
       "      <td>2019</td>\n",
       "      <td>0.410191</td>\n",
       "    </tr>\n",
       "    <tr>\n",
       "      <th>2</th>\n",
       "      <td>Madagascar</td>\n",
       "      <td>Pelagic Fish</td>\n",
       "      <td>2019</td>\n",
       "      <td>0.299180</td>\n",
       "    </tr>\n",
       "    <tr>\n",
       "      <th>3</th>\n",
       "      <td>Yemen</td>\n",
       "      <td>Pulses, Other and products</td>\n",
       "      <td>2019</td>\n",
       "      <td>0.238806</td>\n",
       "    </tr>\n",
       "    <tr>\n",
       "      <th>4</th>\n",
       "      <td>Haiti</td>\n",
       "      <td>Wheat and products</td>\n",
       "      <td>2019</td>\n",
       "      <td>0.193955</td>\n",
       "    </tr>\n",
       "    <tr>\n",
       "      <th>5</th>\n",
       "      <td>Haiti</td>\n",
       "      <td>Beans</td>\n",
       "      <td>2019</td>\n",
       "      <td>0.180180</td>\n",
       "    </tr>\n",
       "    <tr>\n",
       "      <th>6</th>\n",
       "      <td>Madagascar</td>\n",
       "      <td>Pulses, Other and products</td>\n",
       "      <td>2019</td>\n",
       "      <td>0.166667</td>\n",
       "    </tr>\n",
       "    <tr>\n",
       "      <th>7</th>\n",
       "      <td>Yemen</td>\n",
       "      <td>Potatoes and products</td>\n",
       "      <td>2019</td>\n",
       "      <td>0.135266</td>\n",
       "    </tr>\n",
       "    <tr>\n",
       "      <th>8</th>\n",
       "      <td>Democratic Republic of the Congo</td>\n",
       "      <td>Beans</td>\n",
       "      <td>2019</td>\n",
       "      <td>0.123077</td>\n",
       "    </tr>\n",
       "    <tr>\n",
       "      <th>9</th>\n",
       "      <td>Democratic People's Republic of Korea</td>\n",
       "      <td>Maize and products</td>\n",
       "      <td>2019</td>\n",
       "      <td>0.111043</td>\n",
       "    </tr>\n",
       "  </tbody>\n",
       "</table>\n",
       "</div>"
      ],
      "text/plain": [
       "                                 country                        item  year  \\\n",
       "0                                  Yemen                        Peas  2019   \n",
       "1                                  Yemen          Maize and products  2019   \n",
       "2                             Madagascar                Pelagic Fish  2019   \n",
       "3                                  Yemen  Pulses, Other and products  2019   \n",
       "4                                  Haiti          Wheat and products  2019   \n",
       "5                                  Haiti                       Beans  2019   \n",
       "6                             Madagascar  Pulses, Other and products  2019   \n",
       "7                                  Yemen       Potatoes and products  2019   \n",
       "8       Democratic Republic of the Congo                       Beans  2019   \n",
       "9  Democratic People's Republic of Korea          Maize and products  2019   \n",
       "\n",
       "   ratio_feed_foodfeed  \n",
       "0             0.636364  \n",
       "1             0.410191  \n",
       "2             0.299180  \n",
       "3             0.238806  \n",
       "4             0.193955  \n",
       "5             0.180180  \n",
       "6             0.166667  \n",
       "7             0.135266  \n",
       "8             0.123077  \n",
       "9             0.111043  "
      ]
     },
     "execution_count": 148,
     "metadata": {},
     "output_type": "execute_result"
    }
   ],
   "source": [
    "food = food_supply_df[(food_supply_df.item.isin(exported_items))&(food_supply_df.country.isin(countries))&(food_supply_df.year==2019)&(food_supply_df.element==\"Food\")].reset_index(drop=True)\n",
    "feed = food_supply_df[(food_supply_df.item.isin(exported_items))&(food_supply_df.country.isin(countries))&(food_supply_df.year==2019)&(food_supply_df.element==\"Feed\")].reset_index(drop=True)\n",
    "\n",
    "merge_2 = food.merge(feed, how='left', on=['country', 'item', 'year', 'unit'])\n",
    "merge_2['ratio_feed_foodfeed'] = (merge_2['value_y'] / (merge_2['value_x'] + merge_2['value_y']))\n",
    "merge_2 = merge_2.sort_values(by='ratio_feed_foodfeed', ascending=False)\n",
    "merge_2_filtered = merge_2.filter(items=['country', 'item', 'year', 'ratio_feed_foodfeed']).dropna().reset_index(drop=True)\n",
    "merge_2_filtered.head(10)"
   ]
  },
  {
   "cell_type": "markdown",
   "id": "96060cfa",
   "metadata": {},
   "source": [
    "#### Conclusion 1 :"
   ]
  },
  {
   "cell_type": "markdown",
   "id": "659e27d1",
   "metadata": {},
   "source": [
    "The items with the greatest other_uses to domestic_supply_quantity ratio  are used in applications other than food such as inedible products : caffeine in coffee for anti-aging creams, gardening soil. Fruits and spices in shampoo or soap for their flavours. That is why they are accounted for under \"industrial use\" or \"other uses\" and not \"food\"."
   ]
  },
  {
   "cell_type": "markdown",
   "id": "47c275b8",
   "metadata": {},
   "source": [
    "#### Conclusion 2 :"
   ]
  },
  {
   "cell_type": "markdown",
   "id": "bb995a92",
   "metadata": {},
   "source": [
    "Cereales, peas and pulses are fed in large quantities to animals as a source of energy because of their high starch content."
   ]
  },
  {
   "cell_type": "markdown",
   "id": "911637fe",
   "metadata": {},
   "source": [
    "### Question 6"
   ]
  },
  {
   "cell_type": "code",
   "execution_count": 149,
   "id": "2eef6b8f",
   "metadata": {},
   "outputs": [],
   "source": [
    "x21 = df_plants_2019[((df_plants_2019.element==\"Food\")|(df_plants_2019.element==\"Feed\"))&(df_plants_2019.item==\"Cereals, Other\")].value.sum()\n",
    "x22 = df_plants_2019[(df_plants_2019.element==\"Feed\")&(df_plants_2019.item==\"Cereals, Other\")].value.sum()"
   ]
  },
  {
   "cell_type": "markdown",
   "id": "a50a85bc",
   "metadata": {},
   "source": [
    "#### Calculating the proportion of cereal used for feed : "
   ]
  },
  {
   "cell_type": "code",
   "execution_count": 150,
   "id": "63032e74",
   "metadata": {},
   "outputs": [
    {
     "data": {
      "text/plain": [
       "70.71351683838229"
      ]
     },
     "execution_count": 150,
     "metadata": {},
     "output_type": "execute_result"
    }
   ],
   "source": [
    "x22/x21 * 100"
   ]
  },
  {
   "cell_type": "markdown",
   "id": "9f646190",
   "metadata": {},
   "source": [
    "#### Conclusion :"
   ]
  },
  {
   "cell_type": "markdown",
   "id": "493c9e75",
   "metadata": {},
   "source": [
    "70% of cereals are used to feed livestock which is then either used for labour or fed back to humans.\n",
    "​"
   ]
  },
  {
   "cell_type": "markdown",
   "id": "8fc4b730",
   "metadata": {},
   "source": [
    "### Question 7"
   ]
  },
  {
   "cell_type": "code",
   "execution_count": 151,
   "id": "4990d829",
   "metadata": {},
   "outputs": [
    {
     "data": {
      "text/plain": [
       "1545245050000.0"
      ]
     },
     "execution_count": 151,
     "metadata": {},
     "output_type": "execute_result"
    }
   ],
   "source": [
    "df_animals_2019[(df_animals_2019.element==\"Production\")].value.sum() * 1000000"
   ]
  },
  {
   "cell_type": "code",
   "execution_count": 152,
   "id": "3cedd242",
   "metadata": {},
   "outputs": [],
   "source": [
    "cereals = ['Wheat and products', 'Rice and products', 'Barley and products','Maize and products', 'Rye and products', 'Oats', 'Millet and products', 'Sorghum and products', 'Cereals, Other']\n",
    "cereals_release_2019 = df_plants_2019[(df_plants_2019.item.isin(cereals))&(df_plants_2019.element=='Feed')&(df_plants_2019.country=='United States of America')].reset_index()\n",
    "cereals_release_2019_sum = (df_plants_2019[(df_plants_2019.item.isin(cereals))&(df_plants_2019.element=='Feed')&(df_plants_2019.country=='United States of America')].value.sum() * 1000) * 0.1"
   ]
  },
  {
   "cell_type": "markdown",
   "id": "a9a0d063",
   "metadata": {},
   "source": [
    "Quantity in weight of food that could be released :"
   ]
  },
  {
   "cell_type": "code",
   "execution_count": 153,
   "id": "34603192",
   "metadata": {},
   "outputs": [
    {
     "data": {
      "text/plain": [
       "439588151408678.5"
      ]
     },
     "execution_count": 153,
     "metadata": {},
     "output_type": "execute_result"
    }
   ],
   "source": [
    "cereals_release_2019_kcal = cereals_release_2019.merge(ratio_kcal_kg_conc4, how='left', on=['country', 'item'])\n",
    "cereals_release_2019_kcal['cereals_release_2019_kcal'] = cereals_release_2019_kcal['value'] * 1000000 * cereals_release_2019_kcal['ratio_kcal_kg_2019']\n",
    "cereals_release_2019_kcal.cereals_release_2019_kcal.sum()"
   ]
  },
  {
   "cell_type": "markdown",
   "id": "75fa9740",
   "metadata": {},
   "source": [
    "Number of humans that could be fed with a daily intake of 2200 calories :"
   ]
  },
  {
   "cell_type": "code",
   "execution_count": 154,
   "id": "a37ed7dd",
   "metadata": {},
   "outputs": [
    {
     "data": {
      "text/plain": [
       "547432318.0680928"
      ]
     },
     "execution_count": 154,
     "metadata": {},
     "output_type": "execute_result"
    }
   ],
   "source": [
    "cereals_release_2019_kcal.cereals_release_2019_kcal.sum() / (2200 * 365)"
   ]
  },
  {
   "cell_type": "markdown",
   "id": "3eac6ff6",
   "metadata": {},
   "source": [
    "#### Conclusion :"
   ]
  },
  {
   "cell_type": "markdown",
   "id": "b2914339",
   "metadata": {},
   "source": [
    "If the United States of America reduced their production of animal products, thus reducing by 10% the amount of food \"fed\" to animals, it could release 15,813,600 tonnes of food from grains which is approximately equal to 4.4e14 kcal of food. This same amount of food could provide 2200 kcal daily to 547,4 million people, which represents 7.1% of the global population."
   ]
  },
  {
   "cell_type": "markdown",
   "id": "691d3f88",
   "metadata": {},
   "source": [
    "### Question 8"
   ]
  },
  {
   "cell_type": "code",
   "execution_count": 155,
   "id": "fb93d8b6",
   "metadata": {},
   "outputs": [
    {
     "data": {
      "text/plain": [
       "75.35163449413133"
      ]
     },
     "execution_count": 155,
     "metadata": {},
     "output_type": "execute_result"
    }
   ],
   "source": [
    "exports_cassava_thailand_2019 = df_plants_2019[(df_plants_2019.country==\"Thailand\")&(df_plants_2019.item==\"Cassava and products\")]\n",
    "(exports_cassava_thailand_2019[(exports_cassava_thailand_2019.element=='Export Quantity')].value.sum() / exports_cassava_thailand_2019[(exports_cassava_thailand_2019.element=='Domestic supply quantity')].value.sum())*100"
   ]
  },
  {
   "cell_type": "code",
   "execution_count": 156,
   "id": "73a912ab",
   "metadata": {},
   "outputs": [
    {
     "data": {
      "text/html": [
       "<div>\n",
       "<style scoped>\n",
       "    .dataframe tbody tr th:only-of-type {\n",
       "        vertical-align: middle;\n",
       "    }\n",
       "\n",
       "    .dataframe tbody tr th {\n",
       "        vertical-align: top;\n",
       "    }\n",
       "\n",
       "    .dataframe thead th {\n",
       "        text-align: right;\n",
       "    }\n",
       "</style>\n",
       "<table border=\"1\" class=\"dataframe\">\n",
       "  <thead>\n",
       "    <tr style=\"text-align: right;\">\n",
       "      <th></th>\n",
       "      <th>country</th>\n",
       "      <th>year</th>\n",
       "      <th>unit</th>\n",
       "      <th>value</th>\n",
       "    </tr>\n",
       "  </thead>\n",
       "  <tbody>\n",
       "    <tr>\n",
       "      <th>0</th>\n",
       "      <td>Thailand</td>\n",
       "      <td>2017-2019</td>\n",
       "      <td>%</td>\n",
       "      <td>7.9</td>\n",
       "    </tr>\n",
       "  </tbody>\n",
       "</table>\n",
       "</div>"
      ],
      "text/plain": [
       "    country       year unit  value\n",
       "0  Thailand  2017-2019    %    7.9"
      ]
     },
     "execution_count": 156,
     "metadata": {},
     "output_type": "execute_result"
    }
   ],
   "source": [
    "undernourished_rate_df[(undernourished_rate_df.year=='2017-2019')&(undernourished_rate_df.country=='Thailand')].reset_index(drop=True)"
   ]
  },
  {
   "cell_type": "markdown",
   "id": "6e6b3164",
   "metadata": {},
   "source": [
    "#### Conclusion :"
   ]
  },
  {
   "cell_type": "markdown",
   "id": "f43af3c8",
   "metadata": {},
   "source": [
    "75% of cassava from the global domestic supply quantity is exported and the proportion of undernutrition is 7.9%."
   ]
  },
  {
   "cell_type": "markdown",
   "id": "b97c3531",
   "metadata": {},
   "source": [
    "## Task 6 : Computing new variables\n"
   ]
  },
  {
   "cell_type": "markdown",
   "id": "fc5e86ab",
   "metadata": {},
   "source": [
    "Causes of hunger : \n",
    "\n",
    "    - food shortages leading to global food supply < global food utilization\n",
    "    - poor nutrition; in order to thrive, humans need a range of foods providing a variety of essential health benefits. Families living in poverty often rely on just one or two staple foods (like corn or wheat)\n",
    "    - food waste, according to the World Food Programme, one-third of all food produced — over 1.3 billion tons of it — is never consumed and costs energy to be produced which ultimatly has a double negative effect on already undernourished countries.\n",
    "    - demography, if the population of a country and its food supply don't increase proportionaly, then food utilization could exceed food supply, leading to starvation.\n",
    "    - utilization of food in feeding animals which will then be transformed into meat products; For instance, it takes 2.5 pounds of grain to produce 1 pound of beef and 100 litres of water; An average calf weighs 600 pounds before it starts eating grains..."
   ]
  },
  {
   "cell_type": "markdown",
   "id": "8ef4f67b",
   "metadata": {},
   "source": [
    "Number of people going to bed hungry in 1000 people : "
   ]
  },
  {
   "cell_type": "code",
   "execution_count": 157,
   "id": "1d0c789e",
   "metadata": {},
   "outputs": [
    {
     "data": {
      "text/html": [
       "<div>\n",
       "<style scoped>\n",
       "    .dataframe tbody tr th:only-of-type {\n",
       "        vertical-align: middle;\n",
       "    }\n",
       "\n",
       "    .dataframe tbody tr th {\n",
       "        vertical-align: top;\n",
       "    }\n",
       "\n",
       "    .dataframe thead th {\n",
       "        text-align: right;\n",
       "    }\n",
       "</style>\n",
       "<table border=\"1\" class=\"dataframe\">\n",
       "  <thead>\n",
       "    <tr style=\"text-align: right;\">\n",
       "      <th></th>\n",
       "      <th>year</th>\n",
       "      <th>value</th>\n",
       "    </tr>\n",
       "  </thead>\n",
       "  <tbody>\n",
       "    <tr>\n",
       "      <th>0</th>\n",
       "      <td>2009-2011</td>\n",
       "      <td>613.52</td>\n",
       "    </tr>\n",
       "    <tr>\n",
       "      <th>1</th>\n",
       "      <td>2011-2013</td>\n",
       "      <td>600.52</td>\n",
       "    </tr>\n",
       "    <tr>\n",
       "      <th>2</th>\n",
       "      <td>2013-2015</td>\n",
       "      <td>587.42</td>\n",
       "    </tr>\n",
       "    <tr>\n",
       "      <th>3</th>\n",
       "      <td>2015-2017</td>\n",
       "      <td>585.12</td>\n",
       "    </tr>\n",
       "    <tr>\n",
       "      <th>4</th>\n",
       "      <td>2017-2019</td>\n",
       "      <td>601.72</td>\n",
       "    </tr>\n",
       "  </tbody>\n",
       "</table>\n",
       "</div>"
      ],
      "text/plain": [
       "        year   value\n",
       "0  2009-2011  613.52\n",
       "1  2011-2013  600.52\n",
       "2  2013-2015  587.42\n",
       "3  2015-2017  585.12\n",
       "4  2017-2019  601.72"
      ]
     },
     "execution_count": 157,
     "metadata": {},
     "output_type": "execute_result"
    }
   ],
   "source": [
    "population_undernourished_df_grouped"
   ]
  },
  {
   "cell_type": "code",
   "execution_count": 158,
   "id": "16dc8ba2",
   "metadata": {
    "scrolled": true
   },
   "outputs": [
    {
     "data": {
      "text/plain": [
       "[Text(0.5, 1.0, 'Total population undernourished (unit = 1000 people)')]"
      ]
     },
     "execution_count": 158,
     "metadata": {},
     "output_type": "execute_result"
    },
    {
     "data": {
      "image/png": "[encoded data removed]",
      "text/plain": [
       "<Figure size 432x288 with 1 Axes>"
      ]
     },
     "metadata": {
      "needs_background": "light"
     },
     "output_type": "display_data"
    }
   ],
   "source": [
    "ax = sns.regplot(x=[1, 2, 3, 4 ,5], y=\"value\", data=population_undernourished_df_grouped,\n",
    "                 scatter_kws={\"s\": 80},\n",
    "                 order=2, ci=None)\n",
    "ax.set(xticks=np.arange(1, 6, 1))\n",
    "ax.set_xticklabels(['2010','2012','2014', '2016', '2018'])\n",
    "ax.set(title='Total population undernourished (unit = 1000 people)')"
   ]
  },
  {
   "cell_type": "markdown",
   "id": "18087b96",
   "metadata": {},
   "source": [
    "#### Conclusion :"
   ]
  },
  {
   "cell_type": "markdown",
   "id": "804dd4a8",
   "metadata": {},
   "source": [
    "1 in 9 people go to bed hungry. Statistics showed progress that is slowly fading away. Climate change will increase food insecurity. Food production will be impactted by the increase of the temperature of the atmosphere (rise the sea levels, change in climate metrics, fauna species extinction...)."
   ]
  },
  {
   "cell_type": "markdown",
   "id": "1bd341ba",
   "metadata": {},
   "source": [
    "Number of people in a sever state of food insecurity :"
   ]
  },
  {
   "cell_type": "code",
   "execution_count": 163,
   "id": "cb97a8bb",
   "metadata": {},
   "outputs": [],
   "source": [
    "severely_undernourished_people = pd.read_csv('severely_undernourished_people.csv')  \n",
    "\n",
    "severely_undernourished_people_df = pd.DataFrame(severely_undernourished_people)  \n",
    "severely_undernourished_people_df = severely_undernourished_people_df.drop(columns={'Note','Item Code', 'Element Code', 'Year Code', 'Flag','Flag Description','Area Code (FAO)','Domain','Domain Code'})\n",
    "severely_undernourished_people_df = severely_undernourished_people_df.rename(columns={'Area':'country', 'Value':'value'})\n",
    "severely_undernourished_people_df.columns = severely_undernourished_people_df.columns.str.strip().str.replace(' ', '_').str.lower()\n",
    "severely_undernourished_people_df = severely_undernourished_people_df.replace({'<':'', 'Nan':''}, regex=True)\n",
    "severely_undernourished_people_df.value = pd.to_numeric(severely_undernourished_people_df.value)"
   ]
  },
  {
   "cell_type": "code",
   "execution_count": 164,
   "id": "11bc07be",
   "metadata": {},
   "outputs": [
    {
     "data": {
      "text/html": [
       "<div>\n",
       "<style scoped>\n",
       "    .dataframe tbody tr th:only-of-type {\n",
       "        vertical-align: middle;\n",
       "    }\n",
       "\n",
       "    .dataframe tbody tr th {\n",
       "        vertical-align: top;\n",
       "    }\n",
       "\n",
       "    .dataframe thead th {\n",
       "        text-align: right;\n",
       "    }\n",
       "</style>\n",
       "<table border=\"1\" class=\"dataframe\">\n",
       "  <thead>\n",
       "    <tr style=\"text-align: right;\">\n",
       "      <th></th>\n",
       "      <th>index</th>\n",
       "      <th>year</th>\n",
       "      <th>value</th>\n",
       "    </tr>\n",
       "  </thead>\n",
       "  <tbody>\n",
       "    <tr>\n",
       "      <th>0</th>\n",
       "      <td>0</td>\n",
       "      <td>2015-2017</td>\n",
       "      <td>208.0</td>\n",
       "    </tr>\n",
       "    <tr>\n",
       "      <th>1</th>\n",
       "      <td>1</td>\n",
       "      <td>2017-2019</td>\n",
       "      <td>259.1</td>\n",
       "    </tr>\n",
       "    <tr>\n",
       "      <th>2</th>\n",
       "      <td>2</td>\n",
       "      <td>2018-2020</td>\n",
       "      <td>358.1</td>\n",
       "    </tr>\n",
       "  </tbody>\n",
       "</table>\n",
       "</div>"
      ],
      "text/plain": [
       "   index       year  value\n",
       "0      0  2015-2017  208.0\n",
       "1      1  2017-2019  259.1\n",
       "2      2  2018-2020  358.1"
      ]
     },
     "execution_count": 164,
     "metadata": {},
     "output_type": "execute_result"
    }
   ],
   "source": [
    "severely_undernourished_people_df_grouped = severely_undernourished_people_df.groupby(by=['year']).sum().reset_index()\n",
    "severely_undernourished_people_df_grouped = severely_undernourished_people_df_grouped.reset_index()\n",
    "severely_undernourished_people_df_grouped"
   ]
  },
  {
   "cell_type": "code",
   "execution_count": 165,
   "id": "9913265a",
   "metadata": {},
   "outputs": [
    {
     "data": {
      "text/plain": [
       "[Text(0.5, 1.0, 'Total population severely undernourished (unit = 1000 people)')]"
      ]
     },
     "execution_count": 165,
     "metadata": {},
     "output_type": "execute_result"
    },
    {
     "data": {
      "image/png": "[encoded data removed]",
      "text/plain": [
       "<Figure size 432x288 with 1 Axes>"
      ]
     },
     "metadata": {
      "needs_background": "light"
     },
     "output_type": "display_data"
    }
   ],
   "source": [
    "ax2 = sns.regplot(x=[1, 2, 3], y=\"value\", data=severely_undernourished_people_df_grouped,\n",
    "                 scatter_kws={\"s\": 80},\n",
    "                 order=2, ci=None)\n",
    "ax2.set(xticks=np.arange(1, 4, 1))\n",
    "ax2.set_xticklabels(['2016','2018','2019'])\n",
    "ax2.set(title='Total population severely undernourished (unit = 1000 people)')"
   ]
  },
  {
   "cell_type": "markdown",
   "id": "bc7821cd",
   "metadata": {},
   "source": [
    "Now looking for the projected population :"
   ]
  },
  {
   "cell_type": "code",
   "execution_count": 166,
   "id": "18db727f",
   "metadata": {},
   "outputs": [],
   "source": [
    "total_population = pd.read_csv('total_population.csv')  \n",
    "\n",
    "total_population_df = pd.DataFrame(total_population)  \n",
    "total_population_df = total_population_df.drop(columns={'Item Code', 'Element Code', 'Year Code', 'Flag','Flag Description','Area Code (FAO)','Domain','Domain Code'})\n",
    "total_population_df = total_population_df.rename(columns={'Area':'country', 'Value':'population'})\n",
    "total_population_df.columns = total_population_df.columns.str.strip().str.replace(' ', '_').str.lower()"
   ]
  },
  {
   "cell_type": "code",
   "execution_count": 167,
   "id": "591886d3",
   "metadata": {},
   "outputs": [],
   "source": [
    "total_population_df_grouped = total_population_df.groupby(by=['year']).sum().reset_index()\n",
    "total_population_df_grouped = total_population_df_grouped.reset_index()"
   ]
  },
  {
   "cell_type": "code",
   "execution_count": 169,
   "id": "6940e6e1",
   "metadata": {},
   "outputs": [],
   "source": [
    "from scipy import stats\n",
    "slope, intercept, r_value, p_value, std_err = stats.linregress(total_population_df_grouped['index'],total_population_df_grouped['population'])"
   ]
  },
  {
   "cell_type": "code",
   "execution_count": 170,
   "id": "2ec3d66a",
   "metadata": {},
   "outputs": [
    {
     "data": {
      "text/plain": [
       "(159838.18000000008,\n",
       " 6902407.963333333,\n",
       " 0.9938709704986564,\n",
       " 5.6232385437847505e-05,\n",
       " 8889.245601777331)"
      ]
     },
     "execution_count": 170,
     "metadata": {},
     "output_type": "execute_result"
    }
   ],
   "source": [
    "slope, intercept, r_value, p_value, std_err"
   ]
  },
  {
   "cell_type": "markdown",
   "id": "41674c25",
   "metadata": {},
   "source": [
    "We find ourself in the case of a linear relationship and the plot clearly shows that we have a good model to predict the total population in 2050 with a R_value of 0.9938."
   ]
  },
  {
   "cell_type": "code",
   "execution_count": 171,
   "id": "4310dae2",
   "metadata": {},
   "outputs": [
    {
     "data": {
      "text/plain": [
       "[Text(0.5, 1.0, 'Evolution of the global population')]"
      ]
     },
     "execution_count": 171,
     "metadata": {},
     "output_type": "execute_result"
    },
    {
     "data": {
      "image/png": "[encoded data removed]",
      "text/plain": [
       "<Figure size 432x288 with 1 Axes>"
      ]
     },
     "metadata": {
      "needs_background": "light"
     },
     "output_type": "display_data"
    }
   ],
   "source": [
    "reg = sns.regplot(x='index', y='population', data=total_population_df_grouped, line_kws={'label':\"y={0:.1f}x+{1:.1f}\".format(slope,intercept)})\n",
    "reg.legend()\n",
    "reg.set(title='Evolution of the global population')"
   ]
  },
  {
   "cell_type": "code",
   "execution_count": 172,
   "id": "0eccd438",
   "metadata": {},
   "outputs": [
    {
     "data": {
      "text/plain": [
       "7701598.863333333"
      ]
     },
     "execution_count": 172,
     "metadata": {},
     "output_type": "execute_result"
    }
   ],
   "source": [
    "x_year_index = 5\n",
    "y_population = 159838.18000000008 * x_year_index + 6902407.963333333\n",
    "y_population"
   ]
  },
  {
   "cell_type": "markdown",
   "id": "d843b833",
   "metadata": {},
   "source": [
    "Total predicted population in 2050 : "
   ]
  },
  {
   "cell_type": "code",
   "execution_count": 173,
   "id": "ea2710a7",
   "metadata": {},
   "outputs": [
    {
     "data": {
      "text/plain": [
       "13136096983"
      ]
     },
     "execution_count": 173,
     "metadata": {},
     "output_type": "execute_result"
    }
   ],
   "source": [
    "x_year_index = 39\n",
    "y_population = 159838.18000000008 * x_year_index + 6902407.963333333\n",
    "pop_2050 = int(y_population * 1000)\n",
    "pop_2050"
   ]
  },
  {
   "cell_type": "markdown",
   "id": "50478a2c",
   "metadata": {},
   "source": [
    "... the population increased by 71% from 2019 to 2050; let's study the relationship between food and population both sex and try and predict by how much food production should be increased to meet our needs in 2050 :"
   ]
  },
  {
   "cell_type": "code",
   "execution_count": 174,
   "id": "757a7bcb",
   "metadata": {},
   "outputs": [],
   "source": [
    "total_food_supply = pd.read_csv('total_food_supply.csv')\n",
    "\n",
    "total_food_supply_df = pd.DataFrame(total_food_supply) \n",
    "total_food_supply_df.columns = total_food_supply_df.columns.str.strip().str.replace(' ', '_').str.lower()   \n",
    "total_food_supply_df = total_food_supply_df.drop(['item_code', 'element_code', 'year_code', 'flag','flag_description','area_code_(fao)','domain','domain_code'], axis=1).rename(columns={'area':'country'})"
   ]
  },
  {
   "cell_type": "code",
   "execution_count": 175,
   "id": "89269a7b",
   "metadata": {},
   "outputs": [],
   "source": [
    "year = [2010, 2012, 2014, 2016, 2018, 2019]\n",
    "total_food_supply_df_filtered = total_food_supply_df[(total_food_supply_df.element=='Food')&(total_food_supply_df.year.isin(year))]\n",
    "total_food_supply_df_filtered = total_food_supply_df_filtered.rename(columns={'value':'food_1000T'}).groupby(['country', 'element', 'unit', 'year']).sum().reset_index()\n",
    "total_food_supply_merge = total_food_supply_df_filtered.merge(total_population_df, how='left', on='country')"
   ]
  },
  {
   "cell_type": "code",
   "execution_count": 176,
   "id": "51d7a20a",
   "metadata": {},
   "outputs": [],
   "source": [
    "food_1000T = total_food_supply_df_filtered.groupby(by=['year']).sum().reset_index()"
   ]
  },
  {
   "cell_type": "code",
   "execution_count": 177,
   "id": "649c73b0",
   "metadata": {},
   "outputs": [],
   "source": [
    "total_pop_food_1000T = total_population_df_grouped.merge(food_1000T, how='left', on='year')"
   ]
  },
  {
   "cell_type": "code",
   "execution_count": 178,
   "id": "25269ee6",
   "metadata": {},
   "outputs": [],
   "source": [
    "from scipy import stats\n",
    "slope2, intercept2, r_value2, p_value2, std_err2 = stats.linregress(total_pop_food_1000T['population'],total_pop_food_1000T['food_1000T'])"
   ]
  },
  {
   "cell_type": "markdown",
   "id": "576b6b8e",
   "metadata": {},
   "source": [
    "Food consumption in function of population"
   ]
  },
  {
   "cell_type": "code",
   "execution_count": 179,
   "id": "b1c44798",
   "metadata": {},
   "outputs": [
    {
     "data": {
      "text/plain": [
       "[Text(0.5, 1.0, 'Food consumption in function of population')]"
      ]
     },
     "execution_count": 179,
     "metadata": {},
     "output_type": "execute_result"
    },
    {
     "data": {
      "image/png": "[encoded data removed]",
      "text/plain": [
       "<Figure size 432x288 with 1 Axes>"
      ]
     },
     "metadata": {
      "needs_background": "light"
     },
     "output_type": "display_data"
    }
   ],
   "source": [
    "reg2 = sns.regplot(x='population', y='food_1000T', data=total_pop_food_1000T, line_kws={'label':\"y={0:.1f}x+{1:.1f}\".format(slope2,intercept2)})\n",
    "reg2.legend()\n",
    "reg2.set(title='Food consumption in function of population')"
   ]
  },
  {
   "cell_type": "markdown",
   "id": "0fa1fd80",
   "metadata": {},
   "source": [
    "Predicting the food consumption from the total predicted population in 2050 :"
   ]
  },
  {
   "cell_type": "code",
   "execution_count": 180,
   "id": "f6e13a1b",
   "metadata": {},
   "outputs": [
    {
     "data": {
      "text/plain": [
       "10800398.57068184"
      ]
     },
     "execution_count": 180,
     "metadata": {},
     "output_type": "execute_result"
    }
   ],
   "source": [
    "x_population = pop_2050 / 1000\n",
    "y_food_pred = 0.9787065904066526 * x_population - 2055986.1188012054\n",
    "y_food_pred"
   ]
  },
  {
   "cell_type": "code",
   "execution_count": 181,
   "id": "4144ff18",
   "metadata": {},
   "outputs": [
    {
     "data": {
      "text/plain": [
       "1.9880696277581076"
      ]
     },
     "execution_count": 181,
     "metadata": {},
     "output_type": "execute_result"
    }
   ],
   "source": [
    "y_food_pred / total_pop_food_1000T[(total_pop_food_1000T.year==2019)].food_1000T.sum()"
   ]
  },
  {
   "cell_type": "markdown",
   "id": "3280d134",
   "metadata": {},
   "source": [
    "#### Final conclusion : "
   ]
  },
  {
   "cell_type": "markdown",
   "id": "9fed71dd",
   "metadata": {},
   "source": [
    "In order to feed the global population in 2050, the global food supply will need to increase two fold (98%). Doing that with a farming-as-usual approach would take too heavy a toll on our natural resources and the number of people dying from starvation will continuously increase...\n",
    "\n",
    "The solutions are there, we only need to implement them as soon as possible : \n",
    "- reducing growth in demand for food and other agricultural products\n",
    "- increasing food production without expanding agricultural land\n",
    "- preserving natural ecosystems by reducing our global footprint\n",
    "- reducing meat production and alocating the energy saved to production from clean agriculture."
   ]
  },
  {
   "cell_type": "code",
   "execution_count": null,
   "id": "ef345e8b",
   "metadata": {},
   "outputs": [],
   "source": []
  }
 ],
 "metadata": {
  "kernelspec": {
   "display_name": "Python 3",
   "language": "python",
   "name": "python3"
  },
  "language_info": {
   "codemirror_mode": {
    "name": "ipython",
    "version": 3
   },
   "file_extension": ".py",
   "mimetype": "text/x-python",
   "name": "python",
   "nbconvert_exporter": "python",
   "pygments_lexer": "ipython3",
   "version": "3.9.16 (main, Mar  1 2023, 12:19:04) \n[Clang 14.0.6 ]"
  },
  "vscode": {
   "interpreter": {
    "hash": "140bda2acd4c56be24cd7c98731dd9924fb409a27cc59bcdd0c083f946a1478a"
   }
  }
 },
 "nbformat": 4,
 "nbformat_minor": 5
}
